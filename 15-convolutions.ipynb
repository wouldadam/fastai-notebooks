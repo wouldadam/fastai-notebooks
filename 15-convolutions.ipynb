{
 "cells": [
  {
   "cell_type": "code",
   "execution_count": 3,
   "id": "dc495ae7",
   "metadata": {},
   "outputs": [],
   "source": [
    "# |default_exp conv"
   ]
  },
  {
   "cell_type": "code",
   "execution_count": 1,
   "id": "ade998ba",
   "metadata": {},
   "outputs": [],
   "source": [
    "# |export\n",
    "\n",
    "from typing import Mapping\n",
    "\n",
    "import torch\n",
    "from torch import nn\n",
    "from torch.utils.data import default_collate"
   ]
  },
  {
   "cell_type": "code",
   "execution_count": null,
   "id": "d0344cd3",
   "metadata": {},
   "outputs": [],
   "source": [
    "import miniai.datasets as ds\n",
    "import miniai.training as tr"
   ]
  },
  {
   "cell_type": "markdown",
   "id": "d7ebb45c",
   "metadata": {},
   "source": [
    "# Convolutions\n",
    "\n",
    "Allow us to tell our network something about the structure of the problem that might make it easier to solve.\n",
    "\n",
    "For images, images are layed out on a 2D BW/ 3D color grid. There are generally relationships between close pixels, relationships across dimensions, similar pixel often represent similar things etc.\n",
    "\n",
    "Images have features, distinct attributes."
   ]
  },
  {
   "cell_type": "markdown",
   "id": "89b70a28",
   "metadata": {},
   "source": [
    "## Data"
   ]
  },
  {
   "cell_type": "code",
   "execution_count": 5,
   "id": "10f0fa89",
   "metadata": {},
   "outputs": [],
   "source": [
    "# Download the MNIST dataset\n",
    "import gzip\n",
    "import pickle\n",
    "import matplotlib as mpl\n",
    "import matplotlib.pyplot as plt\n",
    "from torch import tensor\n",
    "from pathlib import Path\n",
    "from urllib.request import urlretrieve\n",
    "\n",
    "MNIST_URL = \"https://github.com/mnielsen/neural-networks-and-deep-learning/blob/master/data/mnist.pkl.gz?raw=true\"\n",
    "\n",
    "data_path = Path(\"data/mnist\")\n",
    "data_path.mkdir(exist_ok=True)\n",
    "gz_path = data_path / \"mnist.pkl.gz\"\n",
    "\n",
    "mpl.rcParams[\"image.cmap\"] = \"gray\"\n",
    "\n",
    "if not gz_path.exists():\n",
    "    urlretrieve(MNIST_URL, gz_path)\n",
    "\n",
    "# File contains a tuple of tuples for the x and y, train and validation data\n",
    "# Images are 28x28\n",
    "with gzip.open(gz_path, \"rb\") as file:\n",
    "    ((x_train, y_train), (x_valid, y_valid), _) = pickle.load(file, encoding=\"latin-1\")\n",
    "\n",
    "# Put into tensors\n",
    "x_train, y_train, x_valid, y_valid = map(tensor, [x_train, y_train, x_valid, y_valid])"
   ]
  },
  {
   "cell_type": "markdown",
   "id": "9b175f84",
   "metadata": {},
   "source": [
    "## Convolution equations\n",
    "\n",
    "See [CNNs from different viewpoints](https://medium.com/impactai/cnns-from-different-viewpoints-fab7f52d159c).\n",
    "\n",
    "Convolutions have an input (think of it as a grid) and a kernel (think of it as another grid, and as a filter).\n",
    "\n",
    "Eg a 3x3 input:\n",
    "\n",
    "```\n",
    "ABC\n",
    "DEF\n",
    "GHJ\n",
    "```\n",
    "\n",
    "and a 2x2 kernel:\n",
    "\n",
    "```\n",
    "jk\n",
    "lm\n",
    "```\n",
    "\n",
    "with an output:\n",
    "\n",
    "```\n",
    "PQ\n",
    "RS\n",
    "```\n",
    "\n",
    "We slide the kernel along the input, putting the result in the top left of the output..\n",
    "\n",
    "```\n",
    "P = j*A + k*B + l*D + m*E + bias\n",
    "```\n",
    "\n",
    "then we \"slide along one\"\n",
    "\n",
    "```\n",
    "Q = j*B + k*C + l*E + m*F + bias\n",
    "```\n",
    "\n",
    "and so on for the next row of output:\n",
    "\n",
    "```\n",
    "R = j*D + k*E + l*G + m*H  + bias\n",
    "S = j*E + k*F + l*H + m*J  + bias\n",
    "```"
   ]
  },
  {
   "cell_type": "code",
   "execution_count": 6,
   "id": "9e3748a1",
   "metadata": {},
   "outputs": [
    {
     "data": {
      "text/plain": [
       "<Axes: >"
      ]
     },
     "execution_count": 6,
     "metadata": {},
     "output_type": "execute_result"
    },
    {
     "data": {
      "image/png": "[encoded data removed]",
      "text/plain": [
       "<Figure size 192x144 with 1 Axes>"
      ]
     },
     "metadata": {},
     "output_type": "display_data"
    }
   ],
   "source": [
    "# Lets try and do one on one of the images, lets pick this 3\n",
    "\n",
    "x_imgs = x_train.view(-1, 28, 28)\n",
    "xv_imgs = x_valid.view(-1, 28, 28)\n",
    "\n",
    "mpl.rcParams[\"figure.dpi\"] = 30\n",
    "\n",
    "im3 = x_imgs[7]\n",
    "ds.show_image(im3)"
   ]
  },
  {
   "cell_type": "code",
   "execution_count": 7,
   "id": "188d0b69",
   "metadata": {},
   "outputs": [
    {
     "data": {
      "text/plain": [
       "<Axes: >"
      ]
     },
     "execution_count": 7,
     "metadata": {},
     "output_type": "execute_result"
    },
    {
     "data": {
      "image/png": "[encoded data removed]",
      "text/plain": [
       "<Figure size 192x144 with 1 Axes>"
      ]
     },
     "metadata": {},
     "output_type": "display_data"
    }
   ],
   "source": [
    "# Here is a kernel that trys to detect top edges\n",
    "top_edge = tensor([[-1, -1, -1], [0, 0, 0], [1, 1, 1]]).float()\n",
    "\n",
    "## It can be visualised like this\n",
    "ds.show_image(top_edge, noframe=False)"
   ]
  },
  {
   "cell_type": "markdown",
   "id": "adb7800c",
   "metadata": {},
   "source": [
    "What happens when we run this filter?\n",
    "\n",
    "If we have an input of\n",
    "\n",
    "```\n",
    "a1 a2 a3\n",
    "a4 a5 a6\n",
    "a7 a8 a9\n",
    "```\n",
    "\n",
    "we would get\n",
    "\n",
    "```\n",
    "-a1 -a2  -a3 + a7 + a8 + a9\n",
    "```\n",
    "\n",
    "why does this matter? Consider just a section of our 3."
   ]
  },
  {
   "cell_type": "code",
   "execution_count": 8,
   "id": "6ef4c447",
   "metadata": {},
   "outputs": [
    {
     "data": {
      "text/html": [
       "<style type=\"text/css\">\n",
       "#T_0be10_row0_col0, #T_0be10_row0_col1, #T_0be10_row0_col2, #T_0be10_row0_col3, #T_0be10_row0_col4, #T_0be10_row0_col5, #T_0be10_row0_col6, #T_0be10_row0_col7, #T_0be10_row0_col8, #T_0be10_row0_col9, #T_0be10_row0_col10, #T_0be10_row0_col11, #T_0be10_row0_col12, #T_0be10_row0_col13, #T_0be10_row0_col14, #T_0be10_row0_col15, #T_0be10_row0_col16, #T_0be10_row0_col17, #T_0be10_row0_col18, #T_0be10_row0_col19, #T_0be10_row0_col20, #T_0be10_row0_col21, #T_0be10_row0_col22, #T_0be10_row1_col0, #T_0be10_row1_col1, #T_0be10_row1_col2, #T_0be10_row1_col3, #T_0be10_row1_col4, #T_0be10_row1_col5, #T_0be10_row1_col6, #T_0be10_row1_col7, #T_0be10_row1_col8, #T_0be10_row1_col9, #T_0be10_row1_col10, #T_0be10_row1_col11, #T_0be10_row1_col12, #T_0be10_row1_col13, #T_0be10_row1_col14, #T_0be10_row1_col15, #T_0be10_row1_col16, #T_0be10_row1_col17, #T_0be10_row1_col18, #T_0be10_row1_col19, #T_0be10_row1_col20, #T_0be10_row1_col21, #T_0be10_row1_col22, #T_0be10_row2_col0, #T_0be10_row2_col1, #T_0be10_row2_col2, #T_0be10_row2_col3, #T_0be10_row2_col4, #T_0be10_row2_col5, #T_0be10_row2_col6, #T_0be10_row2_col7, #T_0be10_row2_col8, #T_0be10_row2_col9, #T_0be10_row2_col10, #T_0be10_row2_col11, #T_0be10_row2_col12, #T_0be10_row2_col13, #T_0be10_row2_col14, #T_0be10_row2_col15, #T_0be10_row2_col16, #T_0be10_row2_col17, #T_0be10_row2_col18, #T_0be10_row2_col19, #T_0be10_row2_col20, #T_0be10_row2_col21, #T_0be10_row2_col22, #T_0be10_row3_col0, #T_0be10_row3_col1, #T_0be10_row3_col2, #T_0be10_row3_col3, #T_0be10_row3_col4, #T_0be10_row3_col5, #T_0be10_row3_col6, #T_0be10_row3_col7, #T_0be10_row3_col8, #T_0be10_row3_col9, #T_0be10_row3_col10, #T_0be10_row3_col11, #T_0be10_row3_col12, #T_0be10_row3_col13, #T_0be10_row3_col14, #T_0be10_row3_col15, #T_0be10_row3_col16, #T_0be10_row3_col17, #T_0be10_row3_col18, #T_0be10_row3_col19, #T_0be10_row3_col20, #T_0be10_row3_col21, #T_0be10_row3_col22, #T_0be10_row4_col0, #T_0be10_row4_col1, #T_0be10_row4_col2, #T_0be10_row4_col3, #T_0be10_row4_col4, #T_0be10_row4_col5, #T_0be10_row4_col6, #T_0be10_row4_col7, #T_0be10_row4_col8, #T_0be10_row4_col9, #T_0be10_row4_col10, #T_0be10_row4_col11, #T_0be10_row4_col12, #T_0be10_row4_col13, #T_0be10_row4_col14, #T_0be10_row4_col15, #T_0be10_row4_col16, #T_0be10_row4_col17, #T_0be10_row4_col18, #T_0be10_row4_col19, #T_0be10_row4_col20, #T_0be10_row4_col21, #T_0be10_row4_col22, #T_0be10_row5_col0, #T_0be10_row5_col1, #T_0be10_row5_col2, #T_0be10_row5_col3, #T_0be10_row5_col4, #T_0be10_row5_col5, #T_0be10_row5_col6, #T_0be10_row5_col7, #T_0be10_row5_col8, #T_0be10_row5_col9, #T_0be10_row5_col10, #T_0be10_row5_col22, #T_0be10_row6_col0, #T_0be10_row6_col1, #T_0be10_row6_col2, #T_0be10_row6_col3, #T_0be10_row6_col4, #T_0be10_row6_col5, #T_0be10_row6_col6, #T_0be10_row6_col7, #T_0be10_row6_col8, #T_0be10_row7_col0, #T_0be10_row7_col1, #T_0be10_row7_col2, #T_0be10_row7_col3, #T_0be10_row7_col4, #T_0be10_row7_col5, #T_0be10_row7_col6, #T_0be10_row7_col7, #T_0be10_row7_col8, #T_0be10_row8_col0, #T_0be10_row8_col1, #T_0be10_row8_col2, #T_0be10_row8_col3, #T_0be10_row8_col4, #T_0be10_row8_col5, #T_0be10_row8_col6, #T_0be10_row8_col7, #T_0be10_row8_col8, #T_0be10_row9_col0, #T_0be10_row9_col1, #T_0be10_row9_col2, #T_0be10_row9_col3, #T_0be10_row9_col4, #T_0be10_row9_col5, #T_0be10_row9_col6, #T_0be10_row9_col7, #T_0be10_row9_col8, #T_0be10_row9_col13, #T_0be10_row9_col14, #T_0be10_row9_col15, #T_0be10_row9_col16, #T_0be10_row10_col0, #T_0be10_row10_col1, #T_0be10_row10_col2, #T_0be10_row10_col3, #T_0be10_row10_col4, #T_0be10_row10_col5, #T_0be10_row10_col6, #T_0be10_row10_col7, #T_0be10_row10_col8, #T_0be10_row10_col9, #T_0be10_row10_col10, #T_0be10_row10_col11, #T_0be10_row10_col12, #T_0be10_row10_col13, #T_0be10_row10_col14, #T_0be10_row10_col15, #T_0be10_row10_col16, #T_0be10_row10_col22, #T_0be10_row11_col0, #T_0be10_row11_col1, #T_0be10_row11_col2, #T_0be10_row11_col3, #T_0be10_row11_col4, #T_0be10_row11_col5, #T_0be10_row11_col6, #T_0be10_row11_col7, #T_0be10_row11_col8, #T_0be10_row11_col9, #T_0be10_row11_col10, #T_0be10_row11_col11, #T_0be10_row11_col12, #T_0be10_row11_col13, #T_0be10_row11_col14, #T_0be10_row11_col15, #T_0be10_row11_col22, #T_0be10_row12_col0, #T_0be10_row12_col1, #T_0be10_row12_col2, #T_0be10_row12_col3, #T_0be10_row12_col4, #T_0be10_row12_col5, #T_0be10_row12_col6, #T_0be10_row12_col7, #T_0be10_row12_col8, #T_0be10_row12_col9, #T_0be10_row12_col10, #T_0be10_row12_col11, #T_0be10_row12_col12, #T_0be10_row12_col13, #T_0be10_row12_col22 {\n",
       "  font-size: 7pt;\n",
       "  background-color: #ffffff;\n",
       "  color: #000000;\n",
       "}\n",
       "#T_0be10_row5_col11 {\n",
       "  font-size: 7pt;\n",
       "  background-color: #ececec;\n",
       "  color: #000000;\n",
       "}\n",
       "#T_0be10_row5_col12 {\n",
       "  font-size: 7pt;\n",
       "  background-color: #e8e8e8;\n",
       "  color: #000000;\n",
       "}\n",
       "#T_0be10_row5_col13 {\n",
       "  font-size: 7pt;\n",
       "  background-color: #b0b0b0;\n",
       "  color: #000000;\n",
       "}\n",
       "#T_0be10_row5_col14, #T_0be10_row5_col15, #T_0be10_row5_col16, #T_0be10_row5_col17, #T_0be10_row5_col18, #T_0be10_row5_col19, #T_0be10_row6_col13, #T_0be10_row6_col20, #T_0be10_row7_col9, #T_0be10_row7_col10, #T_0be10_row7_col11, #T_0be10_row7_col12, #T_0be10_row7_col13, #T_0be10_row7_col20, #T_0be10_row7_col21, #T_0be10_row7_col22, #T_0be10_row8_col10, #T_0be10_row8_col11, #T_0be10_row8_col20, #T_0be10_row8_col21, #T_0be10_row8_col22, #T_0be10_row9_col20, #T_0be10_row10_col20, #T_0be10_row11_col20 {\n",
       "  font-size: 7pt;\n",
       "  background-color: #000000;\n",
       "  color: #f1f1f1;\n",
       "}\n",
       "#T_0be10_row5_col20 {\n",
       "  font-size: 7pt;\n",
       "  background-color: #626262;\n",
       "  color: #f1f1f1;\n",
       "}\n",
       "#T_0be10_row5_col21 {\n",
       "  font-size: 7pt;\n",
       "  background-color: #fcfcfc;\n",
       "  color: #000000;\n",
       "}\n",
       "#T_0be10_row6_col9 {\n",
       "  font-size: 7pt;\n",
       "  background-color: #dbdbdb;\n",
       "  color: #000000;\n",
       "}\n",
       "#T_0be10_row6_col10 {\n",
       "  font-size: 7pt;\n",
       "  background-color: #878787;\n",
       "  color: #f1f1f1;\n",
       "}\n",
       "#T_0be10_row6_col11 {\n",
       "  font-size: 7pt;\n",
       "  background-color: #212121;\n",
       "  color: #f1f1f1;\n",
       "}\n",
       "#T_0be10_row6_col12 {\n",
       "  font-size: 7pt;\n",
       "  background-color: #1e1e1e;\n",
       "  color: #f1f1f1;\n",
       "}\n",
       "#T_0be10_row6_col14, #T_0be10_row7_col14 {\n",
       "  font-size: 7pt;\n",
       "  background-color: #020202;\n",
       "  color: #f1f1f1;\n",
       "}\n",
       "#T_0be10_row6_col15, #T_0be10_row6_col16, #T_0be10_row6_col17, #T_0be10_row6_col18, #T_0be10_row6_col19, #T_0be10_row7_col15, #T_0be10_row7_col16, #T_0be10_row7_col17, #T_0be10_row7_col18, #T_0be10_row7_col19, #T_0be10_row8_col18, #T_0be10_row8_col19, #T_0be10_row9_col19, #T_0be10_row10_col19, #T_0be10_row11_col18, #T_0be10_row11_col19, #T_0be10_row12_col17, #T_0be10_row12_col18, #T_0be10_row12_col19 {\n",
       "  font-size: 7pt;\n",
       "  background-color: #010101;\n",
       "  color: #f1f1f1;\n",
       "}\n",
       "#T_0be10_row6_col21 {\n",
       "  font-size: 7pt;\n",
       "  background-color: #727272;\n",
       "  color: #f1f1f1;\n",
       "}\n",
       "#T_0be10_row6_col22 {\n",
       "  font-size: 7pt;\n",
       "  background-color: #dcdcdc;\n",
       "  color: #000000;\n",
       "}\n",
       "#T_0be10_row8_col9 {\n",
       "  font-size: 7pt;\n",
       "  background-color: #777777;\n",
       "  color: #f1f1f1;\n",
       "}\n",
       "#T_0be10_row8_col12 {\n",
       "  font-size: 7pt;\n",
       "  background-color: #1a1a1a;\n",
       "  color: #f1f1f1;\n",
       "}\n",
       "#T_0be10_row8_col13 {\n",
       "  font-size: 7pt;\n",
       "  background-color: #8f8f8f;\n",
       "  color: #f1f1f1;\n",
       "}\n",
       "#T_0be10_row8_col14, #T_0be10_row8_col15, #T_0be10_row8_col16 {\n",
       "  font-size: 7pt;\n",
       "  background-color: #909090;\n",
       "  color: #f1f1f1;\n",
       "}\n",
       "#T_0be10_row8_col17, #T_0be10_row11_col17 {\n",
       "  font-size: 7pt;\n",
       "  background-color: #525252;\n",
       "  color: #f1f1f1;\n",
       "}\n",
       "#T_0be10_row9_col9 {\n",
       "  font-size: 7pt;\n",
       "  background-color: #fdfdfd;\n",
       "  color: #000000;\n",
       "}\n",
       "#T_0be10_row9_col10, #T_0be10_row9_col11, #T_0be10_row9_col22 {\n",
       "  font-size: 7pt;\n",
       "  background-color: #f1f1f1;\n",
       "  color: #000000;\n",
       "}\n",
       "#T_0be10_row9_col12 {\n",
       "  font-size: 7pt;\n",
       "  background-color: #f4f4f4;\n",
       "  color: #000000;\n",
       "}\n",
       "#T_0be10_row9_col17, #T_0be10_row11_col21 {\n",
       "  font-size: 7pt;\n",
       "  background-color: #f8f8f8;\n",
       "  color: #000000;\n",
       "}\n",
       "#T_0be10_row9_col18 {\n",
       "  font-size: 7pt;\n",
       "  background-color: #1f1f1f;\n",
       "  color: #f1f1f1;\n",
       "}\n",
       "#T_0be10_row9_col21 {\n",
       "  font-size: 7pt;\n",
       "  background-color: #646464;\n",
       "  color: #f1f1f1;\n",
       "}\n",
       "#T_0be10_row10_col17 {\n",
       "  font-size: 7pt;\n",
       "  background-color: #c5c5c5;\n",
       "  color: #000000;\n",
       "}\n",
       "#T_0be10_row10_col18 {\n",
       "  font-size: 7pt;\n",
       "  background-color: #0c0c0c;\n",
       "  color: #f1f1f1;\n",
       "}\n",
       "#T_0be10_row10_col21 {\n",
       "  font-size: 7pt;\n",
       "  background-color: #828282;\n",
       "  color: #f1f1f1;\n",
       "}\n",
       "#T_0be10_row11_col16 {\n",
       "  font-size: 7pt;\n",
       "  background-color: #c3c3c3;\n",
       "  color: #000000;\n",
       "}\n",
       "#T_0be10_row12_col14 {\n",
       "  font-size: 7pt;\n",
       "  background-color: #c1c1c1;\n",
       "  color: #000000;\n",
       "}\n",
       "#T_0be10_row12_col15 {\n",
       "  font-size: 7pt;\n",
       "  background-color: #323232;\n",
       "  color: #f1f1f1;\n",
       "}\n",
       "#T_0be10_row12_col16 {\n",
       "  font-size: 7pt;\n",
       "  background-color: #070707;\n",
       "  color: #f1f1f1;\n",
       "}\n",
       "#T_0be10_row12_col20 {\n",
       "  font-size: 7pt;\n",
       "  background-color: #3c3c3c;\n",
       "  color: #f1f1f1;\n",
       "}\n",
       "#T_0be10_row12_col21 {\n",
       "  font-size: 7pt;\n",
       "  background-color: #fbfbfb;\n",
       "  color: #000000;\n",
       "}\n",
       "</style>\n",
       "<table id=\"T_0be10\">\n",
       "  <thead>\n",
       "    <tr>\n",
       "      <th class=\"blank level0\" >&nbsp;</th>\n",
       "      <th id=\"T_0be10_level0_col0\" class=\"col_heading level0 col0\" >0</th>\n",
       "      <th id=\"T_0be10_level0_col1\" class=\"col_heading level0 col1\" >1</th>\n",
       "      <th id=\"T_0be10_level0_col2\" class=\"col_heading level0 col2\" >2</th>\n",
       "      <th id=\"T_0be10_level0_col3\" class=\"col_heading level0 col3\" >3</th>\n",
       "      <th id=\"T_0be10_level0_col4\" class=\"col_heading level0 col4\" >4</th>\n",
       "      <th id=\"T_0be10_level0_col5\" class=\"col_heading level0 col5\" >5</th>\n",
       "      <th id=\"T_0be10_level0_col6\" class=\"col_heading level0 col6\" >6</th>\n",
       "      <th id=\"T_0be10_level0_col7\" class=\"col_heading level0 col7\" >7</th>\n",
       "      <th id=\"T_0be10_level0_col8\" class=\"col_heading level0 col8\" >8</th>\n",
       "      <th id=\"T_0be10_level0_col9\" class=\"col_heading level0 col9\" >9</th>\n",
       "      <th id=\"T_0be10_level0_col10\" class=\"col_heading level0 col10\" >10</th>\n",
       "      <th id=\"T_0be10_level0_col11\" class=\"col_heading level0 col11\" >11</th>\n",
       "      <th id=\"T_0be10_level0_col12\" class=\"col_heading level0 col12\" >12</th>\n",
       "      <th id=\"T_0be10_level0_col13\" class=\"col_heading level0 col13\" >13</th>\n",
       "      <th id=\"T_0be10_level0_col14\" class=\"col_heading level0 col14\" >14</th>\n",
       "      <th id=\"T_0be10_level0_col15\" class=\"col_heading level0 col15\" >15</th>\n",
       "      <th id=\"T_0be10_level0_col16\" class=\"col_heading level0 col16\" >16</th>\n",
       "      <th id=\"T_0be10_level0_col17\" class=\"col_heading level0 col17\" >17</th>\n",
       "      <th id=\"T_0be10_level0_col18\" class=\"col_heading level0 col18\" >18</th>\n",
       "      <th id=\"T_0be10_level0_col19\" class=\"col_heading level0 col19\" >19</th>\n",
       "      <th id=\"T_0be10_level0_col20\" class=\"col_heading level0 col20\" >20</th>\n",
       "      <th id=\"T_0be10_level0_col21\" class=\"col_heading level0 col21\" >21</th>\n",
       "      <th id=\"T_0be10_level0_col22\" class=\"col_heading level0 col22\" >22</th>\n",
       "    </tr>\n",
       "  </thead>\n",
       "  <tbody>\n",
       "    <tr>\n",
       "      <th id=\"T_0be10_level0_row0\" class=\"row_heading level0 row0\" >0</th>\n",
       "      <td id=\"T_0be10_row0_col0\" class=\"data row0 col0\" >0.00</td>\n",
       "      <td id=\"T_0be10_row0_col1\" class=\"data row0 col1\" >0.00</td>\n",
       "      <td id=\"T_0be10_row0_col2\" class=\"data row0 col2\" >0.00</td>\n",
       "      <td id=\"T_0be10_row0_col3\" class=\"data row0 col3\" >0.00</td>\n",
       "      <td id=\"T_0be10_row0_col4\" class=\"data row0 col4\" >0.00</td>\n",
       "      <td id=\"T_0be10_row0_col5\" class=\"data row0 col5\" >0.00</td>\n",
       "      <td id=\"T_0be10_row0_col6\" class=\"data row0 col6\" >0.00</td>\n",
       "      <td id=\"T_0be10_row0_col7\" class=\"data row0 col7\" >0.00</td>\n",
       "      <td id=\"T_0be10_row0_col8\" class=\"data row0 col8\" >0.00</td>\n",
       "      <td id=\"T_0be10_row0_col9\" class=\"data row0 col9\" >0.00</td>\n",
       "      <td id=\"T_0be10_row0_col10\" class=\"data row0 col10\" >0.00</td>\n",
       "      <td id=\"T_0be10_row0_col11\" class=\"data row0 col11\" >0.00</td>\n",
       "      <td id=\"T_0be10_row0_col12\" class=\"data row0 col12\" >0.00</td>\n",
       "      <td id=\"T_0be10_row0_col13\" class=\"data row0 col13\" >0.00</td>\n",
       "      <td id=\"T_0be10_row0_col14\" class=\"data row0 col14\" >0.00</td>\n",
       "      <td id=\"T_0be10_row0_col15\" class=\"data row0 col15\" >0.00</td>\n",
       "      <td id=\"T_0be10_row0_col16\" class=\"data row0 col16\" >0.00</td>\n",
       "      <td id=\"T_0be10_row0_col17\" class=\"data row0 col17\" >0.00</td>\n",
       "      <td id=\"T_0be10_row0_col18\" class=\"data row0 col18\" >0.00</td>\n",
       "      <td id=\"T_0be10_row0_col19\" class=\"data row0 col19\" >0.00</td>\n",
       "      <td id=\"T_0be10_row0_col20\" class=\"data row0 col20\" >0.00</td>\n",
       "      <td id=\"T_0be10_row0_col21\" class=\"data row0 col21\" >0.00</td>\n",
       "      <td id=\"T_0be10_row0_col22\" class=\"data row0 col22\" >0.00</td>\n",
       "    </tr>\n",
       "    <tr>\n",
       "      <th id=\"T_0be10_level0_row1\" class=\"row_heading level0 row1\" >1</th>\n",
       "      <td id=\"T_0be10_row1_col0\" class=\"data row1 col0\" >0.00</td>\n",
       "      <td id=\"T_0be10_row1_col1\" class=\"data row1 col1\" >0.00</td>\n",
       "      <td id=\"T_0be10_row1_col2\" class=\"data row1 col2\" >0.00</td>\n",
       "      <td id=\"T_0be10_row1_col3\" class=\"data row1 col3\" >0.00</td>\n",
       "      <td id=\"T_0be10_row1_col4\" class=\"data row1 col4\" >0.00</td>\n",
       "      <td id=\"T_0be10_row1_col5\" class=\"data row1 col5\" >0.00</td>\n",
       "      <td id=\"T_0be10_row1_col6\" class=\"data row1 col6\" >0.00</td>\n",
       "      <td id=\"T_0be10_row1_col7\" class=\"data row1 col7\" >0.00</td>\n",
       "      <td id=\"T_0be10_row1_col8\" class=\"data row1 col8\" >0.00</td>\n",
       "      <td id=\"T_0be10_row1_col9\" class=\"data row1 col9\" >0.00</td>\n",
       "      <td id=\"T_0be10_row1_col10\" class=\"data row1 col10\" >0.00</td>\n",
       "      <td id=\"T_0be10_row1_col11\" class=\"data row1 col11\" >0.00</td>\n",
       "      <td id=\"T_0be10_row1_col12\" class=\"data row1 col12\" >0.00</td>\n",
       "      <td id=\"T_0be10_row1_col13\" class=\"data row1 col13\" >0.00</td>\n",
       "      <td id=\"T_0be10_row1_col14\" class=\"data row1 col14\" >0.00</td>\n",
       "      <td id=\"T_0be10_row1_col15\" class=\"data row1 col15\" >0.00</td>\n",
       "      <td id=\"T_0be10_row1_col16\" class=\"data row1 col16\" >0.00</td>\n",
       "      <td id=\"T_0be10_row1_col17\" class=\"data row1 col17\" >0.00</td>\n",
       "      <td id=\"T_0be10_row1_col18\" class=\"data row1 col18\" >0.00</td>\n",
       "      <td id=\"T_0be10_row1_col19\" class=\"data row1 col19\" >0.00</td>\n",
       "      <td id=\"T_0be10_row1_col20\" class=\"data row1 col20\" >0.00</td>\n",
       "      <td id=\"T_0be10_row1_col21\" class=\"data row1 col21\" >0.00</td>\n",
       "      <td id=\"T_0be10_row1_col22\" class=\"data row1 col22\" >0.00</td>\n",
       "    </tr>\n",
       "    <tr>\n",
       "      <th id=\"T_0be10_level0_row2\" class=\"row_heading level0 row2\" >2</th>\n",
       "      <td id=\"T_0be10_row2_col0\" class=\"data row2 col0\" >0.00</td>\n",
       "      <td id=\"T_0be10_row2_col1\" class=\"data row2 col1\" >0.00</td>\n",
       "      <td id=\"T_0be10_row2_col2\" class=\"data row2 col2\" >0.00</td>\n",
       "      <td id=\"T_0be10_row2_col3\" class=\"data row2 col3\" >0.00</td>\n",
       "      <td id=\"T_0be10_row2_col4\" class=\"data row2 col4\" >0.00</td>\n",
       "      <td id=\"T_0be10_row2_col5\" class=\"data row2 col5\" >0.00</td>\n",
       "      <td id=\"T_0be10_row2_col6\" class=\"data row2 col6\" >0.00</td>\n",
       "      <td id=\"T_0be10_row2_col7\" class=\"data row2 col7\" >0.00</td>\n",
       "      <td id=\"T_0be10_row2_col8\" class=\"data row2 col8\" >0.00</td>\n",
       "      <td id=\"T_0be10_row2_col9\" class=\"data row2 col9\" >0.00</td>\n",
       "      <td id=\"T_0be10_row2_col10\" class=\"data row2 col10\" >0.00</td>\n",
       "      <td id=\"T_0be10_row2_col11\" class=\"data row2 col11\" >0.00</td>\n",
       "      <td id=\"T_0be10_row2_col12\" class=\"data row2 col12\" >0.00</td>\n",
       "      <td id=\"T_0be10_row2_col13\" class=\"data row2 col13\" >0.00</td>\n",
       "      <td id=\"T_0be10_row2_col14\" class=\"data row2 col14\" >0.00</td>\n",
       "      <td id=\"T_0be10_row2_col15\" class=\"data row2 col15\" >0.00</td>\n",
       "      <td id=\"T_0be10_row2_col16\" class=\"data row2 col16\" >0.00</td>\n",
       "      <td id=\"T_0be10_row2_col17\" class=\"data row2 col17\" >0.00</td>\n",
       "      <td id=\"T_0be10_row2_col18\" class=\"data row2 col18\" >0.00</td>\n",
       "      <td id=\"T_0be10_row2_col19\" class=\"data row2 col19\" >0.00</td>\n",
       "      <td id=\"T_0be10_row2_col20\" class=\"data row2 col20\" >0.00</td>\n",
       "      <td id=\"T_0be10_row2_col21\" class=\"data row2 col21\" >0.00</td>\n",
       "      <td id=\"T_0be10_row2_col22\" class=\"data row2 col22\" >0.00</td>\n",
       "    </tr>\n",
       "    <tr>\n",
       "      <th id=\"T_0be10_level0_row3\" class=\"row_heading level0 row3\" >3</th>\n",
       "      <td id=\"T_0be10_row3_col0\" class=\"data row3 col0\" >0.00</td>\n",
       "      <td id=\"T_0be10_row3_col1\" class=\"data row3 col1\" >0.00</td>\n",
       "      <td id=\"T_0be10_row3_col2\" class=\"data row3 col2\" >0.00</td>\n",
       "      <td id=\"T_0be10_row3_col3\" class=\"data row3 col3\" >0.00</td>\n",
       "      <td id=\"T_0be10_row3_col4\" class=\"data row3 col4\" >0.00</td>\n",
       "      <td id=\"T_0be10_row3_col5\" class=\"data row3 col5\" >0.00</td>\n",
       "      <td id=\"T_0be10_row3_col6\" class=\"data row3 col6\" >0.00</td>\n",
       "      <td id=\"T_0be10_row3_col7\" class=\"data row3 col7\" >0.00</td>\n",
       "      <td id=\"T_0be10_row3_col8\" class=\"data row3 col8\" >0.00</td>\n",
       "      <td id=\"T_0be10_row3_col9\" class=\"data row3 col9\" >0.00</td>\n",
       "      <td id=\"T_0be10_row3_col10\" class=\"data row3 col10\" >0.00</td>\n",
       "      <td id=\"T_0be10_row3_col11\" class=\"data row3 col11\" >0.00</td>\n",
       "      <td id=\"T_0be10_row3_col12\" class=\"data row3 col12\" >0.00</td>\n",
       "      <td id=\"T_0be10_row3_col13\" class=\"data row3 col13\" >0.00</td>\n",
       "      <td id=\"T_0be10_row3_col14\" class=\"data row3 col14\" >0.00</td>\n",
       "      <td id=\"T_0be10_row3_col15\" class=\"data row3 col15\" >0.00</td>\n",
       "      <td id=\"T_0be10_row3_col16\" class=\"data row3 col16\" >0.00</td>\n",
       "      <td id=\"T_0be10_row3_col17\" class=\"data row3 col17\" >0.00</td>\n",
       "      <td id=\"T_0be10_row3_col18\" class=\"data row3 col18\" >0.00</td>\n",
       "      <td id=\"T_0be10_row3_col19\" class=\"data row3 col19\" >0.00</td>\n",
       "      <td id=\"T_0be10_row3_col20\" class=\"data row3 col20\" >0.00</td>\n",
       "      <td id=\"T_0be10_row3_col21\" class=\"data row3 col21\" >0.00</td>\n",
       "      <td id=\"T_0be10_row3_col22\" class=\"data row3 col22\" >0.00</td>\n",
       "    </tr>\n",
       "    <tr>\n",
       "      <th id=\"T_0be10_level0_row4\" class=\"row_heading level0 row4\" >4</th>\n",
       "      <td id=\"T_0be10_row4_col0\" class=\"data row4 col0\" >0.00</td>\n",
       "      <td id=\"T_0be10_row4_col1\" class=\"data row4 col1\" >0.00</td>\n",
       "      <td id=\"T_0be10_row4_col2\" class=\"data row4 col2\" >0.00</td>\n",
       "      <td id=\"T_0be10_row4_col3\" class=\"data row4 col3\" >0.00</td>\n",
       "      <td id=\"T_0be10_row4_col4\" class=\"data row4 col4\" >0.00</td>\n",
       "      <td id=\"T_0be10_row4_col5\" class=\"data row4 col5\" >0.00</td>\n",
       "      <td id=\"T_0be10_row4_col6\" class=\"data row4 col6\" >0.00</td>\n",
       "      <td id=\"T_0be10_row4_col7\" class=\"data row4 col7\" >0.00</td>\n",
       "      <td id=\"T_0be10_row4_col8\" class=\"data row4 col8\" >0.00</td>\n",
       "      <td id=\"T_0be10_row4_col9\" class=\"data row4 col9\" >0.00</td>\n",
       "      <td id=\"T_0be10_row4_col10\" class=\"data row4 col10\" >0.00</td>\n",
       "      <td id=\"T_0be10_row4_col11\" class=\"data row4 col11\" >0.00</td>\n",
       "      <td id=\"T_0be10_row4_col12\" class=\"data row4 col12\" >0.00</td>\n",
       "      <td id=\"T_0be10_row4_col13\" class=\"data row4 col13\" >0.00</td>\n",
       "      <td id=\"T_0be10_row4_col14\" class=\"data row4 col14\" >0.00</td>\n",
       "      <td id=\"T_0be10_row4_col15\" class=\"data row4 col15\" >0.00</td>\n",
       "      <td id=\"T_0be10_row4_col16\" class=\"data row4 col16\" >0.00</td>\n",
       "      <td id=\"T_0be10_row4_col17\" class=\"data row4 col17\" >0.00</td>\n",
       "      <td id=\"T_0be10_row4_col18\" class=\"data row4 col18\" >0.00</td>\n",
       "      <td id=\"T_0be10_row4_col19\" class=\"data row4 col19\" >0.00</td>\n",
       "      <td id=\"T_0be10_row4_col20\" class=\"data row4 col20\" >0.00</td>\n",
       "      <td id=\"T_0be10_row4_col21\" class=\"data row4 col21\" >0.00</td>\n",
       "      <td id=\"T_0be10_row4_col22\" class=\"data row4 col22\" >0.00</td>\n",
       "    </tr>\n",
       "    <tr>\n",
       "      <th id=\"T_0be10_level0_row5\" class=\"row_heading level0 row5\" >5</th>\n",
       "      <td id=\"T_0be10_row5_col0\" class=\"data row5 col0\" >0.00</td>\n",
       "      <td id=\"T_0be10_row5_col1\" class=\"data row5 col1\" >0.00</td>\n",
       "      <td id=\"T_0be10_row5_col2\" class=\"data row5 col2\" >0.00</td>\n",
       "      <td id=\"T_0be10_row5_col3\" class=\"data row5 col3\" >0.00</td>\n",
       "      <td id=\"T_0be10_row5_col4\" class=\"data row5 col4\" >0.00</td>\n",
       "      <td id=\"T_0be10_row5_col5\" class=\"data row5 col5\" >0.00</td>\n",
       "      <td id=\"T_0be10_row5_col6\" class=\"data row5 col6\" >0.00</td>\n",
       "      <td id=\"T_0be10_row5_col7\" class=\"data row5 col7\" >0.00</td>\n",
       "      <td id=\"T_0be10_row5_col8\" class=\"data row5 col8\" >0.00</td>\n",
       "      <td id=\"T_0be10_row5_col9\" class=\"data row5 col9\" >0.00</td>\n",
       "      <td id=\"T_0be10_row5_col10\" class=\"data row5 col10\" >0.00</td>\n",
       "      <td id=\"T_0be10_row5_col11\" class=\"data row5 col11\" >0.15</td>\n",
       "      <td id=\"T_0be10_row5_col12\" class=\"data row5 col12\" >0.17</td>\n",
       "      <td id=\"T_0be10_row5_col13\" class=\"data row5 col13\" >0.41</td>\n",
       "      <td id=\"T_0be10_row5_col14\" class=\"data row5 col14\" >1.00</td>\n",
       "      <td id=\"T_0be10_row5_col15\" class=\"data row5 col15\" >0.99</td>\n",
       "      <td id=\"T_0be10_row5_col16\" class=\"data row5 col16\" >0.99</td>\n",
       "      <td id=\"T_0be10_row5_col17\" class=\"data row5 col17\" >0.99</td>\n",
       "      <td id=\"T_0be10_row5_col18\" class=\"data row5 col18\" >0.99</td>\n",
       "      <td id=\"T_0be10_row5_col19\" class=\"data row5 col19\" >0.99</td>\n",
       "      <td id=\"T_0be10_row5_col20\" class=\"data row5 col20\" >0.68</td>\n",
       "      <td id=\"T_0be10_row5_col21\" class=\"data row5 col21\" >0.02</td>\n",
       "      <td id=\"T_0be10_row5_col22\" class=\"data row5 col22\" >0.00</td>\n",
       "    </tr>\n",
       "    <tr>\n",
       "      <th id=\"T_0be10_level0_row6\" class=\"row_heading level0 row6\" >6</th>\n",
       "      <td id=\"T_0be10_row6_col0\" class=\"data row6 col0\" >0.00</td>\n",
       "      <td id=\"T_0be10_row6_col1\" class=\"data row6 col1\" >0.00</td>\n",
       "      <td id=\"T_0be10_row6_col2\" class=\"data row6 col2\" >0.00</td>\n",
       "      <td id=\"T_0be10_row6_col3\" class=\"data row6 col3\" >0.00</td>\n",
       "      <td id=\"T_0be10_row6_col4\" class=\"data row6 col4\" >0.00</td>\n",
       "      <td id=\"T_0be10_row6_col5\" class=\"data row6 col5\" >0.00</td>\n",
       "      <td id=\"T_0be10_row6_col6\" class=\"data row6 col6\" >0.00</td>\n",
       "      <td id=\"T_0be10_row6_col7\" class=\"data row6 col7\" >0.00</td>\n",
       "      <td id=\"T_0be10_row6_col8\" class=\"data row6 col8\" >0.00</td>\n",
       "      <td id=\"T_0be10_row6_col9\" class=\"data row6 col9\" >0.17</td>\n",
       "      <td id=\"T_0be10_row6_col10\" class=\"data row6 col10\" >0.54</td>\n",
       "      <td id=\"T_0be10_row6_col11\" class=\"data row6 col11\" >0.88</td>\n",
       "      <td id=\"T_0be10_row6_col12\" class=\"data row6 col12\" >0.88</td>\n",
       "      <td id=\"T_0be10_row6_col13\" class=\"data row6 col13\" >0.98</td>\n",
       "      <td id=\"T_0be10_row6_col14\" class=\"data row6 col14\" >0.99</td>\n",
       "      <td id=\"T_0be10_row6_col15\" class=\"data row6 col15\" >0.98</td>\n",
       "      <td id=\"T_0be10_row6_col16\" class=\"data row6 col16\" >0.98</td>\n",
       "      <td id=\"T_0be10_row6_col17\" class=\"data row6 col17\" >0.98</td>\n",
       "      <td id=\"T_0be10_row6_col18\" class=\"data row6 col18\" >0.98</td>\n",
       "      <td id=\"T_0be10_row6_col19\" class=\"data row6 col19\" >0.98</td>\n",
       "      <td id=\"T_0be10_row6_col20\" class=\"data row6 col20\" >0.98</td>\n",
       "      <td id=\"T_0be10_row6_col21\" class=\"data row6 col21\" >0.62</td>\n",
       "      <td id=\"T_0be10_row6_col22\" class=\"data row6 col22\" >0.05</td>\n",
       "    </tr>\n",
       "    <tr>\n",
       "      <th id=\"T_0be10_level0_row7\" class=\"row_heading level0 row7\" >7</th>\n",
       "      <td id=\"T_0be10_row7_col0\" class=\"data row7 col0\" >0.00</td>\n",
       "      <td id=\"T_0be10_row7_col1\" class=\"data row7 col1\" >0.00</td>\n",
       "      <td id=\"T_0be10_row7_col2\" class=\"data row7 col2\" >0.00</td>\n",
       "      <td id=\"T_0be10_row7_col3\" class=\"data row7 col3\" >0.00</td>\n",
       "      <td id=\"T_0be10_row7_col4\" class=\"data row7 col4\" >0.00</td>\n",
       "      <td id=\"T_0be10_row7_col5\" class=\"data row7 col5\" >0.00</td>\n",
       "      <td id=\"T_0be10_row7_col6\" class=\"data row7 col6\" >0.00</td>\n",
       "      <td id=\"T_0be10_row7_col7\" class=\"data row7 col7\" >0.00</td>\n",
       "      <td id=\"T_0be10_row7_col8\" class=\"data row7 col8\" >0.00</td>\n",
       "      <td id=\"T_0be10_row7_col9\" class=\"data row7 col9\" >0.70</td>\n",
       "      <td id=\"T_0be10_row7_col10\" class=\"data row7 col10\" >0.98</td>\n",
       "      <td id=\"T_0be10_row7_col11\" class=\"data row7 col11\" >0.98</td>\n",
       "      <td id=\"T_0be10_row7_col12\" class=\"data row7 col12\" >0.98</td>\n",
       "      <td id=\"T_0be10_row7_col13\" class=\"data row7 col13\" >0.98</td>\n",
       "      <td id=\"T_0be10_row7_col14\" class=\"data row7 col14\" >0.99</td>\n",
       "      <td id=\"T_0be10_row7_col15\" class=\"data row7 col15\" >0.98</td>\n",
       "      <td id=\"T_0be10_row7_col16\" class=\"data row7 col16\" >0.98</td>\n",
       "      <td id=\"T_0be10_row7_col17\" class=\"data row7 col17\" >0.98</td>\n",
       "      <td id=\"T_0be10_row7_col18\" class=\"data row7 col18\" >0.98</td>\n",
       "      <td id=\"T_0be10_row7_col19\" class=\"data row7 col19\" >0.98</td>\n",
       "      <td id=\"T_0be10_row7_col20\" class=\"data row7 col20\" >0.98</td>\n",
       "      <td id=\"T_0be10_row7_col21\" class=\"data row7 col21\" >0.98</td>\n",
       "      <td id=\"T_0be10_row7_col22\" class=\"data row7 col22\" >0.23</td>\n",
       "    </tr>\n",
       "    <tr>\n",
       "      <th id=\"T_0be10_level0_row8\" class=\"row_heading level0 row8\" >8</th>\n",
       "      <td id=\"T_0be10_row8_col0\" class=\"data row8 col0\" >0.00</td>\n",
       "      <td id=\"T_0be10_row8_col1\" class=\"data row8 col1\" >0.00</td>\n",
       "      <td id=\"T_0be10_row8_col2\" class=\"data row8 col2\" >0.00</td>\n",
       "      <td id=\"T_0be10_row8_col3\" class=\"data row8 col3\" >0.00</td>\n",
       "      <td id=\"T_0be10_row8_col4\" class=\"data row8 col4\" >0.00</td>\n",
       "      <td id=\"T_0be10_row8_col5\" class=\"data row8 col5\" >0.00</td>\n",
       "      <td id=\"T_0be10_row8_col6\" class=\"data row8 col6\" >0.00</td>\n",
       "      <td id=\"T_0be10_row8_col7\" class=\"data row8 col7\" >0.00</td>\n",
       "      <td id=\"T_0be10_row8_col8\" class=\"data row8 col8\" >0.00</td>\n",
       "      <td id=\"T_0be10_row8_col9\" class=\"data row8 col9\" >0.43</td>\n",
       "      <td id=\"T_0be10_row8_col10\" class=\"data row8 col10\" >0.98</td>\n",
       "      <td id=\"T_0be10_row8_col11\" class=\"data row8 col11\" >0.98</td>\n",
       "      <td id=\"T_0be10_row8_col12\" class=\"data row8 col12\" >0.90</td>\n",
       "      <td id=\"T_0be10_row8_col13\" class=\"data row8 col13\" >0.52</td>\n",
       "      <td id=\"T_0be10_row8_col14\" class=\"data row8 col14\" >0.52</td>\n",
       "      <td id=\"T_0be10_row8_col15\" class=\"data row8 col15\" >0.52</td>\n",
       "      <td id=\"T_0be10_row8_col16\" class=\"data row8 col16\" >0.52</td>\n",
       "      <td id=\"T_0be10_row8_col17\" class=\"data row8 col17\" >0.74</td>\n",
       "      <td id=\"T_0be10_row8_col18\" class=\"data row8 col18\" >0.98</td>\n",
       "      <td id=\"T_0be10_row8_col19\" class=\"data row8 col19\" >0.98</td>\n",
       "      <td id=\"T_0be10_row8_col20\" class=\"data row8 col20\" >0.98</td>\n",
       "      <td id=\"T_0be10_row8_col21\" class=\"data row8 col21\" >0.98</td>\n",
       "      <td id=\"T_0be10_row8_col22\" class=\"data row8 col22\" >0.23</td>\n",
       "    </tr>\n",
       "    <tr>\n",
       "      <th id=\"T_0be10_level0_row9\" class=\"row_heading level0 row9\" >9</th>\n",
       "      <td id=\"T_0be10_row9_col0\" class=\"data row9 col0\" >0.00</td>\n",
       "      <td id=\"T_0be10_row9_col1\" class=\"data row9 col1\" >0.00</td>\n",
       "      <td id=\"T_0be10_row9_col2\" class=\"data row9 col2\" >0.00</td>\n",
       "      <td id=\"T_0be10_row9_col3\" class=\"data row9 col3\" >0.00</td>\n",
       "      <td id=\"T_0be10_row9_col4\" class=\"data row9 col4\" >0.00</td>\n",
       "      <td id=\"T_0be10_row9_col5\" class=\"data row9 col5\" >0.00</td>\n",
       "      <td id=\"T_0be10_row9_col6\" class=\"data row9 col6\" >0.00</td>\n",
       "      <td id=\"T_0be10_row9_col7\" class=\"data row9 col7\" >0.00</td>\n",
       "      <td id=\"T_0be10_row9_col8\" class=\"data row9 col8\" >0.00</td>\n",
       "      <td id=\"T_0be10_row9_col9\" class=\"data row9 col9\" >0.02</td>\n",
       "      <td id=\"T_0be10_row9_col10\" class=\"data row9 col10\" >0.11</td>\n",
       "      <td id=\"T_0be10_row9_col11\" class=\"data row9 col11\" >0.11</td>\n",
       "      <td id=\"T_0be10_row9_col12\" class=\"data row9 col12\" >0.09</td>\n",
       "      <td id=\"T_0be10_row9_col13\" class=\"data row9 col13\" >0.00</td>\n",
       "      <td id=\"T_0be10_row9_col14\" class=\"data row9 col14\" >0.00</td>\n",
       "      <td id=\"T_0be10_row9_col15\" class=\"data row9 col15\" >0.00</td>\n",
       "      <td id=\"T_0be10_row9_col16\" class=\"data row9 col16\" >0.00</td>\n",
       "      <td id=\"T_0be10_row9_col17\" class=\"data row9 col17\" >0.05</td>\n",
       "      <td id=\"T_0be10_row9_col18\" class=\"data row9 col18\" >0.88</td>\n",
       "      <td id=\"T_0be10_row9_col19\" class=\"data row9 col19\" >0.98</td>\n",
       "      <td id=\"T_0be10_row9_col20\" class=\"data row9 col20\" >0.98</td>\n",
       "      <td id=\"T_0be10_row9_col21\" class=\"data row9 col21\" >0.67</td>\n",
       "      <td id=\"T_0be10_row9_col22\" class=\"data row9 col22\" >0.03</td>\n",
       "    </tr>\n",
       "    <tr>\n",
       "      <th id=\"T_0be10_level0_row10\" class=\"row_heading level0 row10\" >10</th>\n",
       "      <td id=\"T_0be10_row10_col0\" class=\"data row10 col0\" >0.00</td>\n",
       "      <td id=\"T_0be10_row10_col1\" class=\"data row10 col1\" >0.00</td>\n",
       "      <td id=\"T_0be10_row10_col2\" class=\"data row10 col2\" >0.00</td>\n",
       "      <td id=\"T_0be10_row10_col3\" class=\"data row10 col3\" >0.00</td>\n",
       "      <td id=\"T_0be10_row10_col4\" class=\"data row10 col4\" >0.00</td>\n",
       "      <td id=\"T_0be10_row10_col5\" class=\"data row10 col5\" >0.00</td>\n",
       "      <td id=\"T_0be10_row10_col6\" class=\"data row10 col6\" >0.00</td>\n",
       "      <td id=\"T_0be10_row10_col7\" class=\"data row10 col7\" >0.00</td>\n",
       "      <td id=\"T_0be10_row10_col8\" class=\"data row10 col8\" >0.00</td>\n",
       "      <td id=\"T_0be10_row10_col9\" class=\"data row10 col9\" >0.00</td>\n",
       "      <td id=\"T_0be10_row10_col10\" class=\"data row10 col10\" >0.00</td>\n",
       "      <td id=\"T_0be10_row10_col11\" class=\"data row10 col11\" >0.00</td>\n",
       "      <td id=\"T_0be10_row10_col12\" class=\"data row10 col12\" >0.00</td>\n",
       "      <td id=\"T_0be10_row10_col13\" class=\"data row10 col13\" >0.00</td>\n",
       "      <td id=\"T_0be10_row10_col14\" class=\"data row10 col14\" >0.00</td>\n",
       "      <td id=\"T_0be10_row10_col15\" class=\"data row10 col15\" >0.00</td>\n",
       "      <td id=\"T_0be10_row10_col16\" class=\"data row10 col16\" >0.00</td>\n",
       "      <td id=\"T_0be10_row10_col17\" class=\"data row10 col17\" >0.33</td>\n",
       "      <td id=\"T_0be10_row10_col18\" class=\"data row10 col18\" >0.95</td>\n",
       "      <td id=\"T_0be10_row10_col19\" class=\"data row10 col19\" >0.98</td>\n",
       "      <td id=\"T_0be10_row10_col20\" class=\"data row10 col20\" >0.98</td>\n",
       "      <td id=\"T_0be10_row10_col21\" class=\"data row10 col21\" >0.56</td>\n",
       "      <td id=\"T_0be10_row10_col22\" class=\"data row10 col22\" >0.00</td>\n",
       "    </tr>\n",
       "    <tr>\n",
       "      <th id=\"T_0be10_level0_row11\" class=\"row_heading level0 row11\" >11</th>\n",
       "      <td id=\"T_0be10_row11_col0\" class=\"data row11 col0\" >0.00</td>\n",
       "      <td id=\"T_0be10_row11_col1\" class=\"data row11 col1\" >0.00</td>\n",
       "      <td id=\"T_0be10_row11_col2\" class=\"data row11 col2\" >0.00</td>\n",
       "      <td id=\"T_0be10_row11_col3\" class=\"data row11 col3\" >0.00</td>\n",
       "      <td id=\"T_0be10_row11_col4\" class=\"data row11 col4\" >0.00</td>\n",
       "      <td id=\"T_0be10_row11_col5\" class=\"data row11 col5\" >0.00</td>\n",
       "      <td id=\"T_0be10_row11_col6\" class=\"data row11 col6\" >0.00</td>\n",
       "      <td id=\"T_0be10_row11_col7\" class=\"data row11 col7\" >0.00</td>\n",
       "      <td id=\"T_0be10_row11_col8\" class=\"data row11 col8\" >0.00</td>\n",
       "      <td id=\"T_0be10_row11_col9\" class=\"data row11 col9\" >0.00</td>\n",
       "      <td id=\"T_0be10_row11_col10\" class=\"data row11 col10\" >0.00</td>\n",
       "      <td id=\"T_0be10_row11_col11\" class=\"data row11 col11\" >0.00</td>\n",
       "      <td id=\"T_0be10_row11_col12\" class=\"data row11 col12\" >0.00</td>\n",
       "      <td id=\"T_0be10_row11_col13\" class=\"data row11 col13\" >0.00</td>\n",
       "      <td id=\"T_0be10_row11_col14\" class=\"data row11 col14\" >0.00</td>\n",
       "      <td id=\"T_0be10_row11_col15\" class=\"data row11 col15\" >0.00</td>\n",
       "      <td id=\"T_0be10_row11_col16\" class=\"data row11 col16\" >0.34</td>\n",
       "      <td id=\"T_0be10_row11_col17\" class=\"data row11 col17\" >0.74</td>\n",
       "      <td id=\"T_0be10_row11_col18\" class=\"data row11 col18\" >0.98</td>\n",
       "      <td id=\"T_0be10_row11_col19\" class=\"data row11 col19\" >0.98</td>\n",
       "      <td id=\"T_0be10_row11_col20\" class=\"data row11 col20\" >0.98</td>\n",
       "      <td id=\"T_0be10_row11_col21\" class=\"data row11 col21\" >0.05</td>\n",
       "      <td id=\"T_0be10_row11_col22\" class=\"data row11 col22\" >0.00</td>\n",
       "    </tr>\n",
       "    <tr>\n",
       "      <th id=\"T_0be10_level0_row12\" class=\"row_heading level0 row12\" >12</th>\n",
       "      <td id=\"T_0be10_row12_col0\" class=\"data row12 col0\" >0.00</td>\n",
       "      <td id=\"T_0be10_row12_col1\" class=\"data row12 col1\" >0.00</td>\n",
       "      <td id=\"T_0be10_row12_col2\" class=\"data row12 col2\" >0.00</td>\n",
       "      <td id=\"T_0be10_row12_col3\" class=\"data row12 col3\" >0.00</td>\n",
       "      <td id=\"T_0be10_row12_col4\" class=\"data row12 col4\" >0.00</td>\n",
       "      <td id=\"T_0be10_row12_col5\" class=\"data row12 col5\" >0.00</td>\n",
       "      <td id=\"T_0be10_row12_col6\" class=\"data row12 col6\" >0.00</td>\n",
       "      <td id=\"T_0be10_row12_col7\" class=\"data row12 col7\" >0.00</td>\n",
       "      <td id=\"T_0be10_row12_col8\" class=\"data row12 col8\" >0.00</td>\n",
       "      <td id=\"T_0be10_row12_col9\" class=\"data row12 col9\" >0.00</td>\n",
       "      <td id=\"T_0be10_row12_col10\" class=\"data row12 col10\" >0.00</td>\n",
       "      <td id=\"T_0be10_row12_col11\" class=\"data row12 col11\" >0.00</td>\n",
       "      <td id=\"T_0be10_row12_col12\" class=\"data row12 col12\" >0.00</td>\n",
       "      <td id=\"T_0be10_row12_col13\" class=\"data row12 col13\" >0.00</td>\n",
       "      <td id=\"T_0be10_row12_col14\" class=\"data row12 col14\" >0.36</td>\n",
       "      <td id=\"T_0be10_row12_col15\" class=\"data row12 col15\" >0.83</td>\n",
       "      <td id=\"T_0be10_row12_col16\" class=\"data row12 col16\" >0.96</td>\n",
       "      <td id=\"T_0be10_row12_col17\" class=\"data row12 col17\" >0.98</td>\n",
       "      <td id=\"T_0be10_row12_col18\" class=\"data row12 col18\" >0.98</td>\n",
       "      <td id=\"T_0be10_row12_col19\" class=\"data row12 col19\" >0.98</td>\n",
       "      <td id=\"T_0be10_row12_col20\" class=\"data row12 col20\" >0.80</td>\n",
       "      <td id=\"T_0be10_row12_col21\" class=\"data row12 col21\" >0.04</td>\n",
       "      <td id=\"T_0be10_row12_col22\" class=\"data row12 col22\" >0.00</td>\n",
       "    </tr>\n",
       "  </tbody>\n",
       "</table>\n"
      ],
      "text/plain": [
       "<pandas.io.formats.style.Styler at 0x7f4ebc3393f0>"
      ]
     },
     "execution_count": 8,
     "metadata": {},
     "output_type": "execute_result"
    }
   ],
   "source": [
    "import pandas as pd\n",
    "\n",
    "df = pd.DataFrame(im3[:13, :23])\n",
    "df.style.format(precision=2).set_properties(**{\"font-size\": \"7pt\"}).background_gradient(\"Greys\")"
   ]
  },
  {
   "cell_type": "code",
   "execution_count": 9,
   "id": "97ab03c7",
   "metadata": {},
   "outputs": [
    {
     "name": "stdout",
     "output_type": "stream",
     "text": [
      "tensor([[0.0000, 0.0000, 0.0000],\n",
      "        [0.0000, 0.0000, 0.0000],\n",
      "        [0.9961, 0.9883, 0.9883]])\n"
     ]
    },
    {
     "data": {
      "text/plain": [
       "tensor(2.9727)"
      ]
     },
     "execution_count": 9,
     "metadata": {},
     "output_type": "execute_result"
    }
   ],
   "source": [
    "# What if we take a section of the image at the top of an edge\n",
    "print(im3[3:6, 14:17])\n",
    "\n",
    "# And apply our kernel\n",
    "(im3[3:6, 14:17] * top_edge).sum()\n",
    "\n",
    "# We get a large positive value, the three negatives in our kernel are all 0s, and the 1's are all large positives"
   ]
  },
  {
   "cell_type": "code",
   "execution_count": 10,
   "id": "a63f4292",
   "metadata": {},
   "outputs": [
    {
     "name": "stdout",
     "output_type": "stream",
     "text": [
      "tensor([[0.9883, 0.9844, 0.9844],\n",
      "        [0.5195, 0.5156, 0.5156],\n",
      "        [0.0000, 0.0000, 0.0000]])\n"
     ]
    },
    {
     "data": {
      "text/plain": [
       "tensor(-2.9570)"
      ]
     },
     "execution_count": 10,
     "metadata": {},
     "output_type": "execute_result"
    }
   ],
   "source": [
    "# What if we look a the bottom of an edge\n",
    "print(im3[7:10, 14:17])\n",
    "\n",
    "# And apply our kernel\n",
    "(im3[7:10, 14:17] * top_edge).sum()\n",
    "\n",
    "# We get a large negative as now our negatives have large values and our positives are zero"
   ]
  },
  {
   "cell_type": "code",
   "execution_count": 11,
   "id": "c94120e9",
   "metadata": {},
   "outputs": [
    {
     "data": {
      "text/plain": [
       "tensor(2.9727)"
      ]
     },
     "execution_count": 11,
     "metadata": {},
     "output_type": "execute_result"
    }
   ],
   "source": [
    "# We can put this in a function\n",
    "# row,col specifis the center of the input\n",
    "def apply_kernel(row, col, kernel):\n",
    "    return (im3[row - 1 : row + 2, col - 1 : col + 2] * kernel).sum()\n",
    "\n",
    "\n",
    "apply_kernel(4, 15, top_edge)"
   ]
  },
  {
   "cell_type": "code",
   "execution_count": 12,
   "id": "6bd121fc",
   "metadata": {},
   "outputs": [
    {
     "data": {
      "text/plain": [
       "<Axes: >"
      ]
     },
     "execution_count": 12,
     "metadata": {},
     "output_type": "execute_result"
    },
    {
     "data": {
      "image/png": "[encoded data removed]",
      "text/plain": [
       "<Figure size 192x144 with 1 Axes>"
      ]
     },
     "metadata": {},
     "output_type": "display_data"
    }
   ],
   "source": [
    "# Lets apply it to all of them\n",
    "img3_edges = tensor([[apply_kernel(i, j, top_edge) for j in range(1, 27)] for i in range(1, 27)])\n",
    "\n",
    "# Note the top edges are highlighted\n",
    "ds.show_image(img3_edges)"
   ]
  },
  {
   "cell_type": "code",
   "execution_count": 13,
   "id": "beb22eb2",
   "metadata": {},
   "outputs": [
    {
     "data": {
      "text/plain": [
       "<Axes: >"
      ]
     },
     "execution_count": 13,
     "metadata": {},
     "output_type": "execute_result"
    },
    {
     "data": {
      "image/png": "[encoded data removed]",
      "text/plain": [
       "<Figure size 192x144 with 1 Axes>"
      ]
     },
     "metadata": {},
     "output_type": "display_data"
    }
   ],
   "source": [
    "# We can do this for other edges\n",
    "left_edge = tensor([[-1, 1, 0], [-1, 1, 0], [-1, 1, 0]])\n",
    "\n",
    "ds.show_image(left_edge, noframe=False)"
   ]
  },
  {
   "cell_type": "code",
   "execution_count": 14,
   "id": "72c4e960",
   "metadata": {},
   "outputs": [
    {
     "data": {
      "text/plain": [
       "<Axes: >"
      ]
     },
     "execution_count": 14,
     "metadata": {},
     "output_type": "execute_result"
    },
    {
     "data": {
      "image/png": "[encoded data removed]",
      "text/plain": [
       "<Figure size 192x144 with 1 Axes>"
      ]
     },
     "metadata": {},
     "output_type": "display_data"
    }
   ],
   "source": [
    "# And apply the left edge kernel\n",
    "img3_edges = tensor([[apply_kernel(i, j, left_edge) for j in range(1, 27)] for i in range(1, 27)])\n",
    "\n",
    "# Note the top edges are highlighted\n",
    "ds.show_image(img3_edges)"
   ]
  },
  {
   "cell_type": "markdown",
   "id": "b97e5c40",
   "metadata": {},
   "source": [
    "Notice that we always lose the outer edge of our image."
   ]
  },
  {
   "cell_type": "markdown",
   "id": "11ec7a49",
   "metadata": {},
   "source": [
    "## Convolutions in pytorch\n",
    "\n",
    "Doing convolutions in python will is slow. You can \"unroll\" input features and kernels into matrices so that a matrix multiplication does your convolution. There is `numpy.im2col` and `torch.nn.functional.unfold` and `pytorch.functional.conv2d`."
   ]
  },
  {
   "cell_type": "code",
   "execution_count": 27,
   "id": "e8776505",
   "metadata": {},
   "outputs": [
    {
     "data": {
      "text/plain": [
       "(torch.Size([1, 1, 28, 28]), torch.Size([9, 676]))"
      ]
     },
     "execution_count": 27,
     "metadata": {},
     "output_type": "execute_result"
    }
   ],
   "source": [
    "import torch.nn.functional as F\n",
    "\n",
    "# Unroll the input\n",
    "inp = im3[None, None, :, :].float()  # unfold expects batch and channel dimensions as well\n",
    "inp_unf = F.unfold(inp, (3, 3))[0]\n",
    "inp.shape, inp_unf.shape"
   ]
  },
  {
   "cell_type": "code",
   "execution_count": 35,
   "id": "ebef368a",
   "metadata": {},
   "outputs": [
    {
     "data": {
      "text/plain": [
       "torch.Size([9])"
      ]
     },
     "execution_count": 35,
     "metadata": {},
     "output_type": "execute_result"
    }
   ],
   "source": [
    "# Unroll the kernel by flattening it into a vector\n",
    "w = left_edge.view(-1).float()\n",
    "w.shape"
   ]
  },
  {
   "cell_type": "code",
   "execution_count": 36,
   "id": "723f0b7d",
   "metadata": {},
   "outputs": [
    {
     "data": {
      "text/plain": [
       "torch.Size([676])"
      ]
     },
     "execution_count": 36,
     "metadata": {},
     "output_type": "execute_result"
    }
   ],
   "source": [
    "# Do the matrix mult\n",
    "out_unf = w @ inp_unf\n",
    "out_unf.shape"
   ]
  },
  {
   "cell_type": "code",
   "execution_count": 37,
   "id": "181d822b",
   "metadata": {},
   "outputs": [
    {
     "data": {
      "text/plain": [
       "<Axes: >"
      ]
     },
     "execution_count": 37,
     "metadata": {},
     "output_type": "execute_result"
    },
    {
     "data": {
      "image/png": "[encoded data removed]",
      "text/plain": [
       "<Figure size 192x144 with 1 Axes>"
      ]
     },
     "metadata": {},
     "output_type": "display_data"
    }
   ],
   "source": [
    "# Squish it back into a matrix, note weve lost pixels\n",
    "out = out_unf.view(26, 26)\n",
    "ds.show_image(out)"
   ]
  },
  {
   "cell_type": "code",
   "execution_count": 63,
   "id": "3475b3b8",
   "metadata": {},
   "outputs": [
    {
     "data": {
      "text/plain": [
       "<Axes: >"
      ]
     },
     "execution_count": 63,
     "metadata": {},
     "output_type": "execute_result"
    },
    {
     "data": {
      "image/png": "[encoded data removed]",
      "text/plain": [
       "<Figure size 192x144 with 1 Axes>"
      ]
     },
     "metadata": {},
     "output_type": "display_data"
    }
   ],
   "source": [
    "# The same thing as these steps is wraped up in conv2d\n",
    "out = F.conv2d(inp, left_edge[None, None].float()).squeeze()\n",
    "ds.show_image(out)"
   ]
  },
  {
   "cell_type": "code",
   "execution_count": 68,
   "id": "f37cb834",
   "metadata": {},
   "outputs": [
    {
     "name": "stdout",
     "output_type": "stream",
     "text": [
      "1 2\n"
     ]
    },
    {
     "data": {
      "image/png": "[encoded data removed]",
      "text/plain": [
       "<Figure size 180x90 with 2 Axes>"
      ]
     },
     "metadata": {},
     "output_type": "display_data"
    }
   ],
   "source": [
    "# Diagonals can be define din the same way\n",
    "\n",
    "diag1_edge = tensor([[0, -1, 1], [-1, 1, 0], [1, 0, 0]])\n",
    "\n",
    "diag2_edge = tensor([[1, -1, 0], [0, 1, -1], [0, 0, 1]])\n",
    "\n",
    "ds.show_images([diag1_edge, diag2_edge])"
   ]
  },
  {
   "cell_type": "code",
   "execution_count": 78,
   "id": "41aedcce",
   "metadata": {},
   "outputs": [
    {
     "data": {
      "text/plain": [
       "torch.Size([4, 1, 3, 3])"
      ]
     },
     "execution_count": 78,
     "metadata": {},
     "output_type": "execute_result"
    }
   ],
   "source": [
    "# We can stack up all of the kernels in the batch dim\n",
    "edge_kernels = torch.stack([left_edge, top_edge, diag1_edge, diag2_edge])[:, None, ...]\n",
    "edge_kernels.shape"
   ]
  },
  {
   "cell_type": "code",
   "execution_count": 82,
   "id": "5a5170fc",
   "metadata": {},
   "outputs": [
    {
     "data": {
      "text/plain": [
       "torch.Size([16, 1, 28, 28])"
      ]
     },
     "execution_count": 82,
     "metadata": {},
     "output_type": "execute_result"
    }
   ],
   "source": [
    "# Grab a batch of 16 images in the batch dim as well\n",
    "img_batch = x_imgs[:16][:, None, ...]\n",
    "img_batch.shape"
   ]
  },
  {
   "cell_type": "code",
   "execution_count": 85,
   "id": "0e318c90",
   "metadata": {},
   "outputs": [
    {
     "data": {
      "text/plain": [
       "torch.Size([16, 4, 26, 26])"
      ]
     },
     "execution_count": 85,
     "metadata": {},
     "output_type": "execute_result"
    }
   ],
   "source": [
    "# And have pytorch do the conv on them all at once\n",
    "batch_features = F.conv2d(img_batch, edge_kernels)\n",
    "batch_features.shape"
   ]
  },
  {
   "cell_type": "code",
   "execution_count": 91,
   "id": "59eac053",
   "metadata": {},
   "outputs": [
    {
     "name": "stdout",
     "output_type": "stream",
     "text": [
      "8 8\n"
     ]
    },
    {
     "data": {
      "image/png": "[encoded data removed]",
      "text/plain": [
       "<Figure size 720x720 with 64 Axes>"
      ]
     },
     "metadata": {},
     "output_type": "display_data"
    }
   ],
   "source": [
    "ds.show_images([batch_features[i, j] for i in range(16) for j in range(4)])"
   ]
  },
  {
   "cell_type": "markdown",
   "id": "f375d3ab",
   "metadata": {},
   "source": [
    "## Strides and padding\n",
    "\n",
    "How do we deal with losing one pixel on each side? We can ad padding. We essentially start our window at [-1,-1] and just assume that these padded values are 0. You can vary the padding with the kernel size to maintain sizes:\n",
    "\n",
    "- 3x3 kernel + 1px padding = same size\n",
    "- 5x5 kernel + 3px padding = same size\n",
    "\n",
    "So we a kernel size of `ks` you need `ks//2` padding the maintain the same size.\n",
    "\n",
    "You can also move the window by a different amount each time. This is called the stride. Stride 2 convolutions are handy because they reduce the dimensionality of your input by a factor of two. This comes up a lot (autoencoders, most classification architectures).\n",
    "\n",
    "## Creating the CNN"
   ]
  },
  {
   "cell_type": "code",
   "execution_count": 96,
   "id": "a803f5ca",
   "metadata": {},
   "outputs": [],
   "source": [
    "n_images, n_pixels = x_train.shape\n",
    "n_categories = y_train.max() + 1\n",
    "n_hidden = 50"
   ]
  },
  {
   "cell_type": "code",
   "execution_count": 100,
   "id": "5e74a0f0",
   "metadata": {},
   "outputs": [],
   "source": [
    "# For our previous sequential linear models (MLP) we did this:\n",
    "model = nn.Sequential(nn.Linear(n_pixels, n_hidden), nn.ReLU(), nn.Linear(n_hidden, 10))\n",
    "\n",
    "# This is the equivelant for a convolution\n",
    "broken_cnn = nn.Sequential(\n",
    "    nn.Conv2d(1, 30, kernel_size=3, padding=1), nn.ReLU(), nn.Conv2d(30, 10, kernel_size=3, padding=1)\n",
    ")"
   ]
  },
  {
   "cell_type": "code",
   "execution_count": 105,
   "id": "fb830c64",
   "metadata": {},
   "outputs": [
    {
     "data": {
      "text/plain": [
       "torch.Size([16, 10, 28, 28])"
      ]
     },
     "execution_count": 105,
     "metadata": {},
     "output_type": "execute_result"
    }
   ],
   "source": [
    "# The problem is that the output now isnt 10 probabilities (one for each category)\n",
    "# Its 10 probabilities for each of 28x28 pixels\n",
    "broken_cnn(img_batch).shape\n",
    "\n",
    "# What shall we do?"
   ]
  },
  {
   "cell_type": "code",
   "execution_count": 108,
   "id": "0b13906d",
   "metadata": {},
   "outputs": [],
   "source": [
    "# |export\n",
    "\n",
    "\n",
    "def conv(in_channels, out_channels, kernel_size=3, stride=2, act=True):\n",
    "    \"\"\"Helper to make a Conv2d with an optional ReLU activation function\"\"\"\n",
    "    res = nn.Conv2d(in_channels, out_channels, stride=stride, kernel_size=kernel_size, padding=kernel_size // 2)\n",
    "    if act:\n",
    "        res = nn.Sequential(res, nn.ReLU())\n",
    "\n",
    "    return res"
   ]
  },
  {
   "cell_type": "code",
   "execution_count": 125,
   "id": "014647f9",
   "metadata": {},
   "outputs": [
    {
     "data": {
      "text/plain": [
       "torch.Size([16, 10])"
      ]
     },
     "execution_count": 125,
     "metadata": {},
     "output_type": "execute_result"
    }
   ],
   "source": [
    "# Each stride 2 conv halves our grid size until we end up with 16x10x1x1\n",
    "simple_cnn = nn.Sequential(\n",
    "    conv(1, 4),  # 14x14\n",
    "    conv(4, 8),  # 7x7\n",
    "    conv(8, 16),  # 4x4\n",
    "    conv(16, 16),  # 2x2\n",
    "    conv(16, 10, act=False),  # 1x1\n",
    "    nn.Flatten(),  # Remove extra dims\n",
    ")\n",
    "\n",
    "simple_cnn(img_batch).shape"
   ]
  },
  {
   "cell_type": "code",
   "execution_count": 134,
   "id": "1299778d",
   "metadata": {},
   "outputs": [],
   "source": [
    "# Now lets setup the training and validation data in a dataset\n",
    "from torch.utils.data import Dataset\n",
    "\n",
    "x_imgs = x_train.view(-1, 1, 28, 28)\n",
    "xv_imgs = x_valid.view(-1, 1, 28, 28)\n",
    "\n",
    "train_ds = tr.Dataset(x_imgs, y_train)\n",
    "valid_ds = tr.Dataset(xv_imgs, y_valid)"
   ]
  },
  {
   "cell_type": "code",
   "execution_count": 142,
   "id": "06b922b3",
   "metadata": {},
   "outputs": [],
   "source": [
    "# |export\n",
    "\n",
    "# Work out where we can run things and use that as the default device\n",
    "def_device = \"cuda\" if torch.cuda.is_available() else \"cpu\"\n",
    "\n",
    "\n",
    "def to_device(x, device=def_device):\n",
    "    \"\"\"Calls to_device on tensors,lists of tensors, dicts of tensors\"\"\"\n",
    "    if isinstance(x, Mapping):\n",
    "        return {k: val.to(device) for k, val in x.items()}\n",
    "\n",
    "    return type(x)(o.to(device) for o in x)\n",
    "\n",
    "\n",
    "def collate_device(batch):\n",
    "    \"\"\"Custom collate that calls the default_collate and puts the tensors onto the gpu if possible\"\"\"\n",
    "    return to_device(default_collate(batch))"
   ]
  },
  {
   "cell_type": "code",
   "execution_count": 150,
   "id": "d9576088",
   "metadata": {},
   "outputs": [],
   "source": [
    "# Create our dataloaders and optimizer\n",
    "from torch import optim\n",
    "\n",
    "batch_size = 256\n",
    "lr = 0.4\n",
    "\n",
    "train_dl, valid_dl = tr.get_dls(train_ds, valid_ds, batch_size, collate_fn=collate_device)\n",
    "opt = optim.SGD(simple_cnn.parameters(), lr=lr)"
   ]
  },
  {
   "cell_type": "code",
   "execution_count": 156,
   "id": "e0be5029",
   "metadata": {},
   "outputs": [
    {
     "name": "stdout",
     "output_type": "stream",
     "text": [
      "epoch: 0, loss: 2.29018125038147, acc: 0.11356\n",
      "epoch: 1, loss: 0.4546276520729065, acc: 0.856620000038147\n",
      "epoch: 2, loss: 0.30435046555042267, acc: 0.903360000038147\n",
      "epoch: 3, loss: 0.23735798338890077, acc: 0.9244\n",
      "epoch: 4, loss: 0.1510869704604149, acc: 0.953560000038147\n"
     ]
    }
   ],
   "source": [
    "# And get our fit func to train away\n",
    "loss, acc = tr.fit(5, simple_cnn.to(def_device), F.cross_entropy, opt, train_dl, valid_dl)"
   ]
  },
  {
   "cell_type": "code",
   "execution_count": 157,
   "id": "3a9af249",
   "metadata": {},
   "outputs": [
    {
     "name": "stdout",
     "output_type": "stream",
     "text": [
      "epoch: 0, loss: 0.10416874858856201, acc: 0.967620000038147\n",
      "epoch: 1, loss: 0.10144357597351074, acc: 0.9678200000381469\n",
      "epoch: 2, loss: 0.10280992586135865, acc: 0.967900000038147\n",
      "epoch: 3, loss: 0.09446246700763702, acc: 0.97014\n",
      "epoch: 4, loss: 0.08714750488698482, acc: 0.97256\n"
     ]
    }
   ],
   "source": [
    "# Lets try running it some more with a reduce learning rage\n",
    "opt = optim.SGD(simple_cnn.parameters(), lr=lr / 4)\n",
    "loss, acc = tr.fit(5, simple_cnn.to(def_device), F.cross_entropy, opt, train_dl, valid_dl)"
   ]
  },
  {
   "cell_type": "markdown",
   "id": "2ed13806",
   "metadata": {},
   "source": [
    "Pretty close to our MLP."
   ]
  },
  {
   "cell_type": "markdown",
   "id": "88ae4ed7",
   "metadata": {},
   "source": [
    "## Understanding convolution arithmetic\n",
    "\n",
    "With an input size of `64x1x28x28` and axes of `batch,channel,height,width`. This is often represented as `NCHW`. Tensorflow uses `NHWC` - channels last. Channels-last is faster for many models so has become an option in pytorch too.\n",
    "\n",
    "Our first conv has have input 1 channel, 4 out channels and a 3x3 kernel."
   ]
  },
  {
   "cell_type": "code",
   "execution_count": 160,
   "id": "cc5cb032",
   "metadata": {},
   "outputs": [
    {
     "data": {
      "text/plain": [
       "(Conv2d(1, 4, kernel_size=(3, 3), stride=(2, 2), padding=(1, 1)),\n",
       " torch.Size([4, 1, 3, 3]),\n",
       " torch.Size([4]))"
      ]
     },
     "execution_count": 160,
     "metadata": {},
     "output_type": "execute_result"
    }
   ],
   "source": [
    "conv1 = simple_cnn[0][0]\n",
    "conv1, conv1.weight.shape, conv1.bias.shape"
   ]
  },
  {
   "cell_type": "markdown",
   "id": "02d48296",
   "metadata": {},
   "source": [
    "The receptive field is the area of an image involved in the calculation of a layer. So on cell is created by a 3x3 area in the previous (and so on). Remember that there are also potentially multiple kernels.\n",
    "\n",
    "The deeper we are in the network, the larger the receptive field for an activation in that layer."
   ]
  },
  {
   "cell_type": "code",
   "execution_count": null,
   "id": "5a67e960",
   "metadata": {},
   "outputs": [],
   "source": []
  }
 ],
 "metadata": {
  "kernelspec": {
   "display_name": "Python 3 (ipykernel)",
   "language": "python",
   "name": "python3"
  },
  "language_info": {
   "codemirror_mode": {
    "name": "ipython",
    "version": 3
   },
   "file_extension": ".py",
   "mimetype": "text/x-python",
   "name": "python",
   "nbconvert_exporter": "python",
   "pygments_lexer": "ipython3",
   "version": "3.10.12"
  }
 },
 "nbformat": 4,
 "nbformat_minor": 5
}
