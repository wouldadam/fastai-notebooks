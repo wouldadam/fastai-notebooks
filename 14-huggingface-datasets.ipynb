{
 "cells": [
  {
   "cell_type": "code",
   "execution_count": 31,
   "id": "a0dc5a98",
   "metadata": {},
   "outputs": [],
   "source": [
    "# |default_exp datasets"
   ]
  },
  {
   "cell_type": "code",
   "execution_count": 37,
   "id": "c084144e",
   "metadata": {},
   "outputs": [],
   "source": [
    "# |export\n",
    "import math\n",
    "from itertools import zip_longest\n",
    "\n",
    "import numpy as np\n",
    "import matplotlib.pyplot as plt\n",
    "import fastcore.all as fc"
   ]
  },
  {
   "cell_type": "markdown",
   "id": "23522e3e",
   "metadata": {},
   "source": [
    "# Hugging Face datasets\n",
    "\n",
    "A whole bunch of different dataets to play with. Huggingface hub - models and dataests. Load from hub."
   ]
  },
  {
   "cell_type": "code",
   "execution_count": 8,
   "id": "9d6de60c",
   "metadata": {},
   "outputs": [
    {
     "name": "stdout",
     "output_type": "stream",
     "text": [
      "Fashion-MNIST is a dataset of Zalando's article images—consisting of a training set of\n",
      "60,000 examples and a test set of 10,000 examples. Each example is a 28x28 grayscale image,\n",
      "associated with a label from 10 classes. We intend Fashion-MNIST to serve as a direct drop-in\n",
      "replacement for the original MNIST dataset for benchmarking machine learning algorithms.\n",
      "It shares the same image size and structure of training and testing splits.\n",
      "\n"
     ]
    }
   ],
   "source": [
    "# Ada dataset_build contains a bunch of metadata about the dataset\n",
    "from datasets import load_dataset_builder\n",
    "\n",
    "name = \"fashion_mnist\"\n",
    "ds_builder = load_dataset_builder(name)\n",
    "\n",
    "print(ds_builder.info.description)"
   ]
  },
  {
   "cell_type": "code",
   "execution_count": 9,
   "id": "a5318b20",
   "metadata": {},
   "outputs": [
    {
     "data": {
      "text/plain": [
       "{'image': Image(decode=True, id=None),\n",
       " 'label': ClassLabel(names=['T - shirt / top', 'Trouser', 'Pullover', 'Dress', 'Coat', 'Sandal', 'Shirt', 'Sneaker', 'Bag', 'Ankle boot'], id=None)}"
      ]
     },
     "execution_count": 9,
     "metadata": {},
     "output_type": "execute_result"
    }
   ],
   "source": [
    "# What features does the dataset have\n",
    "ds_builder.info.features"
   ]
  },
  {
   "cell_type": "code",
   "execution_count": 10,
   "id": "35ac465f",
   "metadata": {},
   "outputs": [
    {
     "data": {
      "text/plain": [
       "{'train': SplitInfo(name='train', num_bytes=31296655, num_examples=60000, shard_lengths=None, dataset_name=None),\n",
       " 'test': SplitInfo(name='test', num_bytes=5233818, num_examples=10000, shard_lengths=None, dataset_name=None)}"
      ]
     },
     "execution_count": 10,
     "metadata": {},
     "output_type": "execute_result"
    }
   ],
   "source": [
    "# Are there any recommended training/test splits\n",
    "ds_builder.info.splits"
   ]
  },
  {
   "cell_type": "code",
   "execution_count": 15,
   "id": "7c6f17ad",
   "metadata": {},
   "outputs": [
    {
     "data": {
      "text/plain": [
       "DatasetDict({\n",
       "    train: Dataset({\n",
       "        features: ['image', 'label'],\n",
       "        num_rows: 60000\n",
       "    })\n",
       "    test: Dataset({\n",
       "        features: ['image', 'label'],\n",
       "        num_rows: 10000\n",
       "    })\n",
       "})"
      ]
     },
     "execution_count": 15,
     "metadata": {},
     "output_type": "execute_result"
    }
   ],
   "source": [
    "# Load the dataset itself rather than the metadata\n",
    "from datasets import load_dataset\n",
    "\n",
    "dataset_dict = load_dataset(name)\n",
    "\n",
    "# The dict contains train and test splits\n",
    "dataset_dict"
   ]
  },
  {
   "cell_type": "code",
   "execution_count": 17,
   "id": "e7b9d4b6",
   "metadata": {},
   "outputs": [
    {
     "data": {
      "text/plain": [
       "{'image': <PIL.PngImagePlugin.PngImageFile image mode=L size=28x28>,\n",
       " 'label': 9}"
      ]
     },
     "execution_count": 17,
     "metadata": {},
     "output_type": "execute_result"
    }
   ],
   "source": [
    "train_ds, test_ds = dataset_dict[\"train\"], dataset_dict[\"test\"]\n",
    "\n",
    "train_ds[0]"
   ]
  },
  {
   "cell_type": "code",
   "execution_count": 19,
   "id": "1e0c19e2",
   "metadata": {},
   "outputs": [
    {
     "data": {
      "image/png": "[encoded data removed]",
      "text/plain": [
       "<PIL.PngImagePlugin.PngImageFile image mode=L size=28x28>"
      ]
     },
     "execution_count": 19,
     "metadata": {},
     "output_type": "execute_result"
    }
   ],
   "source": [
    "# We can look at an items image\n",
    "train_ds[0][\"image\"]"
   ]
  },
  {
   "cell_type": "code",
   "execution_count": 20,
   "id": "5a825e04",
   "metadata": {},
   "outputs": [
    {
     "data": {
      "text/plain": [
       "9"
      ]
     },
     "execution_count": 20,
     "metadata": {},
     "output_type": "execute_result"
    }
   ],
   "source": [
    "# And its label\n",
    "train_ds[0][\"label\"]"
   ]
  },
  {
   "cell_type": "code",
   "execution_count": 26,
   "id": "c3bd86cf",
   "metadata": {},
   "outputs": [
    {
     "data": {
      "text/plain": [
       "['Ankle boot']"
      ]
     },
     "execution_count": 26,
     "metadata": {},
     "output_type": "execute_result"
    }
   ],
   "source": [
    "# And get the text for the label\n",
    "train_ds.features[\"label\"].int2str([train_ds[0][\"label\"]])"
   ]
  },
  {
   "cell_type": "code",
   "execution_count": 47,
   "id": "959e5e69",
   "metadata": {},
   "outputs": [
    {
     "data": {
      "text/plain": [
       "(torch.Size([16, 1, 28, 28]), torch.Size([16]))"
      ]
     },
     "execution_count": 47,
     "metadata": {},
     "output_type": "execute_result"
    }
   ],
   "source": [
    "# Lets make a DataLoader\n",
    "import torch\n",
    "from torch import tensor\n",
    "from torch.utils.data import DataLoader\n",
    "import torchvision.transforms.functional as TF\n",
    "\n",
    "\n",
    "# We're given an array where each item is an image/label dict\n",
    "# We output a single dict where image contains all images and label contains all labels\n",
    "def collate_fn(items):\n",
    "    return {\n",
    "        \"image\": torch.stack([TF.to_tensor(item[\"image\"]) for item in items]),\n",
    "        \"label\": tensor([item[\"label\"] for item in items]),\n",
    "    }\n",
    "\n",
    "\n",
    "dl = DataLoader(train_ds, collate_fn=collate_fn, batch_size=16)\n",
    "\n",
    "batch = next(iter(dl))\n",
    "batch[\"image\"].shape, batch[\"label\"].shape"
   ]
  },
  {
   "cell_type": "code",
   "execution_count": 52,
   "id": "565ba17a",
   "metadata": {},
   "outputs": [
    {
     "data": {
      "text/plain": [
       "(torch.Size([16, 1, 28, 28]), torch.Size([16]))"
      ]
     },
     "execution_count": 52,
     "metadata": {},
     "output_type": "execute_result"
    }
   ],
   "source": [
    "# Above we are using the collate_fn to transofrm the image into a tensor, we could use with_transform instead\n",
    "def transforms(items):\n",
    "    items[\"image\"] = [TF.to_tensor(img) for img in items[\"image\"]]\n",
    "    return items\n",
    "\n",
    "\n",
    "# Our dataloader will now use the default collate function with our transformed data\n",
    "# The default collate func already knows how to collate dicts of tensors\n",
    "trans_data = train_ds.with_transform(transforms)\n",
    "dl = DataLoader(trans_data, batch_size=16)\n",
    "\n",
    "batch = next(iter(dl))\n",
    "batch[\"image\"].shape, batch[\"label\"].shape"
   ]
  },
  {
   "cell_type": "code",
   "execution_count": 62,
   "id": "1cbcc631",
   "metadata": {},
   "outputs": [
    {
     "data": {
      "text/plain": [
       "(torch.Size([16, 784]), torch.Size([16]))"
      ]
     },
     "execution_count": 62,
     "metadata": {},
     "output_type": "execute_result"
    }
   ],
   "source": [
    "# If you want to do the transform in place the you could make an @inplace decorator\n",
    "def inplace(f):\n",
    "    def _f(b):\n",
    "        f(b)\n",
    "        return b\n",
    "\n",
    "    return _f\n",
    "\n",
    "\n",
    "# Here we also flatten the image tensor\n",
    "@inplace\n",
    "def transformi(items):\n",
    "    items[\"image\"] = items[\"image\"] = [torch.flatten(TF.to_tensor(img)) for img in items[\"image\"]]\n",
    "\n",
    "\n",
    "trans_flat_data = train_ds.with_transform(transformi)\n",
    "\n",
    "flat_dl = DataLoader(trans_flat_data, batch_size=16)\n",
    "\n",
    "flat_batch = next(iter(flat_dl))\n",
    "flat_batch[\"image\"].shape, flat_batch[\"label\"].shape"
   ]
  },
  {
   "cell_type": "code",
   "execution_count": 65,
   "id": "9e12dd53",
   "metadata": {},
   "outputs": [
    {
     "data": {
      "text/plain": [
       "(1, 3)"
      ]
     },
     "execution_count": 65,
     "metadata": {},
     "output_type": "execute_result"
    }
   ],
   "source": [
    "# itemgetter creates a func that gets the specified keys from a dict\n",
    "from operator import itemgetter\n",
    "\n",
    "d = dict(a=1, b=2, c=3)\n",
    "ig = itemgetter(\"a\", \"c\")\n",
    "\n",
    "ig(d)"
   ]
  },
  {
   "cell_type": "code",
   "execution_count": 69,
   "id": "392d23d0",
   "metadata": {},
   "outputs": [
    {
     "data": {
      "text/plain": [
       "{'a': [tensor([1, 3])], 'b': [tensor([2, 4])]}"
      ]
     },
     "execution_count": 69,
     "metadata": {},
     "output_type": "execute_result"
    }
   ],
   "source": [
    "from torch.utils.data import default_collate\n",
    "\n",
    "# pytorch's default collate, when given dicts, takes matching keys and stacks their values together\n",
    "batch = dict(a=[1], b=[2]), dict(a=[3], b=[4])\n",
    "default_collate(batch)"
   ]
  },
  {
   "cell_type": "code",
   "execution_count": 74,
   "id": "f47686e9",
   "metadata": {},
   "outputs": [
    {
     "data": {
      "text/plain": [
       "((tensor([[0., 0., 0.,  ..., 0., 0., 0.],\n",
       "          [0., 0., 0.,  ..., 0., 0., 0.],\n",
       "          [0., 0., 0.,  ..., 0., 0., 0.],\n",
       "          ...,\n",
       "          [0., 0., 0.,  ..., 0., 0., 0.],\n",
       "          [0., 0., 0.,  ..., 0., 0., 0.],\n",
       "          [0., 0., 0.,  ..., 0., 0., 0.]]),\n",
       "  tensor([9, 0, 0, 3, 0, 2, 7, 2, 5, 5, 0, 9, 5, 5, 7, 9])),\n",
       " torch.Size([16, 784]),\n",
       " torch.Size([16]))"
      ]
     },
     "execution_count": 74,
     "metadata": {},
     "output_type": "execute_result"
    }
   ],
   "source": [
    "# We can write a collating func that uses itemgetter to get the features of a HF dataset that we want\n",
    "def collate_dict(dataset):\n",
    "    get = itemgetter(*dataset.features)\n",
    "\n",
    "    def _f(items):\n",
    "        return get(default_collate(items))\n",
    "\n",
    "    return _f\n",
    "\n",
    "\n",
    "# Now instead of a dict we get tuples, HF tends to use dicts but a lot of things want tuples\n",
    "dlf = DataLoader(trans_flat_data, batch_size=16, collate_fn=collate_dict(trans_flat_data))\n",
    "dlf_batch = next(iter(dlf))\n",
    "\n",
    "dlf_batch, dlf_batch[0].shape, dlf_batch[1].shape"
   ]
  },
  {
   "cell_type": "markdown",
   "id": "1ba500f6",
   "metadata": {},
   "source": [
    "## Plotting images"
   ]
  },
  {
   "cell_type": "code",
   "execution_count": 114,
   "id": "e46249d7",
   "metadata": {},
   "outputs": [
    {
     "data": {
      "text/plain": [
       "<matplotlib.image.AxesImage at 0x7ff228d8ba60>"
      ]
     },
     "execution_count": 114,
     "metadata": {},
     "output_type": "execute_result"
    },
    {
     "data": {
      "image/png": "[encoded data removed]",
      "text/plain": [
       "<Figure size 640x480 with 1 Axes>"
      ]
     },
     "metadata": {},
     "output_type": "display_data"
    }
   ],
   "source": [
    "import matplotlib as mpl\n",
    "import matplotlib.pyplot as plt\n",
    "\n",
    "mpl.rcParams[\"image.cmap\"] = \"gray\"\n",
    "\n",
    "batch = next(iter(dl))\n",
    "images = batch[\"image\"]\n",
    "\n",
    "plt.imshow(images[0][0])"
   ]
  },
  {
   "cell_type": "code",
   "execution_count": 40,
   "id": "eab17918",
   "metadata": {},
   "outputs": [],
   "source": [
    "# |export\n",
    "\n",
    "\n",
    "@fc.delegates(plt.Axes.imshow)  # kwargs is going to imshow\n",
    "def show_image(img, ax=None, figsize=None, title=None, noframe=True, **kwargs):\n",
    "    \"\"\"Show A PIL or PyTorch image on 'ax'.\"\"\"\n",
    "\n",
    "    # If its on the GPU copy to CPU\n",
    "    if fc.hasattrs(img, (\"cpu\", \"permute\")):\n",
    "        img = img.detach().cpu()\n",
    "\n",
    "        # Ensure correct axis order\n",
    "        if len(img.shape) == 3 and img.shape[0] < 5:\n",
    "            img = img.permute(1, 2, 0)\n",
    "    elif not isinstance(img, np.ndarray):\n",
    "        # If not a numpy array make it one\n",
    "        img = np.array(img)\n",
    "\n",
    "    if img.shape[-1] == 1:\n",
    "        img = img[..., 0]\n",
    "\n",
    "    # Create axis if not specified\n",
    "    if ax is None:\n",
    "        _, ax = plt.subplots(figsize=figsize)\n",
    "\n",
    "    ax.imshow(img, **kwargs)\n",
    "\n",
    "    if title is not None:\n",
    "        ax.set_title(title)\n",
    "\n",
    "    if noframe:\n",
    "        ax.axis(\"off\")  # Remove axis ticks\n",
    "    return ax"
   ]
  },
  {
   "cell_type": "code",
   "execution_count": 131,
   "id": "6ad8890b",
   "metadata": {},
   "outputs": [
    {
     "name": "stdout",
     "output_type": "stream",
     "text": [
      "Help on function show_image in module __main__:\n",
      "\n",
      "show_image(img, ax=None, figsize=None, title=None, *, cmap=None, norm=None, aspect=None, interpolation=None, alpha=None, vmin=None, vmax=None, origin=None, extent=None, interpolation_stage=None, filternorm=True, filterrad=4.0, resample=None, url=None, data=None)\n",
      "    Show A PIL or PyTorch image on 'ax'.\n",
      "\n"
     ]
    }
   ],
   "source": [
    "help(show_image)"
   ]
  },
  {
   "cell_type": "code",
   "execution_count": 132,
   "id": "9b9b29f8",
   "metadata": {},
   "outputs": [
    {
     "data": {
      "text/plain": [
       "<Axes: >"
      ]
     },
     "execution_count": 132,
     "metadata": {},
     "output_type": "execute_result"
    },
    {
     "data": {
      "image/png": "[encoded data removed]",
      "text/plain": [
       "<Figure size 400x400 with 1 Axes>"
      ]
     },
     "metadata": {},
     "output_type": "display_data"
    }
   ],
   "source": [
    "show_image(images[0], figsize=(4, 4))"
   ]
  },
  {
   "cell_type": "code",
   "execution_count": 133,
   "id": "116cb6cd",
   "metadata": {},
   "outputs": [
    {
     "data": {
      "text/plain": [
       "<Axes: >"
      ]
     },
     "execution_count": 133,
     "metadata": {},
     "output_type": "execute_result"
    },
    {
     "data": {
      "image/png": "[encoded data removed]",
      "text/plain": [
       "<Figure size 640x480 with 2 Axes>"
      ]
     },
     "metadata": {},
     "output_type": "display_data"
    }
   ],
   "source": [
    "fig, axs = plt.subplots(1, 2)  # axs now has 2 plots\n",
    "show_image(images[0], axs[0])\n",
    "show_image(images[1], axs[1])"
   ]
  },
  {
   "cell_type": "code",
   "execution_count": 34,
   "id": "0b10f3c7",
   "metadata": {},
   "outputs": [],
   "source": [
    "# |export\n",
    "\n",
    "\n",
    "@fc.delegates(plt.subplots, keep=True)\n",
    "def subplots(\n",
    "    nrows: int = 1,  # Number of rows in returned axes grid\n",
    "    ncols: int = 1,  # Number of columns in returned axes grid\n",
    "    figsize: tuple = None,  # Width, height in inches of the returned figure\n",
    "    imsize: int = 3,  # Size (in inches) of images that will be displayed in the returned figure\n",
    "    suptitle: str = None,  # Title to be set to returned figure\n",
    "    **kwargs\n",
    "):\n",
    "    \"\"\"A figure and set of subplots to display images of `imsize` inches\"\"\"\n",
    "    if figsize is None:\n",
    "        figsize = (ncols * imsize, nrows * imsize)\n",
    "\n",
    "    fig, ax = plt.subplots(nrows, ncols, figsize=figsize, **kwargs)\n",
    "\n",
    "    if suptitle is not None:\n",
    "        fig.suptitle(suptitle)\n",
    "\n",
    "    if nrows * ncols == 1:\n",
    "        ax = np.array([ax])\n",
    "\n",
    "    return fig, ax"
   ]
  },
  {
   "cell_type": "code",
   "execution_count": 123,
   "id": "3388f019",
   "metadata": {},
   "outputs": [
    {
     "data": {
      "text/markdown": [
       "---\n",
       "\n",
       "### subplots\n",
       "\n",
       ">      subplots (nrows:int=1, ncols:int=1, figsize:tuple=None, imsize:int=3,\n",
       ">                suptitle:str=None, sharex=False, sharey=False, squeeze=True,\n",
       ">                width_ratios=None, height_ratios=None, subplot_kw=None,\n",
       ">                gridspec_kw=None, **kwargs)\n",
       "\n",
       "A figure and set of subplots to display images of `imsize` inches\n",
       "\n",
       "|    | **Type** | **Default** | **Details** |\n",
       "| -- | -------- | ----------- | ----------- |\n",
       "| nrows | int | 1 | Number of rows in returned axes grid |\n",
       "| ncols | int | 1 | Number of columns in returned axes grid |\n",
       "| figsize | tuple | None | Width, height in inches of the returned figure |\n",
       "| imsize | int | 3 | Size (in inches) of images that will be displayed in the returned figure |\n",
       "| suptitle | str | None | Title to be set to returned figure |\n",
       "| sharex | bool | False |  |\n",
       "| sharey | bool | False |  |\n",
       "| squeeze | bool | True |  |\n",
       "| width_ratios | NoneType | None |  |\n",
       "| height_ratios | NoneType | None |  |\n",
       "| subplot_kw | NoneType | None |  |\n",
       "| gridspec_kw | NoneType | None |  |\n",
       "| kwargs |  |  |  |"
      ],
      "text/plain": [
       "---\n",
       "\n",
       "### subplots\n",
       "\n",
       ">      subplots (nrows:int=1, ncols:int=1, figsize:tuple=None, imsize:int=3,\n",
       ">                suptitle:str=None, sharex=False, sharey=False, squeeze=True,\n",
       ">                width_ratios=None, height_ratios=None, subplot_kw=None,\n",
       ">                gridspec_kw=None, **kwargs)\n",
       "\n",
       "A figure and set of subplots to display images of `imsize` inches\n",
       "\n",
       "|    | **Type** | **Default** | **Details** |\n",
       "| -- | -------- | ----------- | ----------- |\n",
       "| nrows | int | 1 | Number of rows in returned axes grid |\n",
       "| ncols | int | 1 | Number of columns in returned axes grid |\n",
       "| figsize | tuple | None | Width, height in inches of the returned figure |\n",
       "| imsize | int | 3 | Size (in inches) of images that will be displayed in the returned figure |\n",
       "| suptitle | str | None | Title to be set to returned figure |\n",
       "| sharex | bool | False |  |\n",
       "| sharey | bool | False |  |\n",
       "| squeeze | bool | True |  |\n",
       "| width_ratios | NoneType | None |  |\n",
       "| height_ratios | NoneType | None |  |\n",
       "| subplot_kw | NoneType | None |  |\n",
       "| gridspec_kw | NoneType | None |  |\n",
       "| kwargs |  |  |  |"
      ]
     },
     "execution_count": 123,
     "metadata": {},
     "output_type": "execute_result"
    }
   ],
   "source": [
    "from nbdev.showdoc import show_doc\n",
    "\n",
    "show_doc(subplots)"
   ]
  },
  {
   "cell_type": "code",
   "execution_count": 127,
   "id": "0cd23c65",
   "metadata": {},
   "outputs": [
    {
     "data": {
      "image/png": "[encoded data removed]",
      "text/plain": [
       "<Figure size 300x300 with 9 Axes>"
      ]
     },
     "metadata": {},
     "output_type": "display_data"
    }
   ],
   "source": [
    "fig, axs = subplots(3, 3, imsize=1, suptitle=\"Example plot\")\n",
    "\n",
    "for ax, img in zip(axs.flat, images[:8]):\n",
    "    show_image(img, ax)"
   ]
  },
  {
   "cell_type": "code",
   "execution_count": 35,
   "id": "c9d49568",
   "metadata": {},
   "outputs": [],
   "source": [
    "# |export\n",
    "\n",
    "\n",
    "@fc.delegates(subplots)\n",
    "def get_grid(\n",
    "    n: int,  # Number of axes\n",
    "    nrows: int = None,  # Number of rows, defaulting to `int(math.sqrt(n))`\n",
    "    ncols: int = None,  # Number of columns, defaulting to `ceil(n/rows)`\n",
    "    title: str = None,  # If passed, title set to the figure\n",
    "    weight: str = \"bold\",  # Title font weight\n",
    "    size: int = 14,  # Title font size\n",
    "    **kwargs,\n",
    "):\n",
    "    \"Return a grid of `n` axes, `rows` by `cols`\"\n",
    "    if nrows:\n",
    "        ncols = ncols or int(np.ceil(n / nrows))\n",
    "    elif ncols:\n",
    "        nrows = nrows or int(np.ceil(n / ncols))\n",
    "    else:\n",
    "        nrows = int(math.sqrt(n))\n",
    "        ncols = int(np.floor(n / nrows))\n",
    "\n",
    "    print(nrows, ncols)\n",
    "\n",
    "    fig, axs = subplots(nrows, ncols, **kwargs)\n",
    "\n",
    "    for i in range(n, nrows * ncols):\n",
    "        axs.flat[i].set_axis_off()\n",
    "\n",
    "    if title is not None:\n",
    "        fig.suptitle(title, weight=weight, size=size)\n",
    "\n",
    "    return fig, axs"
   ]
  },
  {
   "cell_type": "code",
   "execution_count": 155,
   "id": "cfd2d31d",
   "metadata": {},
   "outputs": [
    {
     "name": "stdout",
     "output_type": "stream",
     "text": [
      "3 3\n"
     ]
    },
    {
     "data": {
      "image/png": "[encoded data removed]",
      "text/plain": [
       "<Figure size 300x300 with 9 Axes>"
      ]
     },
     "metadata": {},
     "output_type": "display_data"
    }
   ],
   "source": [
    "fig, axs = get_grid(8, nrows=3, imsize=1)\n",
    "\n",
    "for ax, img in zip(axs.flat, images[:8]):\n",
    "    show_image(img, ax)"
   ]
  },
  {
   "cell_type": "code",
   "execution_count": 36,
   "id": "64f9c11a",
   "metadata": {},
   "outputs": [],
   "source": [
    "# |export\n",
    "\n",
    "\n",
    "@fc.delegates(subplots)\n",
    "def show_images(\n",
    "    ims: list,  # Images to show\n",
    "    nrows: int | None = None,  # Number of rows in grid\n",
    "    ncols: int | None = None,  # Number of columns in grid (auto-calculated if None)\n",
    "    titles: list | None = None,  # Optional list of titles for each image\n",
    "    **kwargs\n",
    "):\n",
    "    \"\"\" \"Show all images `ims` as subplots with `rows` using `titles`\"\"\"\n",
    "\n",
    "    axs = get_grid(len(ims), nrows, ncols, **kwargs)[1].flat\n",
    "\n",
    "    for im, t, ax in zip_longest(ims, titles or [], axs):\n",
    "        show_image(im, ax=ax, title=t)"
   ]
  },
  {
   "cell_type": "code",
   "execution_count": 166,
   "id": "8bdb8ab7",
   "metadata": {},
   "outputs": [
    {
     "name": "stdout",
     "output_type": "stream",
     "text": [
      "2 4\n"
     ]
    },
    {
     "data": {
      "image/png": "[encoded data removed]",
      "text/plain": [
       "<Figure size 600x300 with 8 Axes>"
      ]
     },
     "metadata": {},
     "output_type": "display_data"
    }
   ],
   "source": [
    "labels = batch[\"label\"][:8]\n",
    "titles = train_ds.features[\"label\"].int2str(labels)\n",
    "\n",
    "show_images(images[:8], imsize=1.5, titles=titles)"
   ]
  },
  {
   "cell_type": "code",
   "execution_count": null,
   "id": "5e788cf7",
   "metadata": {},
   "outputs": [],
   "source": []
  }
 ],
 "metadata": {
  "kernelspec": {
   "display_name": "Python 3 (ipykernel)",
   "language": "python",
   "name": "python3"
  },
  "language_info": {
   "codemirror_mode": {
    "name": "ipython",
    "version": 3
   },
   "file_extension": ".py",
   "mimetype": "text/x-python",
   "name": "python",
   "nbconvert_exporter": "python",
   "pygments_lexer": "ipython3",
   "version": "3.10.12"
  }
 },
 "nbformat": 4,
 "nbformat_minor": 5
}
