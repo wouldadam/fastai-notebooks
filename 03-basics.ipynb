{
 "cells": [
  {
   "cell_type": "markdown",
   "metadata": {},
   "source": [
    "# Init"
   ]
  },
  {
   "cell_type": "code",
   "execution_count": 1,
   "metadata": {},
   "outputs": [],
   "source": [
    "from ipywidgets import interact\n",
    "from fastai.basics import *\n",
    "\n",
    "plt.rc(\"figure\", dpi=90)\n",
    "\n",
    "\n",
    "# plat a function on a graph\n",
    "def plot_function(f, title=None, min=-2.1, max=2.1, color=\"r\", ylim=None):\n",
    "    x = torch.linspace(min, max, 100)[:, None]\n",
    "    if ylim:\n",
    "        plt.ylim(ylim)\n",
    "    plt.plot(x, f(x), color)\n",
    "    if title is not None:\n",
    "        plt.title(title)\n",
    "\n",
    "\n",
    "# Calc value  of a point on any quadratic\n",
    "def quad(a, b, c, x):\n",
    "    return a * x**2 + b * x + c\n",
    "\n",
    "\n",
    "def mk_quad(a, b, c):\n",
    "    return partial(quad, a, b, c)\n",
    "\n",
    "\n",
    "# Add noise to a function\n",
    "def noise(x, scale):\n",
    "    return np.random.normal(scale=scale, size=x.shape)\n",
    "\n",
    "\n",
    "def add_noise(x, mult, add):\n",
    "    return x * (1 + noise(x, mult)) + noise(x, add)"
   ]
  },
  {
   "cell_type": "markdown",
   "metadata": {},
   "source": [
    "# Fitting to a function"
   ]
  },
  {
   "cell_type": "code",
   "execution_count": 2,
   "metadata": {},
   "outputs": [
    {
     "data": {
      "image/png": "[encoded data removed]",
      "text/plain": [
       "<Figure size 576x432 with 1 Axes>"
      ]
     },
     "metadata": {},
     "output_type": "display_data"
    }
   ],
   "source": [
    "# Say you have a function that you want to fit to\n",
    "# but you dont actually know the function\n",
    "f = mk_quad(3, 2, 1)\n",
    "plot_function(f)"
   ]
  },
  {
   "cell_type": "code",
   "execution_count": 3,
   "metadata": {},
   "outputs": [
    {
     "data": {
      "text/plain": [
       "<matplotlib.collections.PathCollection at 0x7fc3513421a0>"
      ]
     },
     "execution_count": 3,
     "metadata": {},
     "output_type": "execute_result"
    },
    {
     "data": {
      "image/png": "[encoded data removed]",
      "text/plain": [
       "<Figure size 576x432 with 1 Axes>"
      ]
     },
     "metadata": {},
     "output_type": "display_data"
    }
   ],
   "source": [
    "# In real life our data probably isnt perfect there is some noise\n",
    "np.random.seed(42)\n",
    "\n",
    "x = torch.linspace(-2, 2, steps=20)[:, None]\n",
    "y = add_noise(f(x), 0.15, 1.5)\n",
    "plt.scatter(x, y)"
   ]
  },
  {
   "cell_type": "code",
   "execution_count": 4,
   "metadata": {},
   "outputs": [
    {
     "data": {
      "application/vnd.jupyter.widget-view+json": {
       "model_id": "08335f4c90ca4141a5f0b552a74e6745",
       "version_major": 2,
       "version_minor": 0
      },
      "text/plain": [
       "interactive(children=(FloatSlider(value=1.1, description='a', max=3.3000000000000003, min=-1.1), FloatSlider(v…"
      ]
     },
     "metadata": {},
     "output_type": "display_data"
    }
   ],
   "source": [
    "# We want to reconstruct the function from this noisy data\n",
    "# you can play at doing it manually\n",
    "\n",
    "\n",
    "# We can also calculate the mean absolute error (the distance from\n",
    "# each point to the curve) to help\n",
    "def mae(preds, acts):\n",
    "    return (torch.abs(preds - acts)).mean()\n",
    "\n",
    "\n",
    "@interact(a=1.1, b=1.1, c=1.1)\n",
    "def plot_quad(a, b, c):\n",
    "    f = mk_quad(a, b, c)\n",
    "    plt.scatter(x, y)\n",
    "    loss = mae(f(x), y)\n",
    "    plot_function(f, ylim=(-3, 12), title=f\"MAE: {loss:.2f}\")"
   ]
  },
  {
   "cell_type": "markdown",
   "metadata": {},
   "source": [
    "You will find yourself wiggling each param from left to right and then iterating. Now we just need to automate this to 'learn'. We want to know how to wiggle them to get the changes we want so will calculate the derrivative."
   ]
  },
  {
   "cell_type": "markdown",
   "metadata": {},
   "source": [
    "# Gradient descent"
   ]
  },
  {
   "cell_type": "code",
   "execution_count": 5,
   "metadata": {},
   "outputs": [],
   "source": [
    "# Takes our params as a single input and  returns the mae\n",
    "def quad_mae(params):\n",
    "    f = mk_quad(*params)\n",
    "    return mae(f(x), y)"
   ]
  },
  {
   "cell_type": "code",
   "execution_count": 6,
   "metadata": {},
   "outputs": [
    {
     "name": "stdout",
     "output_type": "stream",
     "text": [
      "loss=2.42\n"
     ]
    },
    {
     "data": {
      "text/plain": [
       "tensor([-1.3529, -0.0316, -0.5000])"
      ]
     },
     "execution_count": 6,
     "metadata": {},
     "output_type": "execute_result"
    }
   ],
   "source": [
    "# How would we use this\n",
    "# 1. Pick some starting values and tell pytorch we want to calc the gradients\n",
    "abc = torch.tensor([1.1, 1.1, 1.1])\n",
    "abc.requires_grad_()\n",
    "\n",
    "# 2. Work out the loss\n",
    "loss = quad_mae(abc)\n",
    "\n",
    "# 3. Work out the gradient. ie how to changing the params changes the loss\n",
    "loss.backward()\n",
    "\n",
    "print(f\"loss={loss:.2f}\")\n",
    "abc.grad"
   ]
  },
  {
   "cell_type": "code",
   "execution_count": 7,
   "metadata": {},
   "outputs": [
    {
     "name": "stdout",
     "output_type": "stream",
     "text": [
      "loss=2.42\n",
      "loss=2.38\n",
      "loss=2.32\n",
      "loss=2.23\n",
      "loss=2.13\n"
     ]
    }
   ],
   "source": [
    "# Lets tweak the parameters and see what happens to the loss. Lets do it in a loop\n",
    "\n",
    "\n",
    "for i in range(5):\n",
    "    loss = quad_mae(abc)\n",
    "    loss.backward()\n",
    "\n",
    "    with torch.no_grad():  # Dont calc grads for this bit, its not part of the quadratic\n",
    "        abc -= abc.grad * 0.01\n",
    "\n",
    "    print(f\"loss={loss:.2f}\")"
   ]
  },
  {
   "cell_type": "markdown",
   "metadata": {},
   "source": [
    "Run the above a bunch of times and the loss will keep trending towards 0. It eventuallly wont get any closer and might event go back up a bit (because our learing rate is fixed at 0.01 and we end up going to far)."
   ]
  },
  {
   "cell_type": "markdown",
   "metadata": {},
   "source": [
    "# Using a neural network to approximate any function\n",
    "\n",
    "The answer to whatever problem you are solving probling isnt represented as a quadratic. Its probably more complex. So how do we use a NN to approximate whatever that is."
   ]
  },
  {
   "cell_type": "code",
   "execution_count": 8,
   "metadata": {},
   "outputs": [
    {
     "data": {
      "application/vnd.jupyter.widget-view+json": {
       "model_id": "a5c216789ad44dedbb48dae9d90a6365",
       "version_major": 2,
       "version_minor": 0
      },
      "text/plain": [
       "interactive(children=(FloatSlider(value=1.5, description='m', max=4.5, min=-1.5), FloatSlider(value=1.5, descr…"
      ]
     },
     "metadata": {},
     "output_type": "display_data"
    }
   ],
   "source": [
    "# Turns out you can represent a infinitely flexible function from just this linear function\n",
    "\n",
    "\n",
    "def rectified_linear(m, b, x):\n",
    "    y = m * x + b\n",
    "    return torch.clip(y, 0.0)\n",
    "\n",
    "\n",
    "# It can also be written using pytorch\n",
    "import torch.nn.functional as F\n",
    "\n",
    "\n",
    "def rectified_linear2(m, b, x):\n",
    "    return F.relu(m * x + b)\n",
    "\n",
    "\n",
    "@interact(m=1.5, b=1.5)\n",
    "def plot_relu(m, b):\n",
    "    plot_function(partial(rectified_linear, m, b), ylim=(-1, 4))"
   ]
  },
  {
   "cell_type": "code",
   "execution_count": 9,
   "metadata": {},
   "outputs": [
    {
     "data": {
      "application/vnd.jupyter.widget-view+json": {
       "model_id": "ac3de86925f14837af3d7f4b61b29a08",
       "version_major": 2,
       "version_minor": 0
      },
      "text/plain": [
       "interactive(children=(FloatSlider(value=1.5, description='m', max=4.5, min=-1.5), FloatSlider(value=1.5, descr…"
      ]
     },
     "metadata": {},
     "output_type": "display_data"
    }
   ],
   "source": [
    "# It can also be written using pytorch\n",
    "import torch.nn.functional as F\n",
    "\n",
    "\n",
    "def rectified_linear2(m, b, x):\n",
    "    return F.relu(m * x + b)\n",
    "\n",
    "\n",
    "@interact(m=1.5, b=1.5)\n",
    "def plot_relu(m, b):\n",
    "    plot_function(partial(rectified_linear, m, b), ylim=(-1, 4))"
   ]
  },
  {
   "cell_type": "code",
   "execution_count": 10,
   "metadata": {},
   "outputs": [
    {
     "data": {
      "application/vnd.jupyter.widget-view+json": {
       "model_id": "60c1ebd6d8d841598527d98b05e1fa2b",
       "version_major": 2,
       "version_minor": 0
      },
      "text/plain": [
       "interactive(children=(FloatSlider(value=-1.5, description='m1', max=1.5, min=-4.5), FloatSlider(value=-1.5, de…"
      ]
     },
     "metadata": {},
     "output_type": "display_data"
    }
   ],
   "source": [
    "# What happens if we start summing them together?\n",
    "\n",
    "\n",
    "def double_relu(m1, b1, m2, b2, x):\n",
    "    return rectified_linear(m1, b1, x) + rectified_linear(m2, b2, x)\n",
    "\n",
    "\n",
    "@interact(m1=-1.5, b1=-1.5, m2=1.5, b2=1.5)\n",
    "def plot_double_relu(m1, b1, m2, b2):\n",
    "    plot_function(partial(double_relu, m1, b1, m2, b2), ylim=(-1, 6))"
   ]
  },
  {
   "cell_type": "markdown",
   "metadata": {},
   "source": [
    "Now we get a slope with two components. We can add as many of these together as we want. We can use this to approximate any function with enough relus.\n",
    "\n",
    "Now we can just start with random params into our relus and gradient descent until we fit our function."
   ]
  },
  {
   "cell_type": "markdown",
   "metadata": {},
   "source": [
    "# Matrix multiplication\n",
    "\n",
    "We're going to be multipling lots of things together and adding them up. Matrix multiplication can help us do that but a lot quicker. A quick example:"
   ]
  },
  {
   "cell_type": "code",
   "execution_count": 23,
   "metadata": {},
   "outputs": [
    {
     "data": {
      "text/plain": [
       "array([[15, 27],\n",
       "       [47, 94],\n",
       "       [26, 63]])"
      ]
     },
     "execution_count": 23,
     "metadata": {},
     "output_type": "execute_result"
    }
   ],
   "source": [
    "# If we multiply a 3x3 matrix\n",
    "a = np.array([[1, 2, 1], [7, 5, 3], [2, 3, 4]])\n",
    "\n",
    "# by a 2x3 matrix\n",
    "b = np.array([[2, 5], [6, 7], [1, 8]])\n",
    "\n",
    "# For each row in the result\n",
    "# Multiply row i by the first col and sum\n",
    "# Multiply row i by the second column and sum\n",
    "a.dot(b)"
   ]
  },
  {
   "cell_type": "markdown",
   "metadata": {},
   "source": [
    "GPUs are really good a this (especially with multiplying 4x4 matricies)."
   ]
  },
  {
   "cell_type": "code",
   "execution_count": null,
   "metadata": {},
   "outputs": [],
   "source": []
  }
 ],
 "metadata": {
  "kernelspec": {
   "display_name": "Python 3 (ipykernel)",
   "language": "python",
   "name": "python3"
  },
  "language_info": {
   "codemirror_mode": {
    "name": "ipython",
    "version": 3
   },
   "file_extension": ".py",
   "mimetype": "text/x-python",
   "name": "python",
   "nbconvert_exporter": "python",
   "pygments_lexer": "ipython3",
   "version": "3.10.12"
  }
 },
 "nbformat": 4,
 "nbformat_minor": 4
}
