{
 "cells": [
  {
   "cell_type": "markdown",
   "id": "e99e00a9",
   "metadata": {},
   "source": [
    "# Titanic from scratch\n",
    "\n",
    "Looking at the [titanic](https://www.kaggle.com/competitions/titanic) kaggle competition without a high level framework, building a linear model or NN from scratch."
   ]
  },
  {
   "cell_type": "markdown",
   "id": "b05e79c8",
   "metadata": {},
   "source": [
    "## Data"
   ]
  },
  {
   "cell_type": "code",
   "execution_count": 1,
   "id": "63ede51f",
   "metadata": {},
   "outputs": [
    {
     "data": {
      "text/html": [
       "<div>\n",
       "<style scoped>\n",
       "    .dataframe tbody tr th:only-of-type {\n",
       "        vertical-align: middle;\n",
       "    }\n",
       "\n",
       "    .dataframe tbody tr th {\n",
       "        vertical-align: top;\n",
       "    }\n",
       "\n",
       "    .dataframe thead th {\n",
       "        text-align: right;\n",
       "    }\n",
       "</style>\n",
       "<table border=\"1\" class=\"dataframe\">\n",
       "  <thead>\n",
       "    <tr style=\"text-align: right;\">\n",
       "      <th></th>\n",
       "      <th>PassengerId</th>\n",
       "      <th>Survived</th>\n",
       "      <th>Pclass</th>\n",
       "      <th>Name</th>\n",
       "      <th>Sex</th>\n",
       "      <th>Age</th>\n",
       "      <th>SibSp</th>\n",
       "      <th>Parch</th>\n",
       "      <th>Ticket</th>\n",
       "      <th>Fare</th>\n",
       "      <th>Cabin</th>\n",
       "      <th>Embarked</th>\n",
       "    </tr>\n",
       "  </thead>\n",
       "  <tbody>\n",
       "    <tr>\n",
       "      <th>0</th>\n",
       "      <td>1</td>\n",
       "      <td>0</td>\n",
       "      <td>3</td>\n",
       "      <td>Braund, Mr. Owen Harris</td>\n",
       "      <td>male</td>\n",
       "      <td>22.0</td>\n",
       "      <td>1</td>\n",
       "      <td>0</td>\n",
       "      <td>A/5 21171</td>\n",
       "      <td>7.2500</td>\n",
       "      <td>NaN</td>\n",
       "      <td>S</td>\n",
       "    </tr>\n",
       "    <tr>\n",
       "      <th>1</th>\n",
       "      <td>2</td>\n",
       "      <td>1</td>\n",
       "      <td>1</td>\n",
       "      <td>Cumings, Mrs. John Bradley (Florence Briggs Th...</td>\n",
       "      <td>female</td>\n",
       "      <td>38.0</td>\n",
       "      <td>1</td>\n",
       "      <td>0</td>\n",
       "      <td>PC 17599</td>\n",
       "      <td>71.2833</td>\n",
       "      <td>C85</td>\n",
       "      <td>C</td>\n",
       "    </tr>\n",
       "    <tr>\n",
       "      <th>2</th>\n",
       "      <td>3</td>\n",
       "      <td>1</td>\n",
       "      <td>3</td>\n",
       "      <td>Heikkinen, Miss. Laina</td>\n",
       "      <td>female</td>\n",
       "      <td>26.0</td>\n",
       "      <td>0</td>\n",
       "      <td>0</td>\n",
       "      <td>STON/O2. 3101282</td>\n",
       "      <td>7.9250</td>\n",
       "      <td>NaN</td>\n",
       "      <td>S</td>\n",
       "    </tr>\n",
       "    <tr>\n",
       "      <th>3</th>\n",
       "      <td>4</td>\n",
       "      <td>1</td>\n",
       "      <td>1</td>\n",
       "      <td>Futrelle, Mrs. Jacques Heath (Lily May Peel)</td>\n",
       "      <td>female</td>\n",
       "      <td>35.0</td>\n",
       "      <td>1</td>\n",
       "      <td>0</td>\n",
       "      <td>113803</td>\n",
       "      <td>53.1000</td>\n",
       "      <td>C123</td>\n",
       "      <td>S</td>\n",
       "    </tr>\n",
       "    <tr>\n",
       "      <th>4</th>\n",
       "      <td>5</td>\n",
       "      <td>0</td>\n",
       "      <td>3</td>\n",
       "      <td>Allen, Mr. William Henry</td>\n",
       "      <td>male</td>\n",
       "      <td>35.0</td>\n",
       "      <td>0</td>\n",
       "      <td>0</td>\n",
       "      <td>373450</td>\n",
       "      <td>8.0500</td>\n",
       "      <td>NaN</td>\n",
       "      <td>S</td>\n",
       "    </tr>\n",
       "  </tbody>\n",
       "</table>\n",
       "</div>"
      ],
      "text/plain": [
       "   PassengerId  Survived  Pclass  \\\n",
       "0            1         0       3   \n",
       "1            2         1       1   \n",
       "2            3         1       3   \n",
       "3            4         1       1   \n",
       "4            5         0       3   \n",
       "\n",
       "                                                Name     Sex   Age  SibSp  \\\n",
       "0                            Braund, Mr. Owen Harris    male  22.0      1   \n",
       "1  Cumings, Mrs. John Bradley (Florence Briggs Th...  female  38.0      1   \n",
       "2                             Heikkinen, Miss. Laina  female  26.0      0   \n",
       "3       Futrelle, Mrs. Jacques Heath (Lily May Peel)  female  35.0      1   \n",
       "4                           Allen, Mr. William Henry    male  35.0      0   \n",
       "\n",
       "   Parch            Ticket     Fare Cabin Embarked  \n",
       "0      0         A/5 21171   7.2500   NaN        S  \n",
       "1      0          PC 17599  71.2833   C85        C  \n",
       "2      0  STON/O2. 3101282   7.9250   NaN        S  \n",
       "3      0            113803  53.1000  C123        S  \n",
       "4      0            373450   8.0500   NaN        S  "
      ]
     },
     "execution_count": 1,
     "metadata": {},
     "output_type": "execute_result"
    }
   ],
   "source": [
    "import pandas as pd\n",
    "import numpy as np\n",
    "\n",
    "train_frames = pd.read_csv(\"data/titanic/train.csv\")\n",
    "test_frames = pd.read_csv(\"data/titanic/test.csv\")\n",
    "\n",
    "train_frames.head()"
   ]
  },
  {
   "cell_type": "code",
   "execution_count": 2,
   "id": "038fae0e",
   "metadata": {},
   "outputs": [
    {
     "data": {
      "text/html": [
       "<div>\n",
       "<style scoped>\n",
       "    .dataframe tbody tr th:only-of-type {\n",
       "        vertical-align: middle;\n",
       "    }\n",
       "\n",
       "    .dataframe tbody tr th {\n",
       "        vertical-align: top;\n",
       "    }\n",
       "\n",
       "    .dataframe thead th {\n",
       "        text-align: right;\n",
       "    }\n",
       "</style>\n",
       "<table border=\"1\" class=\"dataframe\">\n",
       "  <thead>\n",
       "    <tr style=\"text-align: right;\">\n",
       "      <th></th>\n",
       "      <th>PassengerId</th>\n",
       "      <th>Survived</th>\n",
       "      <th>Pclass</th>\n",
       "      <th>Name</th>\n",
       "      <th>Sex</th>\n",
       "      <th>Age</th>\n",
       "      <th>SibSp</th>\n",
       "      <th>Parch</th>\n",
       "      <th>Ticket</th>\n",
       "      <th>Fare</th>\n",
       "      <th>Cabin</th>\n",
       "      <th>Embarked</th>\n",
       "    </tr>\n",
       "  </thead>\n",
       "  <tbody>\n",
       "    <tr>\n",
       "      <th>0</th>\n",
       "      <td>1</td>\n",
       "      <td>0</td>\n",
       "      <td>3</td>\n",
       "      <td>Braund, Mr. Owen Harris</td>\n",
       "      <td>male</td>\n",
       "      <td>22.0</td>\n",
       "      <td>1</td>\n",
       "      <td>0</td>\n",
       "      <td>A/5 21171</td>\n",
       "      <td>7.2500</td>\n",
       "      <td>B96 B98</td>\n",
       "      <td>S</td>\n",
       "    </tr>\n",
       "    <tr>\n",
       "      <th>1</th>\n",
       "      <td>2</td>\n",
       "      <td>1</td>\n",
       "      <td>1</td>\n",
       "      <td>Cumings, Mrs. John Bradley (Florence Briggs Th...</td>\n",
       "      <td>female</td>\n",
       "      <td>38.0</td>\n",
       "      <td>1</td>\n",
       "      <td>0</td>\n",
       "      <td>PC 17599</td>\n",
       "      <td>71.2833</td>\n",
       "      <td>C85</td>\n",
       "      <td>C</td>\n",
       "    </tr>\n",
       "    <tr>\n",
       "      <th>2</th>\n",
       "      <td>3</td>\n",
       "      <td>1</td>\n",
       "      <td>3</td>\n",
       "      <td>Heikkinen, Miss. Laina</td>\n",
       "      <td>female</td>\n",
       "      <td>26.0</td>\n",
       "      <td>0</td>\n",
       "      <td>0</td>\n",
       "      <td>STON/O2. 3101282</td>\n",
       "      <td>7.9250</td>\n",
       "      <td>B96 B98</td>\n",
       "      <td>S</td>\n",
       "    </tr>\n",
       "    <tr>\n",
       "      <th>3</th>\n",
       "      <td>4</td>\n",
       "      <td>1</td>\n",
       "      <td>1</td>\n",
       "      <td>Futrelle, Mrs. Jacques Heath (Lily May Peel)</td>\n",
       "      <td>female</td>\n",
       "      <td>35.0</td>\n",
       "      <td>1</td>\n",
       "      <td>0</td>\n",
       "      <td>113803</td>\n",
       "      <td>53.1000</td>\n",
       "      <td>C123</td>\n",
       "      <td>S</td>\n",
       "    </tr>\n",
       "    <tr>\n",
       "      <th>4</th>\n",
       "      <td>5</td>\n",
       "      <td>0</td>\n",
       "      <td>3</td>\n",
       "      <td>Allen, Mr. William Henry</td>\n",
       "      <td>male</td>\n",
       "      <td>35.0</td>\n",
       "      <td>0</td>\n",
       "      <td>0</td>\n",
       "      <td>373450</td>\n",
       "      <td>8.0500</td>\n",
       "      <td>B96 B98</td>\n",
       "      <td>S</td>\n",
       "    </tr>\n",
       "  </tbody>\n",
       "</table>\n",
       "</div>"
      ],
      "text/plain": [
       "   PassengerId  Survived  Pclass  \\\n",
       "0            1         0       3   \n",
       "1            2         1       1   \n",
       "2            3         1       3   \n",
       "3            4         1       1   \n",
       "4            5         0       3   \n",
       "\n",
       "                                                Name     Sex   Age  SibSp  \\\n",
       "0                            Braund, Mr. Owen Harris    male  22.0      1   \n",
       "1  Cumings, Mrs. John Bradley (Florence Briggs Th...  female  38.0      1   \n",
       "2                             Heikkinen, Miss. Laina  female  26.0      0   \n",
       "3       Futrelle, Mrs. Jacques Heath (Lily May Peel)  female  35.0      1   \n",
       "4                           Allen, Mr. William Henry    male  35.0      0   \n",
       "\n",
       "   Parch            Ticket     Fare    Cabin Embarked  \n",
       "0      0         A/5 21171   7.2500  B96 B98        S  \n",
       "1      0          PC 17599  71.2833      C85        C  \n",
       "2      0  STON/O2. 3101282   7.9250  B96 B98        S  \n",
       "3      0            113803  53.1000     C123        S  \n",
       "4      0            373450   8.0500  B96 B98        S  "
      ]
     },
     "execution_count": 2,
     "metadata": {},
     "output_type": "execute_result"
    }
   ],
   "source": [
    "# Clean the data (age, cabin and embarked all have NA fields on some rows)\n",
    "# Replace NA with mode\n",
    "# Could do a lot better here, eg. Predict a persons age based on other fields\n",
    "\n",
    "for frames in [train_frames, test_frames]:\n",
    "    modes = frames.mode().iloc[0]  # Mode returns multiple if there is a \"tie\" for the mode\n",
    "    frames.fillna(modes, inplace=True)\n",
    "\n",
    "train_frames.head()"
   ]
  },
  {
   "cell_type": "code",
   "execution_count": 3,
   "id": "021b13cb",
   "metadata": {},
   "outputs": [
    {
     "data": {
      "text/html": [
       "<div>\n",
       "<style scoped>\n",
       "    .dataframe tbody tr th:only-of-type {\n",
       "        vertical-align: middle;\n",
       "    }\n",
       "\n",
       "    .dataframe tbody tr th {\n",
       "        vertical-align: top;\n",
       "    }\n",
       "\n",
       "    .dataframe thead th {\n",
       "        text-align: right;\n",
       "    }\n",
       "</style>\n",
       "<table border=\"1\" class=\"dataframe\">\n",
       "  <thead>\n",
       "    <tr style=\"text-align: right;\">\n",
       "      <th></th>\n",
       "      <th>PassengerId</th>\n",
       "      <th>Survived</th>\n",
       "      <th>Pclass</th>\n",
       "      <th>Age</th>\n",
       "      <th>SibSp</th>\n",
       "      <th>Parch</th>\n",
       "      <th>Fare</th>\n",
       "    </tr>\n",
       "  </thead>\n",
       "  <tbody>\n",
       "    <tr>\n",
       "      <th>count</th>\n",
       "      <td>891.000000</td>\n",
       "      <td>891.000000</td>\n",
       "      <td>891.000000</td>\n",
       "      <td>891.000000</td>\n",
       "      <td>891.000000</td>\n",
       "      <td>891.000000</td>\n",
       "      <td>891.000000</td>\n",
       "    </tr>\n",
       "    <tr>\n",
       "      <th>mean</th>\n",
       "      <td>446.000000</td>\n",
       "      <td>0.383838</td>\n",
       "      <td>2.308642</td>\n",
       "      <td>28.566970</td>\n",
       "      <td>0.523008</td>\n",
       "      <td>0.381594</td>\n",
       "      <td>32.204208</td>\n",
       "    </tr>\n",
       "    <tr>\n",
       "      <th>std</th>\n",
       "      <td>257.353842</td>\n",
       "      <td>0.486592</td>\n",
       "      <td>0.836071</td>\n",
       "      <td>13.199572</td>\n",
       "      <td>1.102743</td>\n",
       "      <td>0.806057</td>\n",
       "      <td>49.693429</td>\n",
       "    </tr>\n",
       "    <tr>\n",
       "      <th>min</th>\n",
       "      <td>1.000000</td>\n",
       "      <td>0.000000</td>\n",
       "      <td>1.000000</td>\n",
       "      <td>0.420000</td>\n",
       "      <td>0.000000</td>\n",
       "      <td>0.000000</td>\n",
       "      <td>0.000000</td>\n",
       "    </tr>\n",
       "    <tr>\n",
       "      <th>25%</th>\n",
       "      <td>223.500000</td>\n",
       "      <td>0.000000</td>\n",
       "      <td>2.000000</td>\n",
       "      <td>22.000000</td>\n",
       "      <td>0.000000</td>\n",
       "      <td>0.000000</td>\n",
       "      <td>7.910400</td>\n",
       "    </tr>\n",
       "    <tr>\n",
       "      <th>50%</th>\n",
       "      <td>446.000000</td>\n",
       "      <td>0.000000</td>\n",
       "      <td>3.000000</td>\n",
       "      <td>24.000000</td>\n",
       "      <td>0.000000</td>\n",
       "      <td>0.000000</td>\n",
       "      <td>14.454200</td>\n",
       "    </tr>\n",
       "    <tr>\n",
       "      <th>75%</th>\n",
       "      <td>668.500000</td>\n",
       "      <td>1.000000</td>\n",
       "      <td>3.000000</td>\n",
       "      <td>35.000000</td>\n",
       "      <td>1.000000</td>\n",
       "      <td>0.000000</td>\n",
       "      <td>31.000000</td>\n",
       "    </tr>\n",
       "    <tr>\n",
       "      <th>max</th>\n",
       "      <td>891.000000</td>\n",
       "      <td>1.000000</td>\n",
       "      <td>3.000000</td>\n",
       "      <td>80.000000</td>\n",
       "      <td>8.000000</td>\n",
       "      <td>6.000000</td>\n",
       "      <td>512.329200</td>\n",
       "    </tr>\n",
       "  </tbody>\n",
       "</table>\n",
       "</div>"
      ],
      "text/plain": [
       "       PassengerId    Survived      Pclass         Age       SibSp  \\\n",
       "count   891.000000  891.000000  891.000000  891.000000  891.000000   \n",
       "mean    446.000000    0.383838    2.308642   28.566970    0.523008   \n",
       "std     257.353842    0.486592    0.836071   13.199572    1.102743   \n",
       "min       1.000000    0.000000    1.000000    0.420000    0.000000   \n",
       "25%     223.500000    0.000000    2.000000   22.000000    0.000000   \n",
       "50%     446.000000    0.000000    3.000000   24.000000    0.000000   \n",
       "75%     668.500000    1.000000    3.000000   35.000000    1.000000   \n",
       "max     891.000000    1.000000    3.000000   80.000000    8.000000   \n",
       "\n",
       "            Parch        Fare  \n",
       "count  891.000000  891.000000  \n",
       "mean     0.381594   32.204208  \n",
       "std      0.806057   49.693429  \n",
       "min      0.000000    0.000000  \n",
       "25%      0.000000    7.910400  \n",
       "50%      0.000000   14.454200  \n",
       "75%      0.000000   31.000000  \n",
       "max      6.000000  512.329200  "
      ]
     },
     "execution_count": 3,
     "metadata": {},
     "output_type": "execute_result"
    }
   ],
   "source": [
    "train_frames.describe()"
   ]
  },
  {
   "cell_type": "code",
   "execution_count": 4,
   "id": "52c3ce10",
   "metadata": {},
   "outputs": [
    {
     "data": {
      "text/plain": [
       "<Axes: >"
      ]
     },
     "execution_count": 4,
     "metadata": {},
     "output_type": "execute_result"
    },
    {
     "data": {
      "image/png": "[encoded data removed]",
      "text/plain": [
       "<Figure size 640x480 with 1 Axes>"
      ]
     },
     "metadata": {},
     "output_type": "display_data"
    }
   ],
   "source": [
    "# Fare looks like its a distribution with a long tail - yup\n",
    "# Lots of models dont like this (linear, NNs)\n",
    "train_frames[\"Fare\"].hist()"
   ]
  },
  {
   "cell_type": "code",
   "execution_count": 5,
   "id": "8806e7f8",
   "metadata": {},
   "outputs": [
    {
     "data": {
      "text/plain": [
       "<Axes: >"
      ]
     },
     "execution_count": 5,
     "metadata": {},
     "output_type": "execute_result"
    },
    {
     "data": {
      "image/png": "[encoded data removed]",
      "text/plain": [
       "<Figure size 640x480 with 1 Axes>"
      ]
     },
     "metadata": {},
     "output_type": "display_data"
    }
   ],
   "source": [
    "# Lets take the log and use that instead\n",
    "for frames in [train_frames, test_frames]:\n",
    "    frames[\"LogFare\"] = np.log(frames[\"Fare\"] + 1)\n",
    "\n",
    "# Thats better\n",
    "train_frames[\"LogFare\"].hist()"
   ]
  },
  {
   "cell_type": "code",
   "execution_count": 6,
   "id": "80752676",
   "metadata": {},
   "outputs": [
    {
     "data": {
      "text/plain": [
       "[1, 2, 3]"
      ]
     },
     "execution_count": 6,
     "metadata": {},
     "output_type": "execute_result"
    }
   ],
   "source": [
    "pass_classes = sorted(train_frames.Pclass.unique())\n",
    "pass_classes"
   ]
  },
  {
   "cell_type": "code",
   "execution_count": 7,
   "id": "d534c841",
   "metadata": {},
   "outputs": [
    {
     "data": {
      "text/html": [
       "<div>\n",
       "<style scoped>\n",
       "    .dataframe tbody tr th:only-of-type {\n",
       "        vertical-align: middle;\n",
       "    }\n",
       "\n",
       "    .dataframe tbody tr th {\n",
       "        vertical-align: top;\n",
       "    }\n",
       "\n",
       "    .dataframe thead th {\n",
       "        text-align: right;\n",
       "    }\n",
       "</style>\n",
       "<table border=\"1\" class=\"dataframe\">\n",
       "  <thead>\n",
       "    <tr style=\"text-align: right;\">\n",
       "      <th></th>\n",
       "      <th>PassengerId</th>\n",
       "      <th>Survived</th>\n",
       "      <th>Name</th>\n",
       "      <th>Age</th>\n",
       "      <th>SibSp</th>\n",
       "      <th>Parch</th>\n",
       "      <th>Ticket</th>\n",
       "      <th>Fare</th>\n",
       "      <th>Cabin</th>\n",
       "      <th>LogFare</th>\n",
       "      <th>Sex_female</th>\n",
       "      <th>Sex_male</th>\n",
       "      <th>Pclass_1</th>\n",
       "      <th>Pclass_2</th>\n",
       "      <th>Pclass_3</th>\n",
       "      <th>Embarked_C</th>\n",
       "      <th>Embarked_Q</th>\n",
       "      <th>Embarked_S</th>\n",
       "    </tr>\n",
       "  </thead>\n",
       "  <tbody>\n",
       "    <tr>\n",
       "      <th>0</th>\n",
       "      <td>1</td>\n",
       "      <td>0</td>\n",
       "      <td>Braund, Mr. Owen Harris</td>\n",
       "      <td>22.0</td>\n",
       "      <td>1</td>\n",
       "      <td>0</td>\n",
       "      <td>A/5 21171</td>\n",
       "      <td>7.2500</td>\n",
       "      <td>B96 B98</td>\n",
       "      <td>2.110213</td>\n",
       "      <td>0</td>\n",
       "      <td>1</td>\n",
       "      <td>0</td>\n",
       "      <td>0</td>\n",
       "      <td>1</td>\n",
       "      <td>0</td>\n",
       "      <td>0</td>\n",
       "      <td>1</td>\n",
       "    </tr>\n",
       "    <tr>\n",
       "      <th>1</th>\n",
       "      <td>2</td>\n",
       "      <td>1</td>\n",
       "      <td>Cumings, Mrs. John Bradley (Florence Briggs Th...</td>\n",
       "      <td>38.0</td>\n",
       "      <td>1</td>\n",
       "      <td>0</td>\n",
       "      <td>PC 17599</td>\n",
       "      <td>71.2833</td>\n",
       "      <td>C85</td>\n",
       "      <td>4.280593</td>\n",
       "      <td>1</td>\n",
       "      <td>0</td>\n",
       "      <td>1</td>\n",
       "      <td>0</td>\n",
       "      <td>0</td>\n",
       "      <td>1</td>\n",
       "      <td>0</td>\n",
       "      <td>0</td>\n",
       "    </tr>\n",
       "    <tr>\n",
       "      <th>2</th>\n",
       "      <td>3</td>\n",
       "      <td>1</td>\n",
       "      <td>Heikkinen, Miss. Laina</td>\n",
       "      <td>26.0</td>\n",
       "      <td>0</td>\n",
       "      <td>0</td>\n",
       "      <td>STON/O2. 3101282</td>\n",
       "      <td>7.9250</td>\n",
       "      <td>B96 B98</td>\n",
       "      <td>2.188856</td>\n",
       "      <td>1</td>\n",
       "      <td>0</td>\n",
       "      <td>0</td>\n",
       "      <td>0</td>\n",
       "      <td>1</td>\n",
       "      <td>0</td>\n",
       "      <td>0</td>\n",
       "      <td>1</td>\n",
       "    </tr>\n",
       "    <tr>\n",
       "      <th>3</th>\n",
       "      <td>4</td>\n",
       "      <td>1</td>\n",
       "      <td>Futrelle, Mrs. Jacques Heath (Lily May Peel)</td>\n",
       "      <td>35.0</td>\n",
       "      <td>1</td>\n",
       "      <td>0</td>\n",
       "      <td>113803</td>\n",
       "      <td>53.1000</td>\n",
       "      <td>C123</td>\n",
       "      <td>3.990834</td>\n",
       "      <td>1</td>\n",
       "      <td>0</td>\n",
       "      <td>1</td>\n",
       "      <td>0</td>\n",
       "      <td>0</td>\n",
       "      <td>0</td>\n",
       "      <td>0</td>\n",
       "      <td>1</td>\n",
       "    </tr>\n",
       "    <tr>\n",
       "      <th>4</th>\n",
       "      <td>5</td>\n",
       "      <td>0</td>\n",
       "      <td>Allen, Mr. William Henry</td>\n",
       "      <td>35.0</td>\n",
       "      <td>0</td>\n",
       "      <td>0</td>\n",
       "      <td>373450</td>\n",
       "      <td>8.0500</td>\n",
       "      <td>B96 B98</td>\n",
       "      <td>2.202765</td>\n",
       "      <td>0</td>\n",
       "      <td>1</td>\n",
       "      <td>0</td>\n",
       "      <td>0</td>\n",
       "      <td>1</td>\n",
       "      <td>0</td>\n",
       "      <td>0</td>\n",
       "      <td>1</td>\n",
       "    </tr>\n",
       "  </tbody>\n",
       "</table>\n",
       "</div>"
      ],
      "text/plain": [
       "   PassengerId  Survived                                               Name  \\\n",
       "0            1         0                            Braund, Mr. Owen Harris   \n",
       "1            2         1  Cumings, Mrs. John Bradley (Florence Briggs Th...   \n",
       "2            3         1                             Heikkinen, Miss. Laina   \n",
       "3            4         1       Futrelle, Mrs. Jacques Heath (Lily May Peel)   \n",
       "4            5         0                           Allen, Mr. William Henry   \n",
       "\n",
       "    Age  SibSp  Parch            Ticket     Fare    Cabin   LogFare  \\\n",
       "0  22.0      1      0         A/5 21171   7.2500  B96 B98  2.110213   \n",
       "1  38.0      1      0          PC 17599  71.2833      C85  4.280593   \n",
       "2  26.0      0      0  STON/O2. 3101282   7.9250  B96 B98  2.188856   \n",
       "3  35.0      1      0            113803  53.1000     C123  3.990834   \n",
       "4  35.0      0      0            373450   8.0500  B96 B98  2.202765   \n",
       "\n",
       "   Sex_female  Sex_male  Pclass_1  Pclass_2  Pclass_3  Embarked_C  Embarked_Q  \\\n",
       "0           0         1         0         0         1           0           0   \n",
       "1           1         0         1         0         0           1           0   \n",
       "2           1         0         0         0         1           0           0   \n",
       "3           1         0         1         0         0           0           0   \n",
       "4           0         1         0         0         1           0           0   \n",
       "\n",
       "   Embarked_S  \n",
       "0           1  \n",
       "1           0  \n",
       "2           1  \n",
       "3           1  \n",
       "4           1  "
      ]
     },
     "execution_count": 7,
     "metadata": {},
     "output_type": "execute_result"
    }
   ],
   "source": [
    "# We have some fields that are text fields but really categories, lets add dummy fields to represent them as 0 or 1\n",
    "\n",
    "cat_columns = [\"Sex\", \"Pclass\", \"Embarked\"]\n",
    "train_frames = pd.get_dummies(train_frames, columns=cat_columns)\n",
    "test_frames = pd.get_dummies(test_frames, columns=cat_columns)\n",
    "\n",
    "added_cols = [\"Sex_male\", \"Sex_female\", \"Pclass_1\", \"Pclass_2\", \"Pclass_3\", \"Embarked_C\", \"Embarked_Q\", \"Embarked_S\"]\n",
    "train_frames.head()"
   ]
  },
  {
   "cell_type": "markdown",
   "id": "6e3bee49",
   "metadata": {},
   "source": [
    "## Tensors"
   ]
  },
  {
   "cell_type": "code",
   "execution_count": 8,
   "id": "3c4c8f13",
   "metadata": {},
   "outputs": [],
   "source": [
    "import torch as torch\n",
    "from torch import tensor\n",
    "\n",
    "# Our dependent variable as a tensor (the thing we are trying to predict)\n",
    "t_dep = tensor(train_frames.Survived)"
   ]
  },
  {
   "cell_type": "code",
   "execution_count": 9,
   "id": "7ef7d150",
   "metadata": {},
   "outputs": [
    {
     "data": {
      "text/plain": [
       "tensor([[22.,  1.,  0.,  ...,  0.,  0.,  1.],\n",
       "        [38.,  1.,  0.,  ...,  1.,  0.,  0.],\n",
       "        [26.,  0.,  0.,  ...,  0.,  0.,  1.],\n",
       "        ...,\n",
       "        [24.,  1.,  2.,  ...,  0.,  0.,  1.],\n",
       "        [26.,  0.,  0.,  ...,  1.,  0.,  0.],\n",
       "        [32.,  0.,  0.,  ...,  0.,  1.,  0.]])"
      ]
     },
     "execution_count": 9,
     "metadata": {},
     "output_type": "execute_result"
    }
   ],
   "source": [
    "# Our independent variables (the things we are using to predict) as tensors\n",
    "\n",
    "indep_cols = [\"Age\", \"SibSp\", \"Parch\", \"LogFare\"] + added_cols\n",
    "t_indep = tensor(train_frames[indep_cols].values, dtype=torch.float)\n",
    "t_indep"
   ]
  },
  {
   "cell_type": "code",
   "execution_count": 10,
   "id": "43ac8ab3",
   "metadata": {},
   "outputs": [
    {
     "data": {
      "text/plain": [
       "torch.Size([891, 12])"
      ]
     },
     "execution_count": 10,
     "metadata": {},
     "output_type": "execute_result"
    }
   ],
   "source": [
    "# Could think of as [rows, cols] in shape\n",
    "t_indep.shape"
   ]
  },
  {
   "cell_type": "code",
   "execution_count": 11,
   "id": "17b87b8b",
   "metadata": {},
   "outputs": [
    {
     "data": {
      "text/plain": [
       "2"
      ]
     },
     "execution_count": 11,
     "metadata": {},
     "output_type": "execute_result"
    }
   ],
   "source": [
    "# Rank is 2 (number of dimensions)\n",
    "len(t_indep.shape)"
   ]
  },
  {
   "cell_type": "markdown",
   "id": "da0487d1",
   "metadata": {},
   "source": [
    "## Linear model"
   ]
  },
  {
   "cell_type": "code",
   "execution_count": 12,
   "id": "a4ee0a4d",
   "metadata": {},
   "outputs": [
    {
     "data": {
      "text/plain": [
       "tensor([-0.1656,  0.4879, -0.0474, -0.1022,  0.4094, -0.1653, -0.4085, -0.0567,\n",
       "        -0.0100,  0.3638, -0.4654,  0.1737])"
      ]
     },
     "execution_count": 12,
     "metadata": {},
     "output_type": "execute_result"
    }
   ],
   "source": [
    "# Need a random coefficient for each col to start\n",
    "n_coeff = t_indep.shape[1]\n",
    "coeffs = torch.rand(n_coeff) - 0.5  # Between 0 and 1 so subtract to center them\n",
    "coeffs"
   ]
  },
  {
   "cell_type": "code",
   "execution_count": 13,
   "id": "ea6c1f3c",
   "metadata": {},
   "outputs": [
    {
     "data": {
      "text/plain": [
       "tensor([[-3.6436,  0.4879, -0.0000,  ...,  0.0000, -0.0000,  0.1737],\n",
       "        [-6.2935,  0.4879, -0.0000,  ...,  0.3638, -0.0000,  0.0000],\n",
       "        [-4.3061,  0.0000, -0.0000,  ...,  0.0000, -0.0000,  0.1737],\n",
       "        ...,\n",
       "        [-3.9748,  0.4879, -0.0947,  ...,  0.0000, -0.0000,  0.1737],\n",
       "        [-4.3061,  0.0000, -0.0000,  ...,  0.3638, -0.0000,  0.0000],\n",
       "        [-5.2998,  0.0000, -0.0000,  ...,  0.0000, -0.4654,  0.0000]])"
      ]
     },
     "execution_count": 13,
     "metadata": {},
     "output_type": "execute_result"
    }
   ],
   "source": [
    "# We're going to multiply each row by the coefficients like this (using broadcasting)\n",
    "t_indep * coeffs"
   ]
  },
  {
   "cell_type": "code",
   "execution_count": 14,
   "id": "ac5ea842",
   "metadata": {},
   "outputs": [
    {
     "data": {
      "text/plain": [
       "tensor([[-0.0455,  0.0610, -0.0000,  ...,  0.0000, -0.0000,  0.1737],\n",
       "        [-0.0787,  0.0610, -0.0000,  ...,  0.3638, -0.0000,  0.0000],\n",
       "        [-0.0538,  0.0000, -0.0000,  ...,  0.0000, -0.0000,  0.1737],\n",
       "        ...,\n",
       "        [-0.0497,  0.0610, -0.0158,  ...,  0.0000, -0.0000,  0.1737],\n",
       "        [-0.0538,  0.0000, -0.0000,  ...,  0.3638, -0.0000,  0.0000],\n",
       "        [-0.0662,  0.0000, -0.0000,  ...,  0.0000, -0.4654,  0.0000]])"
      ]
     },
     "execution_count": 14,
     "metadata": {},
     "output_type": "execute_result"
    }
   ],
   "source": [
    "# One problem is that when we sum these up the first column (Age) is going to dominate things\n",
    "# Lets make everything between 0 and 1 to prevent things like that\n",
    "vals, indices = t_indep.max(dim=0)\n",
    "t_indep = t_indep / vals\n",
    "\n",
    "# This looks better now\n",
    "t_indep * coeffs"
   ]
  },
  {
   "cell_type": "code",
   "execution_count": 15,
   "id": "f8ab3fe3",
   "metadata": {},
   "outputs": [
    {
     "data": {
      "text/plain": [
       "tensor([ 0.5541, -0.2978, -0.0912, -0.4769,  0.4647, -0.1524, -0.0021,  0.6934,\n",
       "        -0.1141,  0.1176, -0.0037, -0.5744,  0.4957,  0.4571, -0.0662, -0.2085,\n",
       "         0.1102,  0.4336, -0.0529,  0.1043])"
      ]
     },
     "execution_count": 15,
     "metadata": {},
     "output_type": "execute_result"
    }
   ],
   "source": [
    "# Lets make a prediction\n",
    "preds = (t_indep * coeffs).sum(axis=1)\n",
    "preds[:20]"
   ]
  },
  {
   "cell_type": "code",
   "execution_count": 16,
   "id": "c8d6bfbf",
   "metadata": {},
   "outputs": [
    {
     "data": {
      "text/plain": [
       "tensor(0.6514)"
      ]
     },
     "execution_count": 16,
     "metadata": {},
     "output_type": "execute_result"
    }
   ],
   "source": [
    "# That works bit isn't much use with random coefficients, time for gradient descent\n",
    "\n",
    "# We need a loss function, lets take the average error of the rows (abs val of the diff between prediction and dependent)\n",
    "loss = torch.abs(preds - t_dep).mean()\n",
    "loss"
   ]
  },
  {
   "cell_type": "code",
   "execution_count": 17,
   "id": "732f9222",
   "metadata": {},
   "outputs": [],
   "source": [
    "# Lets shove predictions and loss into some functions\n",
    "\n",
    "\n",
    "def calc_preds(coeffs, indeps):\n",
    "    return (indeps * coeffs).sum(axis=1)\n",
    "\n",
    "\n",
    "def calc_loss(preds, deps):\n",
    "    return torch.abs(preds - deps).mean()"
   ]
  },
  {
   "cell_type": "markdown",
   "id": "8c995722",
   "metadata": {},
   "source": [
    "### Single gradient descent step"
   ]
  },
  {
   "cell_type": "code",
   "execution_count": 18,
   "id": "2cc99ab9",
   "metadata": {},
   "outputs": [
    {
     "data": {
      "text/plain": [
       "tensor([-0.1656,  0.4879, -0.0474, -0.1022,  0.4094, -0.1653, -0.4085, -0.0567,\n",
       "        -0.0100,  0.3638, -0.4654,  0.1737], requires_grad=True)"
      ]
     },
     "execution_count": 18,
     "metadata": {},
     "output_type": "execute_result"
    }
   ],
   "source": [
    "# We want the pytorch to calculate the derivatives for the coefficients for us\n",
    "coeffs.requires_grad_()"
   ]
  },
  {
   "cell_type": "code",
   "execution_count": 19,
   "id": "ba5b8ffd",
   "metadata": {},
   "outputs": [
    {
     "data": {
      "text/plain": [
       "tensor(0.6514, grad_fn=<MeanBackward0>)"
      ]
     },
     "execution_count": 19,
     "metadata": {},
     "output_type": "execute_result"
    }
   ],
   "source": [
    "# Now we get a gradient function for the loss\n",
    "preds = calc_preds(coeffs, t_indep)\n",
    "loss = calc_loss(preds, t_dep)\n",
    "loss"
   ]
  },
  {
   "cell_type": "code",
   "execution_count": 20,
   "id": "d99f2893",
   "metadata": {},
   "outputs": [
    {
     "data": {
      "text/plain": [
       "tensor([ 0.0022,  0.0115, -0.0168, -0.0361,  0.3042, -0.2941, -0.0943, -0.0045,\n",
       "         0.1089, -0.0224, -0.0774,  0.1100])"
      ]
     },
     "execution_count": 20,
     "metadata": {},
     "output_type": "execute_result"
    }
   ],
   "source": [
    "loss.backward()\n",
    "coeffs.grad"
   ]
  },
  {
   "cell_type": "code",
   "execution_count": 21,
   "id": "4b0f4ef5",
   "metadata": {},
   "outputs": [
    {
     "data": {
      "text/plain": [
       "tensor(0.6297)"
      ]
     },
     "execution_count": 21,
     "metadata": {},
     "output_type": "execute_result"
    }
   ],
   "source": [
    "# Lets  tweak the coeffs and see what happens\n",
    "\n",
    "lr = 0.1\n",
    "with torch.no_grad():\n",
    "    coeffs.sub_(coeffs.grad * 0.1)\n",
    "    preds = calc_preds(coeffs, t_indep)\n",
    "    loss = calc_loss(preds, t_dep)\n",
    "\n",
    "# Hurray, run this multiple times and we are gradient descending\n",
    "loss"
   ]
  },
  {
   "cell_type": "markdown",
   "id": "b05b8ff0",
   "metadata": {},
   "source": [
    "### Training the linear model"
   ]
  },
  {
   "cell_type": "code",
   "execution_count": 41,
   "id": "2a90077d",
   "metadata": {},
   "outputs": [
    {
     "data": {
      "text/plain": [
       "(713, 178)"
      ]
     },
     "execution_count": 41,
     "metadata": {},
     "output_type": "execute_result"
    }
   ],
   "source": [
    "# We need to split the training data to get validation\n",
    "from fastai.data.transforms import RandomSplitter\n",
    "\n",
    "# List of the indexes of the rows for each split\n",
    "trn_split, val_split = RandomSplitter()(train_frames)\n",
    "\n",
    "# So lets create them\n",
    "trn_indep, val_indep = t_indep[trn_split], t_indep[val_split]\n",
    "trn_dep, val_dep = t_dep[trn_split], t_dep[val_split]\n",
    "len(trn_indep), len(val_indep)"
   ]
  },
  {
   "cell_type": "code",
   "execution_count": 42,
   "id": "2cd586ae",
   "metadata": {},
   "outputs": [],
   "source": [
    "# We'll need our coefficient update in a function\n",
    "\n",
    "\n",
    "def update_coeffs(coeffs, lr):\n",
    "    coeffs.sub_(coeffs.grad * lr)\n",
    "\n",
    "\n",
    "# And a run of a single training epoch\n",
    "def one_epoch(coeffs, lr):\n",
    "    preds = calc_preds(coeffs, t_indep)\n",
    "    loss = calc_loss(preds, t_dep)\n",
    "\n",
    "    loss.backward()\n",
    "    with torch.no_grad():\n",
    "        update_coeffs(coeffs, lr)\n",
    "\n",
    "    print(f\"Epoch loss: {loss}\")\n",
    "\n",
    "\n",
    "# A function to initialise coeffs\n",
    "def init_coeffs():\n",
    "    return (torch.rand(n_coeff) - 0.5).requires_grad_()\n",
    "\n",
    "\n",
    "# And now the function to run it all\n",
    "def train_model(epochs=30, lr=0.01):\n",
    "    coeffs = init_coeffs()\n",
    "    for i in range(epochs):\n",
    "        one_epoch(coeffs, lr)\n",
    "\n",
    "    return coeffs"
   ]
  },
  {
   "cell_type": "code",
   "execution_count": 54,
   "id": "cced745f",
   "metadata": {},
   "outputs": [
    {
     "name": "stdout",
     "output_type": "stream",
     "text": [
      "Epoch loss: 0.5546775460243225\n",
      "Epoch loss: 0.5486955642700195\n",
      "Epoch loss: 0.5382088422775269\n",
      "Epoch loss: 0.5272627472877502\n",
      "Epoch loss: 0.5216339230537415\n",
      "Epoch loss: 0.5174338221549988\n",
      "Epoch loss: 0.5122694373130798\n",
      "Epoch loss: 0.5062087178230286\n",
      "Epoch loss: 0.4991477429866791\n",
      "Epoch loss: 0.49082162976264954\n",
      "Epoch loss: 0.4813975691795349\n",
      "Epoch loss: 0.4708353281021118\n",
      "Epoch loss: 0.45880991220474243\n",
      "Epoch loss: 0.4449731707572937\n",
      "Epoch loss: 0.4293661117553711\n",
      "Epoch loss: 0.4122144877910614\n",
      "Epoch loss: 0.3936729431152344\n",
      "Epoch loss: 0.3758898973464966\n",
      "Epoch loss: 0.36661872267723083\n",
      "Epoch loss: 0.3601922392845154\n",
      "Epoch loss: 0.35384601354599\n",
      "Epoch loss: 0.3472423851490021\n",
      "Epoch loss: 0.343229204416275\n",
      "Epoch loss: 0.3428097665309906\n",
      "Epoch loss: 0.34579071402549744\n",
      "Epoch loss: 0.34940654039382935\n",
      "Epoch loss: 0.3544391691684723\n",
      "Epoch loss: 0.36629730463027954\n",
      "Epoch loss: 0.3824806213378906\n",
      "Epoch loss: 0.39783573150634766\n"
     ]
    }
   ],
   "source": [
    "# Lets run it - it kind works!\n",
    "coeffs = train_model()"
   ]
  },
  {
   "cell_type": "code",
   "execution_count": 55,
   "id": "5575f3a8",
   "metadata": {},
   "outputs": [
    {
     "data": {
      "text/plain": [
       "{'Age': tensor(0.4231),\n",
       " 'SibSp': tensor(-0.1346),\n",
       " 'Parch': tensor(0.0664),\n",
       " 'LogFare': tensor(0.6440),\n",
       " 'Sex_male': tensor(-0.5410),\n",
       " 'Sex_female': tensor(0.2186),\n",
       " 'Pclass_1': tensor(0.3794),\n",
       " 'Pclass_2': tensor(0.3629),\n",
       " 'Pclass_3': tensor(-0.1153),\n",
       " 'Embarked_C': tensor(0.3382),\n",
       " 'Embarked_Q': tensor(-0.0491),\n",
       " 'Embarked_S': tensor(0.3029)}"
      ]
     },
     "execution_count": 55,
     "metadata": {},
     "output_type": "execute_result"
    }
   ],
   "source": [
    "# Lets see what coefficeints we ended up with\n",
    "def show_coeffs():\n",
    "    return dict(zip(indep_cols, coeffs.requires_grad_(False)))\n",
    "\n",
    "\n",
    "show_coeffs()"
   ]
  },
  {
   "cell_type": "markdown",
   "id": "910c0b1f",
   "metadata": {},
   "source": [
    "### Measuring accuracy"
   ]
  },
  {
   "cell_type": "code",
   "execution_count": 56,
   "id": "d68866fa",
   "metadata": {},
   "outputs": [],
   "source": [
    "# The kaggle competition is judging us on accuracy (proportion of rows where we got the answer correct)\n",
    "# of predictions not on loss, so lets calculate that\n",
    "\n",
    "preds = calc_preds(coeffs, val_indep)\n",
    "\n",
    "# Lets have >0.5 == survive\n",
    "results = val_dep.bool() == (preds > 0.5)"
   ]
  },
  {
   "cell_type": "code",
   "execution_count": 57,
   "id": "1c79137f",
   "metadata": {},
   "outputs": [
    {
     "data": {
      "text/plain": [
       "tensor(0.6180)"
      ]
     },
     "execution_count": 57,
     "metadata": {},
     "output_type": "execute_result"
    }
   ],
   "source": [
    "# Shove it in a function for the future\n",
    "def accuracy(coeffs):\n",
    "    preds = calc_preds(coeffs, val_indep)\n",
    "    results = val_dep.bool() == (preds > 0.5)\n",
    "    return results.float().mean()\n",
    "\n",
    "\n",
    "accuracy(coeffs)"
   ]
  },
  {
   "cell_type": "markdown",
   "id": "45c2c949",
   "metadata": {},
   "source": [
    "### Using sigmoid"
   ]
  },
  {
   "cell_type": "code",
   "execution_count": 58,
   "id": "69cd6f02",
   "metadata": {},
   "outputs": [
    {
     "data": {
      "text/plain": [
       "tensor([ 1.5000e+00,  1.4704e+00,  8.3182e-01,  3.6436e-02,  5.1877e-01,\n",
       "         7.7986e-01,  5.2935e-01,  7.9328e-03,  2.6279e-02,  8.2176e-01,\n",
       "         1.6456e+00,  1.5143e+00,  4.0499e-01, -3.4661e-01,  5.7262e-04,\n",
       "         7.5968e-01,  6.6836e-01,  7.2556e-01, -4.7297e-02,  3.8006e-01])"
      ]
     },
     "execution_count": 58,
     "metadata": {},
     "output_type": "execute_result"
    }
   ],
   "source": [
    "# Note that sometimes we predict >1 or <0 for survival which doesnt make much sense\n",
    "preds[:20]"
   ]
  },
  {
   "cell_type": "code",
   "execution_count": 59,
   "id": "73d66f11",
   "metadata": {},
   "outputs": [
    {
     "data": {
      "image/png": "[encoded data removed]",
      "text/plain": [
       "<Figure size 640x480 with 1 Axes>"
      ]
     },
     "metadata": {},
     "output_type": "display_data"
    }
   ],
   "source": [
    "# If we can make our preds 0 to 1 it makes things easier to optimise for and might improve the results\n",
    "# We can run our preds through the sigmoid function, it looks like this\n",
    "\n",
    "import sympy\n",
    "\n",
    "sympy.plot(\"1/(1+exp(-x))\", xlim=(-5, 5));"
   ]
  },
  {
   "cell_type": "code",
   "execution_count": 62,
   "id": "c11edf54",
   "metadata": {},
   "outputs": [
    {
     "name": "stdout",
     "output_type": "stream",
     "text": [
      "Epoch loss: 0.5009738206863403\n",
      "Epoch loss: 0.32492631673812866\n",
      "Epoch loss: 0.32393795251846313\n",
      "Epoch loss: 0.32182762026786804\n",
      "Epoch loss: 0.30690449476242065\n",
      "Epoch loss: 0.2758479118347168\n",
      "Epoch loss: 0.26962998509407043\n",
      "Epoch loss: 0.2395869642496109\n",
      "Epoch loss: 0.21339288353919983\n",
      "Epoch loss: 0.21312007308006287\n",
      "Epoch loss: 0.21239015460014343\n",
      "Epoch loss: 0.20967155694961548\n",
      "Epoch loss: 0.2066357135772705\n",
      "Epoch loss: 0.20470397174358368\n",
      "Epoch loss: 0.20498500764369965\n",
      "Epoch loss: 0.20533636212348938\n",
      "Epoch loss: 0.20536118745803833\n",
      "Epoch loss: 0.2052973210811615\n",
      "Epoch loss: 0.20503248274326324\n",
      "Epoch loss: 0.20401735603809357\n",
      "Epoch loss: 0.20045343041419983\n",
      "Epoch loss: 0.19081436097621918\n",
      "Epoch loss: 0.18857799470424652\n",
      "Epoch loss: 0.18855270743370056\n",
      "Epoch loss: 0.18855218589305878\n",
      "Epoch loss: 0.18855218589305878\n",
      "Epoch loss: 0.18855218589305878\n",
      "Epoch loss: 0.18855218589305878\n",
      "Epoch loss: 0.18855218589305878\n",
      "Epoch loss: 0.18855218589305878\n"
     ]
    },
    {
     "data": {
      "text/plain": [
       "tensor(0.8090)"
      ]
     },
     "execution_count": 62,
     "metadata": {},
     "output_type": "execute_result"
    }
   ],
   "source": [
    "# This is build into pytorch so lets redefine cal_preds\n",
    "\n",
    "\n",
    "def calc_preds(coeffs, indeps):\n",
    "    return torch.sigmoid((indeps * coeffs).sum(axis=1))\n",
    "\n",
    "\n",
    "# Lets see how our training does now\n",
    "coeffs = train_model(lr=100)\n",
    "accuracy(coeffs)"
   ]
  },
  {
   "cell_type": "markdown",
   "id": "b4d23c26",
   "metadata": {},
   "source": [
    "Generally speaking if you are wondering why your model with a binary dependent variable isnt\n",
    "training very well, chuck it through a sigmoid"
   ]
  },
  {
   "cell_type": "code",
   "execution_count": 64,
   "id": "f302fb93",
   "metadata": {},
   "outputs": [
    {
     "data": {
      "text/plain": [
       "{'Age': tensor(-30.0348),\n",
       " 'SibSp': tensor(-7.6965),\n",
       " 'Parch': tensor(5.9681),\n",
       " 'LogFare': tensor(18.6204),\n",
       " 'Sex_male': tensor(-297.2229),\n",
       " 'Sex_female': tensor(234.7081),\n",
       " 'Pclass_1': tensor(101.6380),\n",
       " 'Pclass_2': tensor(31.6891),\n",
       " 'Pclass_3': tensor(-194.9632),\n",
       " 'Embarked_C': tensor(25.9663),\n",
       " 'Embarked_Q': tensor(-4.4031),\n",
       " 'Embarked_S': tensor(-84.0325)}"
      ]
     },
     "execution_count": 64,
     "metadata": {},
     "output_type": "execute_result"
    }
   ],
   "source": [
    "show_coeffs()"
   ]
  },
  {
   "cell_type": "code",
   "execution_count": null,
   "id": "0d2e76f4",
   "metadata": {},
   "outputs": [],
   "source": []
  }
 ],
 "metadata": {
  "kernelspec": {
   "display_name": "Python 3 (ipykernel)",
   "language": "python",
   "name": "python3"
  },
  "language_info": {
   "codemirror_mode": {
    "name": "ipython",
    "version": 3
   },
   "file_extension": ".py",
   "mimetype": "text/x-python",
   "name": "python",
   "nbconvert_exporter": "python",
   "pygments_lexer": "ipython3",
   "version": "3.10.12"
  }
 },
 "nbformat": 4,
 "nbformat_minor": 5
}
