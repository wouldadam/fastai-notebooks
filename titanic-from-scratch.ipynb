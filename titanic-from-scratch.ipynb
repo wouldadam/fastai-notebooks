{
 "cells": [
  {
   "cell_type": "markdown",
   "id": "28dab288",
   "metadata": {},
   "source": [
    "# Titanic from scratch\n",
    "\n",
    "Looking at the [titanic](https://www.kaggle.com/competitions/titanic) kaggle competition without a high level framework, building a linear model or NN from scratch."
   ]
  },
  {
   "cell_type": "markdown",
   "id": "9d261912",
   "metadata": {},
   "source": [
    "## Data"
   ]
  },
  {
   "cell_type": "code",
   "execution_count": 1,
   "id": "eead2a38",
   "metadata": {},
   "outputs": [
    {
     "data": {
      "text/html": [
       "<div>\n",
       "<style scoped>\n",
       "    .dataframe tbody tr th:only-of-type {\n",
       "        vertical-align: middle;\n",
       "    }\n",
       "\n",
       "    .dataframe tbody tr th {\n",
       "        vertical-align: top;\n",
       "    }\n",
       "\n",
       "    .dataframe thead th {\n",
       "        text-align: right;\n",
       "    }\n",
       "</style>\n",
       "<table border=\"1\" class=\"dataframe\">\n",
       "  <thead>\n",
       "    <tr style=\"text-align: right;\">\n",
       "      <th></th>\n",
       "      <th>PassengerId</th>\n",
       "      <th>Survived</th>\n",
       "      <th>Pclass</th>\n",
       "      <th>Name</th>\n",
       "      <th>Sex</th>\n",
       "      <th>Age</th>\n",
       "      <th>SibSp</th>\n",
       "      <th>Parch</th>\n",
       "      <th>Ticket</th>\n",
       "      <th>Fare</th>\n",
       "      <th>Cabin</th>\n",
       "      <th>Embarked</th>\n",
       "    </tr>\n",
       "  </thead>\n",
       "  <tbody>\n",
       "    <tr>\n",
       "      <th>0</th>\n",
       "      <td>1</td>\n",
       "      <td>0</td>\n",
       "      <td>3</td>\n",
       "      <td>Braund, Mr. Owen Harris</td>\n",
       "      <td>male</td>\n",
       "      <td>22.0</td>\n",
       "      <td>1</td>\n",
       "      <td>0</td>\n",
       "      <td>A/5 21171</td>\n",
       "      <td>7.2500</td>\n",
       "      <td>NaN</td>\n",
       "      <td>S</td>\n",
       "    </tr>\n",
       "    <tr>\n",
       "      <th>1</th>\n",
       "      <td>2</td>\n",
       "      <td>1</td>\n",
       "      <td>1</td>\n",
       "      <td>Cumings, Mrs. John Bradley (Florence Briggs Th...</td>\n",
       "      <td>female</td>\n",
       "      <td>38.0</td>\n",
       "      <td>1</td>\n",
       "      <td>0</td>\n",
       "      <td>PC 17599</td>\n",
       "      <td>71.2833</td>\n",
       "      <td>C85</td>\n",
       "      <td>C</td>\n",
       "    </tr>\n",
       "    <tr>\n",
       "      <th>2</th>\n",
       "      <td>3</td>\n",
       "      <td>1</td>\n",
       "      <td>3</td>\n",
       "      <td>Heikkinen, Miss. Laina</td>\n",
       "      <td>female</td>\n",
       "      <td>26.0</td>\n",
       "      <td>0</td>\n",
       "      <td>0</td>\n",
       "      <td>STON/O2. 3101282</td>\n",
       "      <td>7.9250</td>\n",
       "      <td>NaN</td>\n",
       "      <td>S</td>\n",
       "    </tr>\n",
       "    <tr>\n",
       "      <th>3</th>\n",
       "      <td>4</td>\n",
       "      <td>1</td>\n",
       "      <td>1</td>\n",
       "      <td>Futrelle, Mrs. Jacques Heath (Lily May Peel)</td>\n",
       "      <td>female</td>\n",
       "      <td>35.0</td>\n",
       "      <td>1</td>\n",
       "      <td>0</td>\n",
       "      <td>113803</td>\n",
       "      <td>53.1000</td>\n",
       "      <td>C123</td>\n",
       "      <td>S</td>\n",
       "    </tr>\n",
       "    <tr>\n",
       "      <th>4</th>\n",
       "      <td>5</td>\n",
       "      <td>0</td>\n",
       "      <td>3</td>\n",
       "      <td>Allen, Mr. William Henry</td>\n",
       "      <td>male</td>\n",
       "      <td>35.0</td>\n",
       "      <td>0</td>\n",
       "      <td>0</td>\n",
       "      <td>373450</td>\n",
       "      <td>8.0500</td>\n",
       "      <td>NaN</td>\n",
       "      <td>S</td>\n",
       "    </tr>\n",
       "  </tbody>\n",
       "</table>\n",
       "</div>"
      ],
      "text/plain": [
       "   PassengerId  Survived  Pclass  \\\n",
       "0            1         0       3   \n",
       "1            2         1       1   \n",
       "2            3         1       3   \n",
       "3            4         1       1   \n",
       "4            5         0       3   \n",
       "\n",
       "                                                Name     Sex   Age  SibSp  \\\n",
       "0                            Braund, Mr. Owen Harris    male  22.0      1   \n",
       "1  Cumings, Mrs. John Bradley (Florence Briggs Th...  female  38.0      1   \n",
       "2                             Heikkinen, Miss. Laina  female  26.0      0   \n",
       "3       Futrelle, Mrs. Jacques Heath (Lily May Peel)  female  35.0      1   \n",
       "4                           Allen, Mr. William Henry    male  35.0      0   \n",
       "\n",
       "   Parch            Ticket     Fare Cabin Embarked  \n",
       "0      0         A/5 21171   7.2500   NaN        S  \n",
       "1      0          PC 17599  71.2833   C85        C  \n",
       "2      0  STON/O2. 3101282   7.9250   NaN        S  \n",
       "3      0            113803  53.1000  C123        S  \n",
       "4      0            373450   8.0500   NaN        S  "
      ]
     },
     "execution_count": 1,
     "metadata": {},
     "output_type": "execute_result"
    }
   ],
   "source": [
    "import pandas as pd\n",
    "import numpy as np\n",
    "\n",
    "train_frames = pd.read_csv(\"data/titanic/train.csv\")\n",
    "test_frames = pd.read_csv(\"data/titanic/test.csv\")\n",
    "\n",
    "train_frames.head()"
   ]
  },
  {
   "cell_type": "code",
   "execution_count": 2,
   "id": "a51344df",
   "metadata": {},
   "outputs": [
    {
     "data": {
      "text/html": [
       "<div>\n",
       "<style scoped>\n",
       "    .dataframe tbody tr th:only-of-type {\n",
       "        vertical-align: middle;\n",
       "    }\n",
       "\n",
       "    .dataframe tbody tr th {\n",
       "        vertical-align: top;\n",
       "    }\n",
       "\n",
       "    .dataframe thead th {\n",
       "        text-align: right;\n",
       "    }\n",
       "</style>\n",
       "<table border=\"1\" class=\"dataframe\">\n",
       "  <thead>\n",
       "    <tr style=\"text-align: right;\">\n",
       "      <th></th>\n",
       "      <th>PassengerId</th>\n",
       "      <th>Survived</th>\n",
       "      <th>Pclass</th>\n",
       "      <th>Name</th>\n",
       "      <th>Sex</th>\n",
       "      <th>Age</th>\n",
       "      <th>SibSp</th>\n",
       "      <th>Parch</th>\n",
       "      <th>Ticket</th>\n",
       "      <th>Fare</th>\n",
       "      <th>Cabin</th>\n",
       "      <th>Embarked</th>\n",
       "    </tr>\n",
       "  </thead>\n",
       "  <tbody>\n",
       "    <tr>\n",
       "      <th>0</th>\n",
       "      <td>1</td>\n",
       "      <td>0</td>\n",
       "      <td>3</td>\n",
       "      <td>Braund, Mr. Owen Harris</td>\n",
       "      <td>male</td>\n",
       "      <td>22.0</td>\n",
       "      <td>1</td>\n",
       "      <td>0</td>\n",
       "      <td>A/5 21171</td>\n",
       "      <td>7.2500</td>\n",
       "      <td>B96 B98</td>\n",
       "      <td>S</td>\n",
       "    </tr>\n",
       "    <tr>\n",
       "      <th>1</th>\n",
       "      <td>2</td>\n",
       "      <td>1</td>\n",
       "      <td>1</td>\n",
       "      <td>Cumings, Mrs. John Bradley (Florence Briggs Th...</td>\n",
       "      <td>female</td>\n",
       "      <td>38.0</td>\n",
       "      <td>1</td>\n",
       "      <td>0</td>\n",
       "      <td>PC 17599</td>\n",
       "      <td>71.2833</td>\n",
       "      <td>C85</td>\n",
       "      <td>C</td>\n",
       "    </tr>\n",
       "    <tr>\n",
       "      <th>2</th>\n",
       "      <td>3</td>\n",
       "      <td>1</td>\n",
       "      <td>3</td>\n",
       "      <td>Heikkinen, Miss. Laina</td>\n",
       "      <td>female</td>\n",
       "      <td>26.0</td>\n",
       "      <td>0</td>\n",
       "      <td>0</td>\n",
       "      <td>STON/O2. 3101282</td>\n",
       "      <td>7.9250</td>\n",
       "      <td>B96 B98</td>\n",
       "      <td>S</td>\n",
       "    </tr>\n",
       "    <tr>\n",
       "      <th>3</th>\n",
       "      <td>4</td>\n",
       "      <td>1</td>\n",
       "      <td>1</td>\n",
       "      <td>Futrelle, Mrs. Jacques Heath (Lily May Peel)</td>\n",
       "      <td>female</td>\n",
       "      <td>35.0</td>\n",
       "      <td>1</td>\n",
       "      <td>0</td>\n",
       "      <td>113803</td>\n",
       "      <td>53.1000</td>\n",
       "      <td>C123</td>\n",
       "      <td>S</td>\n",
       "    </tr>\n",
       "    <tr>\n",
       "      <th>4</th>\n",
       "      <td>5</td>\n",
       "      <td>0</td>\n",
       "      <td>3</td>\n",
       "      <td>Allen, Mr. William Henry</td>\n",
       "      <td>male</td>\n",
       "      <td>35.0</td>\n",
       "      <td>0</td>\n",
       "      <td>0</td>\n",
       "      <td>373450</td>\n",
       "      <td>8.0500</td>\n",
       "      <td>B96 B98</td>\n",
       "      <td>S</td>\n",
       "    </tr>\n",
       "  </tbody>\n",
       "</table>\n",
       "</div>"
      ],
      "text/plain": [
       "   PassengerId  Survived  Pclass  \\\n",
       "0            1         0       3   \n",
       "1            2         1       1   \n",
       "2            3         1       3   \n",
       "3            4         1       1   \n",
       "4            5         0       3   \n",
       "\n",
       "                                                Name     Sex   Age  SibSp  \\\n",
       "0                            Braund, Mr. Owen Harris    male  22.0      1   \n",
       "1  Cumings, Mrs. John Bradley (Florence Briggs Th...  female  38.0      1   \n",
       "2                             Heikkinen, Miss. Laina  female  26.0      0   \n",
       "3       Futrelle, Mrs. Jacques Heath (Lily May Peel)  female  35.0      1   \n",
       "4                           Allen, Mr. William Henry    male  35.0      0   \n",
       "\n",
       "   Parch            Ticket     Fare    Cabin Embarked  \n",
       "0      0         A/5 21171   7.2500  B96 B98        S  \n",
       "1      0          PC 17599  71.2833      C85        C  \n",
       "2      0  STON/O2. 3101282   7.9250  B96 B98        S  \n",
       "3      0            113803  53.1000     C123        S  \n",
       "4      0            373450   8.0500  B96 B98        S  "
      ]
     },
     "execution_count": 2,
     "metadata": {},
     "output_type": "execute_result"
    }
   ],
   "source": [
    "# Clean the data (age, cabin and embarked all have NA fields on some rows)\n",
    "# Replace NA with mode\n",
    "# Could do a lot better here, eg. Predict a persons age based on other fields\n",
    "\n",
    "for frames in [train_frames, test_frames]:\n",
    "    modes = frames.mode().iloc[0]  # Mode returns multiple if there is a \"tie\" for the mode\n",
    "    frames.fillna(modes, inplace=True)\n",
    "\n",
    "train_frames.head()"
   ]
  },
  {
   "cell_type": "code",
   "execution_count": 3,
   "id": "ec6c7907",
   "metadata": {},
   "outputs": [
    {
     "data": {
      "text/html": [
       "<div>\n",
       "<style scoped>\n",
       "    .dataframe tbody tr th:only-of-type {\n",
       "        vertical-align: middle;\n",
       "    }\n",
       "\n",
       "    .dataframe tbody tr th {\n",
       "        vertical-align: top;\n",
       "    }\n",
       "\n",
       "    .dataframe thead th {\n",
       "        text-align: right;\n",
       "    }\n",
       "</style>\n",
       "<table border=\"1\" class=\"dataframe\">\n",
       "  <thead>\n",
       "    <tr style=\"text-align: right;\">\n",
       "      <th></th>\n",
       "      <th>PassengerId</th>\n",
       "      <th>Survived</th>\n",
       "      <th>Pclass</th>\n",
       "      <th>Age</th>\n",
       "      <th>SibSp</th>\n",
       "      <th>Parch</th>\n",
       "      <th>Fare</th>\n",
       "    </tr>\n",
       "  </thead>\n",
       "  <tbody>\n",
       "    <tr>\n",
       "      <th>count</th>\n",
       "      <td>891.000000</td>\n",
       "      <td>891.000000</td>\n",
       "      <td>891.000000</td>\n",
       "      <td>891.000000</td>\n",
       "      <td>891.000000</td>\n",
       "      <td>891.000000</td>\n",
       "      <td>891.000000</td>\n",
       "    </tr>\n",
       "    <tr>\n",
       "      <th>mean</th>\n",
       "      <td>446.000000</td>\n",
       "      <td>0.383838</td>\n",
       "      <td>2.308642</td>\n",
       "      <td>28.566970</td>\n",
       "      <td>0.523008</td>\n",
       "      <td>0.381594</td>\n",
       "      <td>32.204208</td>\n",
       "    </tr>\n",
       "    <tr>\n",
       "      <th>std</th>\n",
       "      <td>257.353842</td>\n",
       "      <td>0.486592</td>\n",
       "      <td>0.836071</td>\n",
       "      <td>13.199572</td>\n",
       "      <td>1.102743</td>\n",
       "      <td>0.806057</td>\n",
       "      <td>49.693429</td>\n",
       "    </tr>\n",
       "    <tr>\n",
       "      <th>min</th>\n",
       "      <td>1.000000</td>\n",
       "      <td>0.000000</td>\n",
       "      <td>1.000000</td>\n",
       "      <td>0.420000</td>\n",
       "      <td>0.000000</td>\n",
       "      <td>0.000000</td>\n",
       "      <td>0.000000</td>\n",
       "    </tr>\n",
       "    <tr>\n",
       "      <th>25%</th>\n",
       "      <td>223.500000</td>\n",
       "      <td>0.000000</td>\n",
       "      <td>2.000000</td>\n",
       "      <td>22.000000</td>\n",
       "      <td>0.000000</td>\n",
       "      <td>0.000000</td>\n",
       "      <td>7.910400</td>\n",
       "    </tr>\n",
       "    <tr>\n",
       "      <th>50%</th>\n",
       "      <td>446.000000</td>\n",
       "      <td>0.000000</td>\n",
       "      <td>3.000000</td>\n",
       "      <td>24.000000</td>\n",
       "      <td>0.000000</td>\n",
       "      <td>0.000000</td>\n",
       "      <td>14.454200</td>\n",
       "    </tr>\n",
       "    <tr>\n",
       "      <th>75%</th>\n",
       "      <td>668.500000</td>\n",
       "      <td>1.000000</td>\n",
       "      <td>3.000000</td>\n",
       "      <td>35.000000</td>\n",
       "      <td>1.000000</td>\n",
       "      <td>0.000000</td>\n",
       "      <td>31.000000</td>\n",
       "    </tr>\n",
       "    <tr>\n",
       "      <th>max</th>\n",
       "      <td>891.000000</td>\n",
       "      <td>1.000000</td>\n",
       "      <td>3.000000</td>\n",
       "      <td>80.000000</td>\n",
       "      <td>8.000000</td>\n",
       "      <td>6.000000</td>\n",
       "      <td>512.329200</td>\n",
       "    </tr>\n",
       "  </tbody>\n",
       "</table>\n",
       "</div>"
      ],
      "text/plain": [
       "       PassengerId    Survived      Pclass         Age       SibSp  \\\n",
       "count   891.000000  891.000000  891.000000  891.000000  891.000000   \n",
       "mean    446.000000    0.383838    2.308642   28.566970    0.523008   \n",
       "std     257.353842    0.486592    0.836071   13.199572    1.102743   \n",
       "min       1.000000    0.000000    1.000000    0.420000    0.000000   \n",
       "25%     223.500000    0.000000    2.000000   22.000000    0.000000   \n",
       "50%     446.000000    0.000000    3.000000   24.000000    0.000000   \n",
       "75%     668.500000    1.000000    3.000000   35.000000    1.000000   \n",
       "max     891.000000    1.000000    3.000000   80.000000    8.000000   \n",
       "\n",
       "            Parch        Fare  \n",
       "count  891.000000  891.000000  \n",
       "mean     0.381594   32.204208  \n",
       "std      0.806057   49.693429  \n",
       "min      0.000000    0.000000  \n",
       "25%      0.000000    7.910400  \n",
       "50%      0.000000   14.454200  \n",
       "75%      0.000000   31.000000  \n",
       "max      6.000000  512.329200  "
      ]
     },
     "execution_count": 3,
     "metadata": {},
     "output_type": "execute_result"
    }
   ],
   "source": [
    "train_frames.describe()"
   ]
  },
  {
   "cell_type": "code",
   "execution_count": 4,
   "id": "fa2791ce",
   "metadata": {},
   "outputs": [
    {
     "data": {
      "text/plain": [
       "<Axes: >"
      ]
     },
     "execution_count": 4,
     "metadata": {},
     "output_type": "execute_result"
    },
    {
     "data": {
      "image/png": "[encoded data removed]",
      "text/plain": [
       "<Figure size 640x480 with 1 Axes>"
      ]
     },
     "metadata": {},
     "output_type": "display_data"
    }
   ],
   "source": [
    "# Fare looks like its a distribution with a long tail - yup\n",
    "# Lots of models dont like this (linear, NNs)\n",
    "train_frames[\"Fare\"].hist()"
   ]
  },
  {
   "cell_type": "code",
   "execution_count": 5,
   "id": "578da4c0",
   "metadata": {},
   "outputs": [
    {
     "data": {
      "text/plain": [
       "<Axes: >"
      ]
     },
     "execution_count": 5,
     "metadata": {},
     "output_type": "execute_result"
    },
    {
     "data": {
      "image/png": "[encoded data removed]",
      "text/plain": [
       "<Figure size 640x480 with 1 Axes>"
      ]
     },
     "metadata": {},
     "output_type": "display_data"
    }
   ],
   "source": [
    "# Lets take the log and use that instead\n",
    "for frames in [train_frames, test_frames]:\n",
    "    frames[\"LogFare\"] = np.log(frames[\"Fare\"] + 1)\n",
    "\n",
    "# Thats better\n",
    "train_frames[\"LogFare\"].hist()"
   ]
  },
  {
   "cell_type": "code",
   "execution_count": 6,
   "id": "95350be3",
   "metadata": {},
   "outputs": [
    {
     "data": {
      "text/plain": [
       "[1, 2, 3]"
      ]
     },
     "execution_count": 6,
     "metadata": {},
     "output_type": "execute_result"
    }
   ],
   "source": [
    "pass_classes = sorted(train_frames.Pclass.unique())\n",
    "pass_classes"
   ]
  },
  {
   "cell_type": "code",
   "execution_count": 7,
   "id": "96b8cbec",
   "metadata": {},
   "outputs": [
    {
     "data": {
      "text/html": [
       "<div>\n",
       "<style scoped>\n",
       "    .dataframe tbody tr th:only-of-type {\n",
       "        vertical-align: middle;\n",
       "    }\n",
       "\n",
       "    .dataframe tbody tr th {\n",
       "        vertical-align: top;\n",
       "    }\n",
       "\n",
       "    .dataframe thead th {\n",
       "        text-align: right;\n",
       "    }\n",
       "</style>\n",
       "<table border=\"1\" class=\"dataframe\">\n",
       "  <thead>\n",
       "    <tr style=\"text-align: right;\">\n",
       "      <th></th>\n",
       "      <th>PassengerId</th>\n",
       "      <th>Survived</th>\n",
       "      <th>Name</th>\n",
       "      <th>Age</th>\n",
       "      <th>SibSp</th>\n",
       "      <th>Parch</th>\n",
       "      <th>Ticket</th>\n",
       "      <th>Fare</th>\n",
       "      <th>Cabin</th>\n",
       "      <th>LogFare</th>\n",
       "      <th>Sex_female</th>\n",
       "      <th>Sex_male</th>\n",
       "      <th>Pclass_1</th>\n",
       "      <th>Pclass_2</th>\n",
       "      <th>Pclass_3</th>\n",
       "      <th>Embarked_C</th>\n",
       "      <th>Embarked_Q</th>\n",
       "      <th>Embarked_S</th>\n",
       "    </tr>\n",
       "  </thead>\n",
       "  <tbody>\n",
       "    <tr>\n",
       "      <th>0</th>\n",
       "      <td>1</td>\n",
       "      <td>0</td>\n",
       "      <td>Braund, Mr. Owen Harris</td>\n",
       "      <td>22.0</td>\n",
       "      <td>1</td>\n",
       "      <td>0</td>\n",
       "      <td>A/5 21171</td>\n",
       "      <td>7.2500</td>\n",
       "      <td>B96 B98</td>\n",
       "      <td>2.110213</td>\n",
       "      <td>0</td>\n",
       "      <td>1</td>\n",
       "      <td>0</td>\n",
       "      <td>0</td>\n",
       "      <td>1</td>\n",
       "      <td>0</td>\n",
       "      <td>0</td>\n",
       "      <td>1</td>\n",
       "    </tr>\n",
       "    <tr>\n",
       "      <th>1</th>\n",
       "      <td>2</td>\n",
       "      <td>1</td>\n",
       "      <td>Cumings, Mrs. John Bradley (Florence Briggs Th...</td>\n",
       "      <td>38.0</td>\n",
       "      <td>1</td>\n",
       "      <td>0</td>\n",
       "      <td>PC 17599</td>\n",
       "      <td>71.2833</td>\n",
       "      <td>C85</td>\n",
       "      <td>4.280593</td>\n",
       "      <td>1</td>\n",
       "      <td>0</td>\n",
       "      <td>1</td>\n",
       "      <td>0</td>\n",
       "      <td>0</td>\n",
       "      <td>1</td>\n",
       "      <td>0</td>\n",
       "      <td>0</td>\n",
       "    </tr>\n",
       "    <tr>\n",
       "      <th>2</th>\n",
       "      <td>3</td>\n",
       "      <td>1</td>\n",
       "      <td>Heikkinen, Miss. Laina</td>\n",
       "      <td>26.0</td>\n",
       "      <td>0</td>\n",
       "      <td>0</td>\n",
       "      <td>STON/O2. 3101282</td>\n",
       "      <td>7.9250</td>\n",
       "      <td>B96 B98</td>\n",
       "      <td>2.188856</td>\n",
       "      <td>1</td>\n",
       "      <td>0</td>\n",
       "      <td>0</td>\n",
       "      <td>0</td>\n",
       "      <td>1</td>\n",
       "      <td>0</td>\n",
       "      <td>0</td>\n",
       "      <td>1</td>\n",
       "    </tr>\n",
       "    <tr>\n",
       "      <th>3</th>\n",
       "      <td>4</td>\n",
       "      <td>1</td>\n",
       "      <td>Futrelle, Mrs. Jacques Heath (Lily May Peel)</td>\n",
       "      <td>35.0</td>\n",
       "      <td>1</td>\n",
       "      <td>0</td>\n",
       "      <td>113803</td>\n",
       "      <td>53.1000</td>\n",
       "      <td>C123</td>\n",
       "      <td>3.990834</td>\n",
       "      <td>1</td>\n",
       "      <td>0</td>\n",
       "      <td>1</td>\n",
       "      <td>0</td>\n",
       "      <td>0</td>\n",
       "      <td>0</td>\n",
       "      <td>0</td>\n",
       "      <td>1</td>\n",
       "    </tr>\n",
       "    <tr>\n",
       "      <th>4</th>\n",
       "      <td>5</td>\n",
       "      <td>0</td>\n",
       "      <td>Allen, Mr. William Henry</td>\n",
       "      <td>35.0</td>\n",
       "      <td>0</td>\n",
       "      <td>0</td>\n",
       "      <td>373450</td>\n",
       "      <td>8.0500</td>\n",
       "      <td>B96 B98</td>\n",
       "      <td>2.202765</td>\n",
       "      <td>0</td>\n",
       "      <td>1</td>\n",
       "      <td>0</td>\n",
       "      <td>0</td>\n",
       "      <td>1</td>\n",
       "      <td>0</td>\n",
       "      <td>0</td>\n",
       "      <td>1</td>\n",
       "    </tr>\n",
       "  </tbody>\n",
       "</table>\n",
       "</div>"
      ],
      "text/plain": [
       "   PassengerId  Survived                                               Name  \\\n",
       "0            1         0                            Braund, Mr. Owen Harris   \n",
       "1            2         1  Cumings, Mrs. John Bradley (Florence Briggs Th...   \n",
       "2            3         1                             Heikkinen, Miss. Laina   \n",
       "3            4         1       Futrelle, Mrs. Jacques Heath (Lily May Peel)   \n",
       "4            5         0                           Allen, Mr. William Henry   \n",
       "\n",
       "    Age  SibSp  Parch            Ticket     Fare    Cabin   LogFare  \\\n",
       "0  22.0      1      0         A/5 21171   7.2500  B96 B98  2.110213   \n",
       "1  38.0      1      0          PC 17599  71.2833      C85  4.280593   \n",
       "2  26.0      0      0  STON/O2. 3101282   7.9250  B96 B98  2.188856   \n",
       "3  35.0      1      0            113803  53.1000     C123  3.990834   \n",
       "4  35.0      0      0            373450   8.0500  B96 B98  2.202765   \n",
       "\n",
       "   Sex_female  Sex_male  Pclass_1  Pclass_2  Pclass_3  Embarked_C  Embarked_Q  \\\n",
       "0           0         1         0         0         1           0           0   \n",
       "1           1         0         1         0         0           1           0   \n",
       "2           1         0         0         0         1           0           0   \n",
       "3           1         0         1         0         0           0           0   \n",
       "4           0         1         0         0         1           0           0   \n",
       "\n",
       "   Embarked_S  \n",
       "0           1  \n",
       "1           0  \n",
       "2           1  \n",
       "3           1  \n",
       "4           1  "
      ]
     },
     "execution_count": 7,
     "metadata": {},
     "output_type": "execute_result"
    }
   ],
   "source": [
    "# We have some fields that are text fields but really categories, lets add dummy fields to represent them as 0 or 1\n",
    "\n",
    "cat_columns = [\"Sex\", \"Pclass\", \"Embarked\"]\n",
    "train_frames = pd.get_dummies(train_frames, columns=cat_columns)\n",
    "test_frames = pd.get_dummies(test_frames, columns=cat_columns)\n",
    "\n",
    "added_cols = [\"Sex_male\", \"Sex_female\", \"Pclass_1\", \"Pclass_2\", \"Pclass_3\", \"Embarked_C\", \"Embarked_Q\", \"Embarked_S\"]\n",
    "train_frames.head()"
   ]
  },
  {
   "cell_type": "markdown",
   "id": "a81101d8",
   "metadata": {},
   "source": [
    "## Tensors"
   ]
  },
  {
   "cell_type": "code",
   "execution_count": 8,
   "id": "ef6ce5f0",
   "metadata": {},
   "outputs": [],
   "source": [
    "import torch as torch\n",
    "from torch import tensor\n",
    "\n",
    "torch.manual_seed(442)\n",
    "\n",
    "# Our dependent variable as a tensor (the thing we are trying to predict)\n",
    "t_dep = tensor(train_frames.Survived)"
   ]
  },
  {
   "cell_type": "code",
   "execution_count": 9,
   "id": "a9f6ce3d",
   "metadata": {},
   "outputs": [
    {
     "data": {
      "text/plain": [
       "tensor([[22.,  1.,  0.,  ...,  0.,  0.,  1.],\n",
       "        [38.,  1.,  0.,  ...,  1.,  0.,  0.],\n",
       "        [26.,  0.,  0.,  ...,  0.,  0.,  1.],\n",
       "        ...,\n",
       "        [24.,  1.,  2.,  ...,  0.,  0.,  1.],\n",
       "        [26.,  0.,  0.,  ...,  1.,  0.,  0.],\n",
       "        [32.,  0.,  0.,  ...,  0.,  1.,  0.]])"
      ]
     },
     "execution_count": 9,
     "metadata": {},
     "output_type": "execute_result"
    }
   ],
   "source": [
    "# Our independent variables (the things we are using to predict) as tensors\n",
    "\n",
    "indep_cols = [\"Age\", \"SibSp\", \"Parch\", \"LogFare\"] + added_cols\n",
    "t_indep = tensor(train_frames[indep_cols].values, dtype=torch.float)\n",
    "t_indep"
   ]
  },
  {
   "cell_type": "code",
   "execution_count": 10,
   "id": "3cc56e80",
   "metadata": {},
   "outputs": [
    {
     "data": {
      "text/plain": [
       "torch.Size([891, 12])"
      ]
     },
     "execution_count": 10,
     "metadata": {},
     "output_type": "execute_result"
    }
   ],
   "source": [
    "# Could think of as [rows, cols] in shape\n",
    "t_indep.shape"
   ]
  },
  {
   "cell_type": "code",
   "execution_count": 11,
   "id": "72ff4b75",
   "metadata": {},
   "outputs": [
    {
     "data": {
      "text/plain": [
       "2"
      ]
     },
     "execution_count": 11,
     "metadata": {},
     "output_type": "execute_result"
    }
   ],
   "source": [
    "# Rank is 2 (number of dimensions)\n",
    "len(t_indep.shape)"
   ]
  },
  {
   "cell_type": "markdown",
   "id": "73dda4e5",
   "metadata": {},
   "source": [
    "## Linear model"
   ]
  },
  {
   "cell_type": "code",
   "execution_count": 12,
   "id": "0f101aae",
   "metadata": {},
   "outputs": [
    {
     "data": {
      "text/plain": [
       "tensor([-0.4629,  0.1386,  0.2409, -0.2262, -0.2632, -0.3147,  0.4876,  0.3136,\n",
       "         0.2799, -0.4392,  0.2103,  0.3625])"
      ]
     },
     "execution_count": 12,
     "metadata": {},
     "output_type": "execute_result"
    }
   ],
   "source": [
    "# Need a random coefficient for each col to start\n",
    "n_coeff = t_indep.shape[1]\n",
    "coeffs = torch.rand(n_coeff) - 0.5  # Between 0 and 1 so subtract to center them\n",
    "coeffs"
   ]
  },
  {
   "cell_type": "code",
   "execution_count": 13,
   "id": "c7137f64",
   "metadata": {},
   "outputs": [
    {
     "data": {
      "text/plain": [
       "tensor([[-10.1838,   0.1386,   0.0000,  ...,  -0.0000,   0.0000,   0.3625],\n",
       "        [-17.5902,   0.1386,   0.0000,  ...,  -0.4392,   0.0000,   0.0000],\n",
       "        [-12.0354,   0.0000,   0.0000,  ...,  -0.0000,   0.0000,   0.3625],\n",
       "        ...,\n",
       "        [-11.1096,   0.1386,   0.4818,  ...,  -0.0000,   0.0000,   0.3625],\n",
       "        [-12.0354,   0.0000,   0.0000,  ...,  -0.4392,   0.0000,   0.0000],\n",
       "        [-14.8128,   0.0000,   0.0000,  ...,  -0.0000,   0.2103,   0.0000]])"
      ]
     },
     "execution_count": 13,
     "metadata": {},
     "output_type": "execute_result"
    }
   ],
   "source": [
    "# We're going to multiply each row by the coefficients like this (using broadcasting)\n",
    "t_indep * coeffs"
   ]
  },
  {
   "cell_type": "code",
   "execution_count": 14,
   "id": "eb46105a",
   "metadata": {},
   "outputs": [
    {
     "data": {
      "text/plain": [
       "tensor([[-0.1273,  0.0173,  0.0000,  ..., -0.0000,  0.0000,  0.3625],\n",
       "        [-0.2199,  0.0173,  0.0000,  ..., -0.4392,  0.0000,  0.0000],\n",
       "        [-0.1504,  0.0000,  0.0000,  ..., -0.0000,  0.0000,  0.3625],\n",
       "        ...,\n",
       "        [-0.1389,  0.0173,  0.0803,  ..., -0.0000,  0.0000,  0.3625],\n",
       "        [-0.1504,  0.0000,  0.0000,  ..., -0.4392,  0.0000,  0.0000],\n",
       "        [-0.1852,  0.0000,  0.0000,  ..., -0.0000,  0.2103,  0.0000]])"
      ]
     },
     "execution_count": 14,
     "metadata": {},
     "output_type": "execute_result"
    }
   ],
   "source": [
    "# One problem is that when we sum these up the first column (Age) is going to dominate things\n",
    "# Lets make everything between 0 and 1 to prevent things like that\n",
    "vals, indices = t_indep.max(dim=0)\n",
    "t_indep = t_indep / vals\n",
    "\n",
    "# This looks better now\n",
    "t_indep * coeffs"
   ]
  },
  {
   "cell_type": "code",
   "execution_count": 15,
   "id": "72166277",
   "metadata": {},
   "outputs": [
    {
     "data": {
      "text/plain": [
       "tensor([ 0.1927, -0.6239,  0.0979,  0.2056,  0.0968,  0.0066,  0.1306,  0.3476,\n",
       "         0.1613, -0.6285,  0.2579,  0.0796,  0.1836,  0.2457,  0.1676, -0.0595,\n",
       "         0.2014,  0.1783,  0.0589, -0.6892])"
      ]
     },
     "execution_count": 15,
     "metadata": {},
     "output_type": "execute_result"
    }
   ],
   "source": [
    "# Lets make a prediction\n",
    "preds = (t_indep * coeffs).sum(axis=1)\n",
    "preds[:20]"
   ]
  },
  {
   "cell_type": "code",
   "execution_count": 16,
   "id": "461bf166",
   "metadata": {},
   "outputs": [
    {
     "data": {
      "text/plain": [
       "tensor(0.5382)"
      ]
     },
     "execution_count": 16,
     "metadata": {},
     "output_type": "execute_result"
    }
   ],
   "source": [
    "# That works bit isn't much use with random coefficients, time for gradient descent\n",
    "\n",
    "# We need a loss function, lets take the average error of the rows (abs val of the diff between prediction and dependent)\n",
    "loss = torch.abs(preds - t_dep).mean()\n",
    "loss"
   ]
  },
  {
   "cell_type": "code",
   "execution_count": 17,
   "id": "c0ce5468",
   "metadata": {},
   "outputs": [],
   "source": [
    "# Lets shove predictions and loss into some functions\n",
    "\n",
    "\n",
    "def calc_preds(coeffs, indeps):\n",
    "    return (indeps * coeffs).sum(axis=1)\n",
    "\n",
    "\n",
    "def calc_loss(preds, deps):\n",
    "    return torch.abs(preds - deps).mean()"
   ]
  },
  {
   "cell_type": "markdown",
   "id": "5ef5db8a",
   "metadata": {},
   "source": [
    "### Single gradient descent step"
   ]
  },
  {
   "cell_type": "code",
   "execution_count": 18,
   "id": "0e8d5fab",
   "metadata": {},
   "outputs": [
    {
     "data": {
      "text/plain": [
       "tensor([-0.4629,  0.1386,  0.2409, -0.2262, -0.2632, -0.3147,  0.4876,  0.3136,\n",
       "         0.2799, -0.4392,  0.2103,  0.3625], requires_grad=True)"
      ]
     },
     "execution_count": 18,
     "metadata": {},
     "output_type": "execute_result"
    }
   ],
   "source": [
    "# We want the pytorch to calculate the derivatives for the coefficients for us\n",
    "coeffs.requires_grad_()"
   ]
  },
  {
   "cell_type": "code",
   "execution_count": 19,
   "id": "83dc6aef",
   "metadata": {},
   "outputs": [
    {
     "data": {
      "text/plain": [
       "tensor(0.5382, grad_fn=<MeanBackward0>)"
      ]
     },
     "execution_count": 19,
     "metadata": {},
     "output_type": "execute_result"
    }
   ],
   "source": [
    "# Now we get a gradient function for the loss\n",
    "preds = calc_preds(coeffs, t_indep)\n",
    "loss = calc_loss(preds, t_dep)\n",
    "loss"
   ]
  },
  {
   "cell_type": "code",
   "execution_count": 20,
   "id": "e8e6c40e",
   "metadata": {},
   "outputs": [
    {
     "data": {
      "text/plain": [
       "tensor([-0.0106,  0.0129, -0.0041, -0.0484,  0.2099, -0.2132, -0.1212, -0.0247,\n",
       "         0.1425, -0.1886, -0.0191,  0.2043])"
      ]
     },
     "execution_count": 20,
     "metadata": {},
     "output_type": "execute_result"
    }
   ],
   "source": [
    "loss.backward()\n",
    "coeffs.grad"
   ]
  },
  {
   "cell_type": "code",
   "execution_count": 21,
   "id": "9f8a9111",
   "metadata": {},
   "outputs": [
    {
     "data": {
      "text/plain": [
       "tensor(0.5197)"
      ]
     },
     "execution_count": 21,
     "metadata": {},
     "output_type": "execute_result"
    }
   ],
   "source": [
    "# Lets  tweak the coeffs and see what happens\n",
    "\n",
    "lr = 0.1\n",
    "with torch.no_grad():\n",
    "    coeffs.sub_(coeffs.grad * 0.1)\n",
    "    preds = calc_preds(coeffs, t_indep)\n",
    "    loss = calc_loss(preds, t_dep)\n",
    "\n",
    "# Hurray, run this multiple times and we are gradient descending\n",
    "loss"
   ]
  },
  {
   "cell_type": "markdown",
   "id": "08483bc0",
   "metadata": {},
   "source": [
    "### Training the linear model"
   ]
  },
  {
   "cell_type": "code",
   "execution_count": 22,
   "id": "00f2125a",
   "metadata": {},
   "outputs": [
    {
     "data": {
      "text/plain": [
       "(713, 178)"
      ]
     },
     "execution_count": 22,
     "metadata": {},
     "output_type": "execute_result"
    }
   ],
   "source": [
    "# We need to split the training data to get validation\n",
    "from fastai.data.transforms import RandomSplitter\n",
    "\n",
    "# List of the indexes of the rows for each split\n",
    "trn_split, val_split = RandomSplitter(seed=42)(train_frames)\n",
    "\n",
    "# So lets create them\n",
    "trn_indep, val_indep = t_indep[trn_split], t_indep[val_split]\n",
    "trn_dep, val_dep = t_dep[trn_split], t_dep[val_split]\n",
    "len(trn_indep), len(val_indep)"
   ]
  },
  {
   "cell_type": "code",
   "execution_count": 23,
   "id": "b86baa10",
   "metadata": {},
   "outputs": [],
   "source": [
    "# We'll need our coefficient update in a function\n",
    "\n",
    "\n",
    "def update_coeffs(coeffs, lr):\n",
    "    coeffs.sub_(coeffs.grad * lr)\n",
    "\n",
    "\n",
    "# And a run of a single training epoch\n",
    "def one_epoch(coeffs, lr):\n",
    "    preds = calc_preds(coeffs, t_indep)\n",
    "    loss = calc_loss(preds, t_dep)\n",
    "\n",
    "    loss.backward()\n",
    "    with torch.no_grad():\n",
    "        update_coeffs(coeffs, lr)\n",
    "\n",
    "    print(f\"Epoch loss: {loss}\")\n",
    "\n",
    "\n",
    "# A function to initialise coeffs\n",
    "def init_coeffs():\n",
    "    return (torch.rand(n_coeff) - 0.5).requires_grad_()\n",
    "\n",
    "\n",
    "# And now the function to run it all\n",
    "def train_model(epochs=30, lr=0.01):\n",
    "    torch.manual_seed(442)\n",
    "    coeffs = init_coeffs()\n",
    "    for i in range(epochs):\n",
    "        one_epoch(coeffs, lr)\n",
    "\n",
    "    return coeffs"
   ]
  },
  {
   "cell_type": "code",
   "execution_count": 24,
   "id": "7e69e34f",
   "metadata": {},
   "outputs": [
    {
     "name": "stdout",
     "output_type": "stream",
     "text": [
      "Epoch loss: 0.5382388234138489\n",
      "Epoch loss: 0.5361900925636292\n",
      "Epoch loss: 0.5322386622428894\n",
      "Epoch loss: 0.526789665222168\n",
      "Epoch loss: 0.5199053883552551\n",
      "Epoch loss: 0.5118916630744934\n",
      "Epoch loss: 0.5029719471931458\n",
      "Epoch loss: 0.4938746690750122\n",
      "Epoch loss: 0.4850544333457947\n",
      "Epoch loss: 0.47758927941322327\n",
      "Epoch loss: 0.46983984112739563\n",
      "Epoch loss: 0.45848366618156433\n",
      "Epoch loss: 0.4428435266017914\n",
      "Epoch loss: 0.42341259121894836\n",
      "Epoch loss: 0.4032250642776489\n",
      "Epoch loss: 0.38677313923835754\n",
      "Epoch loss: 0.3714464008808136\n",
      "Epoch loss: 0.35796841979026794\n",
      "Epoch loss: 0.34542733430862427\n",
      "Epoch loss: 0.3327818512916565\n",
      "Epoch loss: 0.320084810256958\n",
      "Epoch loss: 0.3085974454879761\n",
      "Epoch loss: 0.29809021949768066\n",
      "Epoch loss: 0.2919977605342865\n",
      "Epoch loss: 0.2920628786087036\n",
      "Epoch loss: 0.3002709150314331\n",
      "Epoch loss: 0.3108963072299957\n",
      "Epoch loss: 0.32415151596069336\n",
      "Epoch loss: 0.34188657999038696\n",
      "Epoch loss: 0.36107301712036133\n"
     ]
    }
   ],
   "source": [
    "# Lets run it - it kind works!\n",
    "coeffs = train_model()"
   ]
  },
  {
   "cell_type": "code",
   "execution_count": 25,
   "id": "a359a738",
   "metadata": {},
   "outputs": [
    {
     "data": {
      "text/plain": [
       "{'Age': tensor(-0.1853),\n",
       " 'SibSp': tensor(0.0804),\n",
       " 'Parch': tensor(0.2489),\n",
       " 'LogFare': tensor(0.1676),\n",
       " 'Sex_male': tensor(-0.4891),\n",
       " 'Sex_female': tensor(0.5091),\n",
       " 'Pclass_1': tensor(0.9221),\n",
       " 'Pclass_2': tensor(0.4678),\n",
       " 'Pclass_3': tensor(0.2891),\n",
       " 'Embarked_C': tensor(0.3304),\n",
       " 'Embarked_Q': tensor(0.3515),\n",
       " 'Embarked_S': tensor(0.0496)}"
      ]
     },
     "execution_count": 25,
     "metadata": {},
     "output_type": "execute_result"
    }
   ],
   "source": [
    "# Lets see what coefficeints we ended up with\n",
    "def show_coeffs():\n",
    "    return dict(zip(indep_cols, coeffs.requires_grad_(False)))\n",
    "\n",
    "\n",
    "show_coeffs()"
   ]
  },
  {
   "cell_type": "markdown",
   "id": "2ffa3bc7",
   "metadata": {},
   "source": [
    "### Measuring accuracy"
   ]
  },
  {
   "cell_type": "code",
   "execution_count": 26,
   "id": "8f314b88",
   "metadata": {},
   "outputs": [],
   "source": [
    "# The kaggle competition is judging us on accuracy (proportion of rows where we got the answer correct)\n",
    "# of predictions not on loss, so lets calculate that\n",
    "\n",
    "preds = calc_preds(coeffs, val_indep)\n",
    "\n",
    "# Lets have >0.5 == survive\n",
    "results = val_dep.bool() == (preds > 0.5)"
   ]
  },
  {
   "cell_type": "code",
   "execution_count": 27,
   "id": "d0f11041",
   "metadata": {},
   "outputs": [
    {
     "data": {
      "text/plain": [
       "tensor(0.7921)"
      ]
     },
     "execution_count": 27,
     "metadata": {},
     "output_type": "execute_result"
    }
   ],
   "source": [
    "# Shove it in a function for the future\n",
    "def accuracy(coeffs):\n",
    "    preds = calc_preds(coeffs, val_indep)\n",
    "    results = val_dep.bool() == (preds > 0.5)\n",
    "    return results.float().mean()\n",
    "\n",
    "\n",
    "accuracy(coeffs)"
   ]
  },
  {
   "cell_type": "markdown",
   "id": "09b05dc7",
   "metadata": {},
   "source": [
    "### Using sigmoid"
   ]
  },
  {
   "cell_type": "code",
   "execution_count": 28,
   "id": "b27b39b0",
   "metadata": {},
   "outputs": [
    {
     "data": {
      "text/plain": [
       "tensor([ 1.3423,  0.1541,  0.1314,  0.1022,  0.0411,  0.0425,  1.2325,  1.0324,\n",
       "         0.0843,  1.2091, -0.1658,  0.2012, -0.0412,  1.1527, -0.1752,  0.4674,\n",
       "         0.4210,  1.0985,  0.0264,  0.8369])"
      ]
     },
     "execution_count": 28,
     "metadata": {},
     "output_type": "execute_result"
    }
   ],
   "source": [
    "# Note that sometimes we predict >1 or <0 for survival which doesnt make much sense\n",
    "preds[:20]"
   ]
  },
  {
   "cell_type": "code",
   "execution_count": 29,
   "id": "0a177693",
   "metadata": {},
   "outputs": [
    {
     "data": {
      "image/png": "[encoded data removed]",
      "text/plain": [
       "<Figure size 640x480 with 1 Axes>"
      ]
     },
     "metadata": {},
     "output_type": "display_data"
    }
   ],
   "source": [
    "# If we can make our preds 0 to 1 it makes things easier to optimise for and might improve the results\n",
    "# We can run our preds through the sigmoid function, it looks like this\n",
    "\n",
    "import sympy\n",
    "\n",
    "sympy.plot(\"1/(1+exp(-x))\", xlim=(-5, 5));"
   ]
  },
  {
   "cell_type": "code",
   "execution_count": 30,
   "id": "28b4181e",
   "metadata": {},
   "outputs": [
    {
     "name": "stdout",
     "output_type": "stream",
     "text": [
      "Epoch loss: 0.5112411975860596\n",
      "Epoch loss: 0.3210502564907074\n",
      "Epoch loss: 0.31387194991111755\n",
      "Epoch loss: 0.2766646146774292\n",
      "Epoch loss: 0.24391253292560577\n",
      "Epoch loss: 0.21307159960269928\n",
      "Epoch loss: 0.21162094175815582\n",
      "Epoch loss: 0.20770388841629028\n",
      "Epoch loss: 0.20502661168575287\n",
      "Epoch loss: 0.20518986880779266\n",
      "Epoch loss: 0.20513595640659332\n",
      "Epoch loss: 0.2044714093208313\n",
      "Epoch loss: 0.20170290768146515\n",
      "Epoch loss: 0.19249822199344635\n",
      "Epoch loss: 0.18868441879749298\n",
      "Epoch loss: 0.18855583667755127\n",
      "Epoch loss: 0.18855227530002594\n",
      "Epoch loss: 0.18855218589305878\n",
      "Epoch loss: 0.18855218589305878\n",
      "Epoch loss: 0.18855218589305878\n",
      "Epoch loss: 0.18855218589305878\n",
      "Epoch loss: 0.18855218589305878\n",
      "Epoch loss: 0.18855218589305878\n",
      "Epoch loss: 0.18855218589305878\n",
      "Epoch loss: 0.18855218589305878\n",
      "Epoch loss: 0.18855218589305878\n",
      "Epoch loss: 0.18855218589305878\n",
      "Epoch loss: 0.1885521560907364\n",
      "Epoch loss: 0.18855203688144684\n",
      "Epoch loss: 0.1885513961315155\n"
     ]
    },
    {
     "data": {
      "text/plain": [
       "tensor(0.8258)"
      ]
     },
     "execution_count": 30,
     "metadata": {},
     "output_type": "execute_result"
    }
   ],
   "source": [
    "# This is build into pytorch so lets redefine cal_preds\n",
    "def calc_preds(coeffs, indeps):\n",
    "    return torch.sigmoid((indeps * coeffs).sum(axis=1))\n",
    "\n",
    "\n",
    "# Lets see how our training does now\n",
    "coeffs = train_model(lr=100)\n",
    "accuracy(coeffs)"
   ]
  },
  {
   "cell_type": "markdown",
   "id": "0e300cbe",
   "metadata": {},
   "source": [
    "Generally speaking if you are wondering why your model with a binary dependent variable isnt\n",
    "training very well, chuck it through a sigmoid"
   ]
  },
  {
   "cell_type": "code",
   "execution_count": 31,
   "id": "fd522e4d",
   "metadata": {},
   "outputs": [
    {
     "data": {
      "text/plain": [
       "{'Age': tensor(-25.6366),\n",
       " 'SibSp': tensor(-7.0167),\n",
       " 'Parch': tensor(7.4201),\n",
       " 'LogFare': tensor(24.2842),\n",
       " 'Sex_male': tensor(-297.6207),\n",
       " 'Sex_female': tensor(248.9422),\n",
       " 'Pclass_1': tensor(99.5087),\n",
       " 'Pclass_2': tensor(42.1052),\n",
       " 'Pclass_3': tensor(-188.6333),\n",
       " 'Embarked_C': tensor(28.5645),\n",
       " 'Embarked_Q': tensor(0.0219),\n",
       " 'Embarked_S': tensor(-76.5533)}"
      ]
     },
     "execution_count": 31,
     "metadata": {},
     "output_type": "execute_result"
    }
   ],
   "source": [
    "show_coeffs()"
   ]
  },
  {
   "cell_type": "markdown",
   "id": "6a2b3965",
   "metadata": {},
   "source": [
    "### Matrix product\n",
    "\n",
    "To speed things up a bit we can replace the element wise mult + sum with a matrix multiply. Multiplying elements together and then addicing across rows is identical to doing a matrix-vector product.\n",
    "In python this is th `@` operator."
   ]
  },
  {
   "cell_type": "code",
   "execution_count": 32,
   "id": "4c4a5875",
   "metadata": {},
   "outputs": [
    {
     "name": "stdout",
     "output_type": "stream",
     "text": [
      "Epoch loss: 0.5112411975860596\n",
      "Epoch loss: 0.3210502564907074\n",
      "Epoch loss: 0.31387200951576233\n",
      "Epoch loss: 0.27666470408439636\n",
      "Epoch loss: 0.2439126819372177\n",
      "Epoch loss: 0.21307159960269928\n",
      "Epoch loss: 0.2116209715604782\n",
      "Epoch loss: 0.20770390331745148\n",
      "Epoch loss: 0.20502661168575287\n",
      "Epoch loss: 0.20518986880779266\n",
      "Epoch loss: 0.20513595640659332\n",
      "Epoch loss: 0.2044714242219925\n",
      "Epoch loss: 0.20170296728610992\n",
      "Epoch loss: 0.1924983710050583\n",
      "Epoch loss: 0.18868443369865417\n",
      "Epoch loss: 0.18855583667755127\n",
      "Epoch loss: 0.18855227530002594\n",
      "Epoch loss: 0.18855218589305878\n",
      "Epoch loss: 0.18855218589305878\n",
      "Epoch loss: 0.18855218589305878\n",
      "Epoch loss: 0.18855218589305878\n",
      "Epoch loss: 0.18855218589305878\n",
      "Epoch loss: 0.18855218589305878\n",
      "Epoch loss: 0.18855218589305878\n",
      "Epoch loss: 0.18855218589305878\n",
      "Epoch loss: 0.18855218589305878\n",
      "Epoch loss: 0.18855218589305878\n",
      "Epoch loss: 0.1885521560907364\n",
      "Epoch loss: 0.18855203688144684\n",
      "Epoch loss: 0.1885513961315155\n"
     ]
    },
    {
     "data": {
      "text/plain": [
       "(tensor([-2.5637e+01, -7.0167e+00,  7.4201e+00,  2.4284e+01, -2.9762e+02,\n",
       "          2.4894e+02,  9.9509e+01,  4.2105e+01, -1.8863e+02,  2.8565e+01,\n",
       "          2.1912e-02, -7.6553e+01], requires_grad=True),\n",
       " tensor(0.8258))"
      ]
     },
     "execution_count": 32,
     "metadata": {},
     "output_type": "execute_result"
    }
   ],
   "source": [
    "def calc_preds(coeffs, indeps):\n",
    "    return torch.sigmoid(indeps @ coeffs)\n",
    "\n",
    "\n",
    "# Lets see how our training does now - exact same results\n",
    "coeffs = train_model(lr=100)\n",
    "coeffs, accuracy(coeffs)"
   ]
  },
  {
   "cell_type": "markdown",
   "id": "421c972a",
   "metadata": {},
   "source": [
    "## Neural network\n",
    "\n",
    "### Shape\n",
    "\n",
    "In order to do matrix-matrix products we need to change to coeffs into a olumn vector (matrix with a single column)."
   ]
  },
  {
   "cell_type": "code",
   "execution_count": 33,
   "id": "134d753c",
   "metadata": {},
   "outputs": [
    {
     "data": {
      "text/plain": [
       "(tensor([-0.4629,  0.1386,  0.2409, -0.2262, -0.2632, -0.3147,  0.4876,  0.3136,\n",
       "          0.2799, -0.4392,  0.2103,  0.3625], requires_grad=True),\n",
       " tensor([[-0.4629],\n",
       "         [ 0.1386],\n",
       "         [ 0.2409],\n",
       "         [-0.2262],\n",
       "         [-0.2632],\n",
       "         [-0.3147],\n",
       "         [ 0.4876],\n",
       "         [ 0.3136],\n",
       "         [ 0.2799],\n",
       "         [-0.4392],\n",
       "         [ 0.2103],\n",
       "         [ 0.3625]], requires_grad=True))"
      ]
     },
     "execution_count": 33,
     "metadata": {},
     "output_type": "execute_result"
    }
   ],
   "source": [
    "torch.manual_seed(442)\n",
    "old = init_coeffs()\n",
    "\n",
    "\n",
    "# Note the flag in torch.rand\n",
    "def init_coeffs():\n",
    "    return (torch.rand(n_coeff, 1) - 0.5).requires_grad_()\n",
    "\n",
    "\n",
    "# # We need to do the same for the dependent variables\n",
    "trn_dep = trn_dep[:, None]\n",
    "val_dep = val_dep[:, None]\n",
    "\n",
    "torch.manual_seed(442)\n",
    "old, init_coeffs()"
   ]
  },
  {
   "cell_type": "code",
   "execution_count": 34,
   "id": "67c5d7f2",
   "metadata": {},
   "outputs": [
    {
     "name": "stdout",
     "output_type": "stream",
     "text": [
      "Epoch loss: 0.5005103349685669\n",
      "Epoch loss: 0.4919874668121338\n",
      "Epoch loss: 0.47518783807754517\n",
      "Epoch loss: 0.45222362875938416\n",
      "Epoch loss: 0.4284096956253052\n",
      "Epoch loss: 0.40952667593955994\n",
      "Epoch loss: 0.39749735593795776\n",
      "Epoch loss: 0.3908260464668274\n",
      "Epoch loss: 0.38737449049949646\n",
      "Epoch loss: 0.38563528656959534\n",
      "Epoch loss: 0.3847619295120239\n",
      "Epoch loss: 0.384319931268692\n",
      "Epoch loss: 0.384093314409256\n",
      "Epoch loss: 0.38397541642189026\n",
      "Epoch loss: 0.3839130699634552\n",
      "Epoch loss: 0.3838796615600586\n",
      "Epoch loss: 0.3838614523410797\n",
      "Epoch loss: 0.38385143876075745\n",
      "Epoch loss: 0.38384586572647095\n",
      "Epoch loss: 0.38384270668029785\n",
      "Epoch loss: 0.3838408589363098\n",
      "Epoch loss: 0.38383984565734863\n",
      "Epoch loss: 0.3838392496109009\n",
      "Epoch loss: 0.38383886218070984\n",
      "Epoch loss: 0.3838386535644531\n",
      "Epoch loss: 0.3838385343551636\n",
      "Epoch loss: 0.3838384747505188\n",
      "Epoch loss: 0.38383838534355164\n",
      "Epoch loss: 0.38383838534355164\n",
      "Epoch loss: 0.38383838534355164\n"
     ]
    },
    {
     "data": {
      "text/plain": [
       "(tensor([[-4.5388],\n",
       "         [-0.6234],\n",
       "         [-0.5055],\n",
       "         [-5.7089],\n",
       "         [-7.5451],\n",
       "         [-4.6016],\n",
       "         [-2.3071],\n",
       "         [-2.1971],\n",
       "         [-5.9834],\n",
       "         [-2.3995],\n",
       "         [-0.9427],\n",
       "         [-8.0929]], requires_grad=True),\n",
       " tensor(0.5955))"
      ]
     },
     "execution_count": 34,
     "metadata": {},
     "output_type": "execute_result"
    }
   ],
   "source": [
    "# Things shold still work as before\n",
    "coeffs = train_model(lr=1.4)\n",
    "coeffs, accuracy(coeffs)"
   ]
  },
  {
   "cell_type": "markdown",
   "id": "9dafc488",
   "metadata": {},
   "source": [
    "### Make the network"
   ]
  },
  {
   "cell_type": "code",
   "execution_count": 35,
   "id": "dacc2b83",
   "metadata": {},
   "outputs": [
    {
     "data": {
      "text/plain": [
       "(tensor([[ 8.6085e-03,  1.1621e-02, -1.7875e-02, -4.7660e-05, -9.1653e-03,\n",
       "          -1.2055e-02,  2.4451e-03,  4.3306e-03, -2.6680e-03,  1.5661e-02,\n",
       "          -7.4372e-03, -1.2754e-02,  1.6642e-02,  6.4613e-03,  1.1806e-02,\n",
       "          -1.3112e-02,  2.0256e-02, -1.3371e-02, -1.1558e-02,  5.7342e-03],\n",
       "         [ 2.0362e-02,  1.4169e-02,  4.1735e-03, -2.5189e-03,  2.1770e-02,\n",
       "          -1.7039e-02, -2.2760e-02,  7.2361e-03, -2.3242e-02, -1.5196e-02,\n",
       "          -6.4856e-03, -4.2483e-03,  2.3410e-02,  1.9865e-02, -2.4246e-02,\n",
       "           1.0489e-02, -1.5091e-02,  2.0924e-02,  5.4456e-03,  3.9526e-03],\n",
       "         [-8.5397e-03, -9.4113e-03,  2.4307e-02, -1.2668e-02, -1.2511e-02,\n",
       "          -3.8517e-03,  1.6682e-02, -2.4877e-02, -1.2806e-02,  4.4610e-03,\n",
       "          -2.3351e-02,  1.8625e-02, -5.4769e-03,  1.7216e-02, -1.7238e-02,\n",
       "           5.5614e-03, -1.4329e-02,  1.2236e-03, -8.1988e-03, -4.2252e-03],\n",
       "         [-6.5878e-03,  1.8432e-02,  1.8717e-02,  2.3861e-02, -1.6437e-03,\n",
       "          -1.5382e-02,  7.2427e-03,  1.8641e-02,  5.3306e-03, -5.2149e-03,\n",
       "          -2.1485e-02, -3.4312e-04, -1.3423e-02,  1.0661e-02, -4.7290e-03,\n",
       "          -2.4010e-02,  9.7010e-03,  4.5958e-03,  1.4563e-02, -1.3471e-02],\n",
       "         [ 2.2272e-02, -1.4967e-02,  7.9039e-03,  1.6075e-02, -7.4029e-03,\n",
       "           1.4602e-02,  3.3858e-03,  1.3699e-02,  1.1932e-02, -1.3650e-02,\n",
       "          -1.6273e-02, -1.8475e-02,  5.0959e-03, -1.4749e-02, -1.9423e-02,\n",
       "          -1.5588e-02, -9.3066e-03,  1.7492e-02, -2.0340e-02, -1.6776e-02],\n",
       "         [-2.0974e-02,  2.0914e-02,  3.7264e-03, -1.3092e-02,  6.5672e-03,\n",
       "           5.2126e-03, -8.6200e-03,  1.4286e-02,  6.1456e-03, -6.3195e-03,\n",
       "          -1.8328e-02, -9.6222e-03,  1.4484e-02, -1.6356e-02,  1.1401e-03,\n",
       "           8.0602e-03, -6.9709e-03,  2.1107e-02, -1.5377e-03, -1.4455e-02],\n",
       "         [-1.9872e-02,  3.2131e-03,  3.2339e-04,  1.4253e-02,  5.0291e-04,\n",
       "           1.4326e-02, -1.2496e-02, -1.5972e-02, -2.1390e-03,  1.4662e-02,\n",
       "          -9.5081e-03, -2.0726e-02, -9.8099e-03, -6.7529e-03, -7.0310e-03,\n",
       "          -4.5376e-03, -1.6645e-02,  4.3671e-03, -1.3513e-02,  8.1376e-03],\n",
       "         [-1.1356e-02,  1.9856e-03, -9.1270e-03,  1.8557e-03,  1.9128e-02,\n",
       "          -1.6888e-02, -6.7654e-03, -6.6234e-03, -2.4215e-03,  2.0913e-02,\n",
       "          -1.6495e-02,  2.2947e-02,  2.4703e-02,  3.5333e-03,  2.3256e-02,\n",
       "           1.7652e-02,  3.8096e-03,  6.5848e-03,  8.3049e-03,  4.0887e-03],\n",
       "         [-2.3252e-02, -1.9971e-02, -1.8516e-02, -4.5594e-03, -1.0338e-02,\n",
       "           1.1622e-02, -2.3278e-02, -2.4383e-02,  1.6824e-02, -1.9755e-02,\n",
       "           1.3473e-02,  2.1856e-02, -4.9256e-03, -1.3187e-02, -3.5619e-03,\n",
       "          -2.3568e-02,  1.7376e-02, -1.0578e-02, -3.3948e-03, -1.4535e-02],\n",
       "         [-1.0429e-02,  2.2969e-02, -7.4581e-03, -1.9555e-02,  1.5440e-02,\n",
       "          -3.5931e-03, -2.0249e-02,  1.7144e-02,  7.6197e-03,  8.2762e-04,\n",
       "          -2.3981e-02,  1.4258e-02,  3.0770e-03,  2.5148e-03, -1.2809e-02,\n",
       "           1.2648e-03, -1.9692e-02,  1.9104e-02,  2.0913e-02,  1.3573e-02],\n",
       "         [-1.0648e-02, -2.0050e-02, -1.4889e-02,  2.0480e-02, -4.2556e-03,\n",
       "          -2.4710e-02,  1.6042e-02, -2.0695e-02, -2.0428e-02,  1.0753e-02,\n",
       "          -2.1532e-02, -2.4290e-02,  2.1378e-03, -3.3689e-03, -5.8578e-03,\n",
       "           1.3715e-02, -2.1973e-02, -1.2764e-02,  1.0415e-02,  1.6239e-02],\n",
       "         [-2.0992e-02, -1.6687e-02, -2.0539e-02,  5.6050e-03,  1.6361e-02,\n",
       "          -1.5058e-02,  2.4007e-02,  3.2647e-03,  1.9498e-02,  4.2303e-03,\n",
       "          -5.2862e-03, -1.5162e-02, -2.3525e-02, -6.9356e-03,  7.6021e-03,\n",
       "           1.8359e-03,  1.9220e-02,  2.3758e-03, -5.1462e-03, -1.7276e-02]],\n",
       "        requires_grad=True),\n",
       " tensor([[ 0.0251],\n",
       "         [ 0.4893],\n",
       "         [-0.0460],\n",
       "         [ 0.0389],\n",
       "         [ 0.7122],\n",
       "         [ 0.7237],\n",
       "         [ 0.6237],\n",
       "         [-0.1802],\n",
       "         [ 0.5368],\n",
       "         [-0.0713],\n",
       "         [ 0.7065],\n",
       "         [-0.1607],\n",
       "         [ 0.2333],\n",
       "         [ 0.4749],\n",
       "         [ 0.4841],\n",
       "         [ 0.4731],\n",
       "         [ 0.3954],\n",
       "         [-0.1919],\n",
       "         [ 0.2594],\n",
       "         [ 0.0362]], requires_grad=True),\n",
       " tensor(0.9604, requires_grad=True))"
      ]
     },
     "execution_count": 35,
     "metadata": {},
     "output_type": "execute_result"
    }
   ],
   "source": [
    "# We now need coeffs for each layer\n",
    "# Layer 1 takes n_coeff inputs and creates n_hidden outputs (so a n_coeff x n_hidden matrix)\n",
    "# divide by n_hidden so that summing ends up with numbers of a similar magnitude\n",
    "# Layer 2 takes n_hidden inputs and creates a single output (so an n_hidden x 1 matrix)\n",
    "# Layer 2 needs a constant term\n",
    "def init_coeffs(n_hidden=20):\n",
    "    layer1 = (torch.rand(n_coeff, n_hidden) - 0.5) / n_hidden\n",
    "    layer2 = torch.rand(n_hidden, 1) - 0.2\n",
    "    const = torch.rand(1)[0]\n",
    "\n",
    "    layer1.requires_grad_()\n",
    "    layer2.requires_grad_()\n",
    "    const.requires_grad_()\n",
    "\n",
    "    return layer1, layer2, const\n",
    "\n",
    "\n",
    "init_coeffs()"
   ]
  },
  {
   "cell_type": "code",
   "execution_count": 36,
   "id": "c6ae3524",
   "metadata": {},
   "outputs": [],
   "source": [
    "# Now we need to update our cal_preds and update_coeffs to deal with the multiple layers\n",
    "import torch.nn.functional as F\n",
    "\n",
    "\n",
    "def calc_preds(coeffs, indeps):\n",
    "    layer1, layer2, const = coeffs\n",
    "\n",
    "    # Do our L1 matrix multiply and relu\n",
    "    res = F.relu(indeps @ layer1)\n",
    "\n",
    "    # L2 matrix multiple and apply L2s constant\n",
    "    res = res @ layer2 + const\n",
    "\n",
    "    # Chuck it through a sigmoid\n",
    "    return torch.sigmoid(res)\n",
    "\n",
    "\n",
    "# Pretty much the same but we have to do it for each layer\n",
    "def update_coeffs(coeffs, lr):\n",
    "    for layer in coeffs:\n",
    "        layer.sub(layer.grad * lr)"
   ]
  },
  {
   "cell_type": "code",
   "execution_count": 37,
   "id": "5d48e21a",
   "metadata": {},
   "outputs": [
    {
     "name": "stdout",
     "output_type": "stream",
     "text": [
      "Epoch loss: 0.5427940487861633\n",
      "Epoch loss: 0.5427940487861633\n",
      "Epoch loss: 0.5427940487861633\n",
      "Epoch loss: 0.5427940487861633\n",
      "Epoch loss: 0.5427940487861633\n",
      "Epoch loss: 0.5427940487861633\n",
      "Epoch loss: 0.5427940487861633\n",
      "Epoch loss: 0.5427940487861633\n",
      "Epoch loss: 0.5427940487861633\n",
      "Epoch loss: 0.5427940487861633\n",
      "Epoch loss: 0.5427940487861633\n",
      "Epoch loss: 0.5427940487861633\n",
      "Epoch loss: 0.5427940487861633\n",
      "Epoch loss: 0.5427940487861633\n",
      "Epoch loss: 0.5427940487861633\n",
      "Epoch loss: 0.5427940487861633\n",
      "Epoch loss: 0.5427940487861633\n",
      "Epoch loss: 0.5427940487861633\n",
      "Epoch loss: 0.5427940487861633\n",
      "Epoch loss: 0.5427940487861633\n",
      "Epoch loss: 0.5427940487861633\n",
      "Epoch loss: 0.5427940487861633\n",
      "Epoch loss: 0.5427940487861633\n",
      "Epoch loss: 0.5427940487861633\n",
      "Epoch loss: 0.5427940487861633\n",
      "Epoch loss: 0.5427940487861633\n",
      "Epoch loss: 0.5427940487861633\n",
      "Epoch loss: 0.5427940487861633\n",
      "Epoch loss: 0.5427940487861633\n",
      "Epoch loss: 0.5427940487861633\n"
     ]
    },
    {
     "data": {
      "text/plain": [
       "tensor(0.4045)"
      ]
     },
     "execution_count": 37,
     "metadata": {},
     "output_type": "execute_result"
    }
   ],
   "source": [
    "coeffs = train_model(lr=1.4)\n",
    "accuracy(coeffs)"
   ]
  },
  {
   "cell_type": "markdown",
   "id": "fa32ceb5",
   "metadata": {},
   "source": [
    "### Deep learning\n",
    "\n",
    "Our NN isnt very deep so lets change things up and create a bunch of additional coeffs for each layer."
   ]
  },
  {
   "cell_type": "code",
   "execution_count": 38,
   "id": "69d062b0",
   "metadata": {},
   "outputs": [],
   "source": [
    "def init_coeffs():\n",
    "    hiddens = [10, 10, 20, 10]  # list of hidden layers to create and their size\n",
    "    sizes = [n_coeff] + hiddens + [1]\n",
    "    n = len(sizes)\n",
    "    layers = [(torch.rand(sizes[i], sizes[i + 1]) - 0.3) / sizes[i + 1] * 4 for i in range(n - 1)]\n",
    "    consts = [(torch.rand(1)[0] - 0.5) * 0.1 for i in range(n - 1)]\n",
    "    for l in layers + consts:\n",
    "        l.requires_grad_()\n",
    "    return layers, consts\n",
    "\n",
    "\n",
    "# We need to lip over the layers now as there can be more than 2\n",
    "def calc_preds(coeffs, indeps):\n",
    "    layers, consts = coeffs\n",
    "    n = len(layers)\n",
    "    res = indeps\n",
    "    for i, l in enumerate(layers):\n",
    "        res = res @ l + consts[i]\n",
    "        if i != n - 1:\n",
    "            res = F.relu(res)\n",
    "    return torch.sigmoid(res)\n",
    "\n",
    "\n",
    "# Need to account for layers and consts being separate\n",
    "def update_coeffs(coeffs, lr):\n",
    "    layers, consts = coeffs\n",
    "    for layer in layers + consts:\n",
    "        layer.sub_(layer.grad * lr)\n",
    "        layer.grad.zero_()"
   ]
  },
  {
   "cell_type": "code",
   "execution_count": 44,
   "id": "50df28dd",
   "metadata": {},
   "outputs": [
    {
     "name": "stdout",
     "output_type": "stream",
     "text": [
      "Epoch loss: 0.5491295456886292\n",
      "Epoch loss: 0.38577449321746826\n",
      "Epoch loss: 0.3854386806488037\n",
      "Epoch loss: 0.38520488142967224\n",
      "Epoch loss: 0.38503217697143555\n",
      "Epoch loss: 0.3848991096019745\n",
      "Epoch loss: 0.3847932517528534\n",
      "Epoch loss: 0.38470694422721863\n",
      "Epoch loss: 0.38463521003723145\n",
      "Epoch loss: 0.3845745921134949\n",
      "Epoch loss: 0.3845226466655731\n",
      "Epoch loss: 0.3844776451587677\n",
      "Epoch loss: 0.38443827629089355\n",
      "Epoch loss: 0.3844035267829895\n",
      "Epoch loss: 0.38437262177467346\n",
      "Epoch loss: 0.3843449652194977\n",
      "Epoch loss: 0.38432005047798157\n",
      "Epoch loss: 0.3842974305152893\n",
      "Epoch loss: 0.38427698612213135\n",
      "Epoch loss: 0.3842582404613495\n",
      "Epoch loss: 0.384240984916687\n",
      "Epoch loss: 0.38422515988349915\n",
      "Epoch loss: 0.3842105567455292\n",
      "Epoch loss: 0.384196937084198\n",
      "Epoch loss: 0.38418442010879517\n",
      "Epoch loss: 0.384172648191452\n",
      "Epoch loss: 0.38416168093681335\n",
      "Epoch loss: 0.3841513991355896\n",
      "Epoch loss: 0.38414183259010315\n",
      "Epoch loss: 0.3841327428817749\n"
     ]
    },
    {
     "data": {
      "text/plain": [
       "tensor(0.5955)"
      ]
     },
     "execution_count": 44,
     "metadata": {},
     "output_type": "execute_result"
    }
   ],
   "source": [
    "coeffs = train_model(lr=100)\n",
    "accuracy(coeffs)"
   ]
  },
  {
   "cell_type": "code",
   "execution_count": null,
   "id": "56c6ed74",
   "metadata": {},
   "outputs": [],
   "source": []
  }
 ],
 "metadata": {
  "kernelspec": {
   "display_name": "Python 3 (ipykernel)",
   "language": "python",
   "name": "python3"
  },
  "language_info": {
   "codemirror_mode": {
    "name": "ipython",
    "version": 3
   },
   "file_extension": ".py",
   "mimetype": "text/x-python",
   "name": "python",
   "nbconvert_exporter": "python",
   "pygments_lexer": "ipython3",
   "version": "3.10.12"
  }
 },
 "nbformat": 4,
 "nbformat_minor": 5
}
