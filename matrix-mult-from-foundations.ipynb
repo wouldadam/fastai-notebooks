{
 "cells": [
  {
   "cell_type": "markdown",
   "id": "885c532b",
   "metadata": {},
   "source": [
    "# Matrix multiplication from foundations\n",
    "\n",
    "## Init"
   ]
  },
  {
   "cell_type": "code",
   "execution_count": 1,
   "id": "5a01cfb6",
   "metadata": {},
   "outputs": [],
   "source": [
    "from pathlib import Path\n",
    "import matplotlib as mpl\n",
    "import matplotlib.pyplot as plt"
   ]
  },
  {
   "cell_type": "markdown",
   "id": "3444dc25",
   "metadata": {},
   "source": [
    "## Data"
   ]
  },
  {
   "cell_type": "code",
   "execution_count": 2,
   "id": "ff386109",
   "metadata": {},
   "outputs": [],
   "source": [
    "# Download the MNIST dataset\n",
    "import gzip\n",
    "import pickle\n",
    "from urllib.request import urlretrieve\n",
    "\n",
    "MNIST_URL = \"https://github.com/mnielsen/neural-networks-and-deep-learning/blob/master/data/mnist.pkl.gz?raw=true\"\n",
    "\n",
    "data_path = Path(\"data/mnist\")\n",
    "data_path.mkdir(exist_ok=True)\n",
    "gz_path = data_path / \"mnist.pkl.gz\"\n",
    "\n",
    "if not gz_path.exists():\n",
    "    urlretrieve(MNIST_URL, gz_path)\n",
    "\n",
    "# File contains a tuple of tuples for the x and y, train and validation data\n",
    "# Images are 28x28\n",
    "with gzip.open(gz_path, \"rb\") as file:\n",
    "    ((x_train, y_train), (x_valid, y_valid), _) = pickle.load(file, encoding=\"latin-1\")"
   ]
  },
  {
   "cell_type": "code",
   "execution_count": 3,
   "id": "eba215f9",
   "metadata": {},
   "outputs": [
    {
     "data": {
      "text/plain": [
       "<matplotlib.image.AxesImage at 0x7fcd503054b0>"
      ]
     },
     "execution_count": 3,
     "metadata": {},
     "output_type": "execute_result"
    },
    {
     "data": {
      "image/png": "[encoded data removed]",
      "text/plain": [
       "<Figure size 640x480 with 1 Axes>"
      ]
     },
     "metadata": {},
     "output_type": "display_data"
    }
   ],
   "source": [
    "# Generator to chunk some iterable into fixed sizes\n",
    "def chunks(to_chunk, chunk_size):\n",
    "    for i in range(0, len(to_chunk), chunk_size):\n",
    "        yield to_chunk[i : i + chunk_size]\n",
    "\n",
    "\n",
    "mpl.rcParams[\"image.cmap\"] = \"gray\"\n",
    "img = list(chunks(x_train[0], 28))\n",
    "plt.imshow(img)\n",
    "\n",
    "# Could also do it like this\n",
    "# from itertools import islice\n",
    "\n",
    "# it = iter(x_train[0])\n",
    "# img = list(iter(lambda: list(islice(it, 28)), []))\n",
    "# mpl.rcParams[\"image.cmap\"] = \"gray\"\n",
    "# plt.imshow(img)"
   ]
  },
  {
   "cell_type": "markdown",
   "id": "b606171b",
   "metadata": {},
   "source": [
    "## Matrix and tensor"
   ]
  },
  {
   "cell_type": "code",
   "execution_count": 4,
   "id": "2d1d295a",
   "metadata": {},
   "outputs": [
    {
     "data": {
      "text/plain": [
       "0.98828125"
      ]
     },
     "execution_count": 4,
     "metadata": {},
     "output_type": "execute_result"
    }
   ],
   "source": [
    "class Matrix:\n",
    "    def __init__(self, xs):\n",
    "        self.xs = xs\n",
    "\n",
    "    # Allows you to do m[a, b] rather than m[a][b]\n",
    "    def __getitem__(self, idxs):\n",
    "        return self.xs[idxs[0]][idxs[1]]\n",
    "\n",
    "\n",
    "m = Matrix(img)\n",
    "m[20, 15]"
   ]
  },
  {
   "cell_type": "code",
   "execution_count": 5,
   "id": "3d1936d1",
   "metadata": {},
   "outputs": [
    {
     "name": "stderr",
     "output_type": "stream",
     "text": [
      "/tmp/ipykernel_17942/1989167947.py:5: UserWarning: Creating a tensor from a list of numpy.ndarrays is extremely slow. Please consider converting the list to a single numpy.ndarray with numpy.array() before converting to a tensor. (Triggered internally at ../torch/csrc/utils/tensor_new.cpp:245.)\n",
      "  tens = tensor(img)\n"
     ]
    },
    {
     "data": {
      "text/plain": [
       "tensor(0.9883)"
      ]
     },
     "execution_count": 5,
     "metadata": {},
     "output_type": "execute_result"
    }
   ],
   "source": [
    "# Now we are allowed to use this feature of pytorch\n",
    "import torch\n",
    "from torch import tensor\n",
    "\n",
    "tens = tensor(img)\n",
    "tens[20, 15]"
   ]
  },
  {
   "cell_type": "code",
   "execution_count": 6,
   "id": "b428c03b",
   "metadata": {},
   "outputs": [
    {
     "data": {
      "text/plain": [
       "(torch.Size([50000, 784]), 'torch.FloatTensor')"
      ]
     },
     "execution_count": 6,
     "metadata": {},
     "output_type": "execute_result"
    }
   ],
   "source": [
    "# Lets turn all of our data into tensors\n",
    "x_train, y_train, x_valid, y_valid = map(tensor, (x_train, y_train, x_valid, y_valid))\n",
    "x_train.shape, x_train.type()"
   ]
  },
  {
   "cell_type": "code",
   "execution_count": 7,
   "id": "3a4ea036",
   "metadata": {},
   "outputs": [
    {
     "data": {
      "text/plain": [
       "<matplotlib.image.AxesImage at 0x7fcd289baaa0>"
      ]
     },
     "execution_count": 7,
     "metadata": {},
     "output_type": "execute_result"
    },
    {
     "data": {
      "image/png": "[encoded data removed]",
      "text/plain": [
       "<Figure size 640x480 with 1 Axes>"
      ]
     },
     "metadata": {},
     "output_type": "display_data"
    }
   ],
   "source": [
    "# We want to turn our 50000x784 tensor into 50000 28x28 tensors\n",
    "# this is instead of our chunks\n",
    "imgs = x_train.reshape(-1, 28, 28)\n",
    "\n",
    "plt.imshow(imgs[0])"
   ]
  },
  {
   "cell_type": "code",
   "execution_count": 8,
   "id": "796ce6e3",
   "metadata": {},
   "outputs": [
    {
     "data": {
      "text/plain": [
       "(torch.Size([50000]), tensor(0), tensor(9))"
      ]
     },
     "execution_count": 8,
     "metadata": {},
     "output_type": "execute_result"
    }
   ],
   "source": [
    "# The Y data contains just the expected digits for each image\n",
    "y_train.shape, min(y_train), max(y_train)"
   ]
  },
  {
   "cell_type": "markdown",
   "id": "8a0c82b9",
   "metadata": {},
   "source": [
    "## Random numbers"
   ]
  },
  {
   "cell_type": "code",
   "execution_count": 9,
   "id": "40bebc43",
   "metadata": {},
   "outputs": [
    {
     "data": {
      "text/plain": [
       "(11537, 5011, 1)"
      ]
     },
     "execution_count": 9,
     "metadata": {},
     "output_type": "execute_result"
    }
   ],
   "source": [
    "# Python used PRNG based on Witchman Hill algorithm\n",
    "\n",
    "rnd_state = None\n",
    "\n",
    "\n",
    "def seed(a):\n",
    "    global rnd_state\n",
    "\n",
    "    a, x = divmod(a, 30268)\n",
    "    a, y = divmod(a, 30306)\n",
    "    a, z = divmod(a, 30322)\n",
    "\n",
    "    rnd_state = int(x) + 1, int(y) + 1, int(z + 1)\n",
    "\n",
    "\n",
    "def rand():\n",
    "    global rnd_state\n",
    "\n",
    "    x, y, z = rnd_state\n",
    "\n",
    "    x = (171 * x) % 30269\n",
    "    y = (172 * y) % 30307\n",
    "    z = (170 * z) % 30323\n",
    "\n",
    "    rnd_state = x, y, z\n",
    "\n",
    "    return (x / 30269 + y / 30307 + z / 30323) % 1.0\n",
    "\n",
    "\n",
    "seed(151654216)\n",
    "rnd_state"
   ]
  },
  {
   "cell_type": "code",
   "execution_count": 10,
   "id": "7acfa01d",
   "metadata": {},
   "outputs": [
    {
     "data": {
      "text/plain": [
       "(0.6208010261127557, 0.5900796887572028, 0.4087658262430267)"
      ]
     },
     "execution_count": 10,
     "metadata": {},
     "output_type": "execute_result"
    }
   ],
   "source": [
    "rand(), rand(), rand()"
   ]
  },
  {
   "cell_type": "code",
   "execution_count": 11,
   "id": "d922ad4f",
   "metadata": {},
   "outputs": [
    {
     "data": {
      "text/plain": [
       "[<matplotlib.lines.Line2D at 0x7fcd288823b0>]"
      ]
     },
     "execution_count": 11,
     "metadata": {},
     "output_type": "execute_result"
    },
    {
     "data": {
      "image/png": "[encoded data removed]",
      "text/plain": [
       "<Figure size 640x480 with 1 Axes>"
      ]
     },
     "metadata": {},
     "output_type": "display_data"
    }
   ],
   "source": [
    "# No obvious relationship\n",
    "plt.plot([rand() for _ in range(50)])"
   ]
  },
  {
   "cell_type": "code",
   "execution_count": 12,
   "id": "07c0a356",
   "metadata": {},
   "outputs": [
    {
     "data": {
      "text/plain": [
       "(array([ 965.,  984., 1048.,  951., 1031., 1026.,  998., 1051., 1014.,\n",
       "         932.]),\n",
       " array([1.21291317e-04, 1.00083909e-01, 2.00046527e-01, 3.00009145e-01,\n",
       "        3.99971762e-01, 4.99934380e-01, 5.99896998e-01, 6.99859616e-01,\n",
       "        7.99822233e-01, 8.99784851e-01, 9.99747469e-01]),\n",
       " <BarContainer object of 10 artists>)"
      ]
     },
     "execution_count": 12,
     "metadata": {},
     "output_type": "execute_result"
    },
    {
     "data": {
      "image/png": "[encoded data removed]",
      "text/plain": [
       "<Figure size 640x480 with 1 Axes>"
      ]
     },
     "metadata": {},
     "output_type": "display_data"
    }
   ],
   "source": [
    "# Reasonably even distribution\n",
    "plt.hist([rand() for _ in range(10000)])"
   ]
  },
  {
   "cell_type": "markdown",
   "id": "a06153ab",
   "metadata": {},
   "source": [
    "Remember that this implementation needs reseeding on forks and is slow."
   ]
  },
  {
   "cell_type": "markdown",
   "id": "98e0886c",
   "metadata": {},
   "source": [
    "## Matrix multiplication"
   ]
  },
  {
   "cell_type": "code",
   "execution_count": 13,
   "id": "a7bb8efc",
   "metadata": {},
   "outputs": [
    {
     "data": {
      "text/plain": [
       "(torch.Size([5, 784]), torch.Size([784, 10]))"
      ]
     },
     "execution_count": 13,
     "metadata": {},
     "output_type": "execute_result"
    }
   ],
   "source": [
    "# Lets say we have our weights + bias\n",
    "# 784 = 28*28, 10 = set of weights for each categorty (0 to 9)\n",
    "weights = torch.randn(784, 10)\n",
    "bias = torch.zeros(10)\n",
    "\n",
    "# And we will want to do 5 images at a time\n",
    "m1 = x_valid[:5]\n",
    "m2 = weights\n",
    "\n",
    "# We want to multiply the two matrices together, what is their shape?\n",
    "m1.shape, m2.shape"
   ]
  },
  {
   "cell_type": "code",
   "execution_count": 14,
   "id": "6d1b1c9d",
   "metadata": {},
   "outputs": [
    {
     "data": {
      "text/plain": [
       "torch.Size([5, 10])"
      ]
     },
     "execution_count": 14,
     "metadata": {},
     "output_type": "execute_result"
    }
   ],
   "source": [
    "# row 1 of m1 col 1 of m2 and multiply each elementwise pair in turn and sum them. repeat for each row/col\n",
    "# So how big is the resulting matrix, it will be 5 rows and 10 cols\n",
    "\n",
    "m1Rows, m1Cols = m1.shape\n",
    "m2Rows, m2Cols = m2.shape\n",
    "\n",
    "result = torch.zeros(m1Rows, m2Cols)\n",
    "result.shape"
   ]
  },
  {
   "cell_type": "code",
   "execution_count": 15,
   "id": "0aabc6dd",
   "metadata": {},
   "outputs": [
    {
     "data": {
      "text/plain": [
       "tensor([[-0., 0., 0., -0., 0., 0., -0., 0., 0., 0.],\n",
       "        [-0., 0., 0., -0., 0., 0., -0., 0., 0., 0.],\n",
       "        [-0., 0., 0., -0., 0., 0., -0., 0., 0., 0.],\n",
       "        [-0., 0., 0., -0., 0., 0., -0., 0., 0., 0.],\n",
       "        [-0., 0., 0., -0., 0., 0., -0., 0., 0., 0.]])"
      ]
     },
     "execution_count": 15,
     "metadata": {},
     "output_type": "execute_result"
    }
   ],
   "source": [
    "# Now we can do the multiplication\n",
    "for i in range(m1Rows):  # 5\n",
    "    for j in range(m2Cols):  # 10\n",
    "        for k in range(m1Cols):  # 784\n",
    "            result[i, j] = m1[i, k] * m2[k, j]\n",
    "\n",
    "result"
   ]
  },
  {
   "cell_type": "code",
   "execution_count": 21,
   "id": "75e53fe5",
   "metadata": {},
   "outputs": [],
   "source": [
    "# In a function\n",
    "def matmul(m1, m2):\n",
    "    m1Rows, m1Cols = m1.shape\n",
    "    m2Rows, m2Cols = m2.shape\n",
    "\n",
    "    result = torch.zeros(m1Rows, m2Cols)\n",
    "\n",
    "    for i in range(m1Rows):\n",
    "        for j in range(m2Cols):\n",
    "            for k in range(m1Cols):\n",
    "                result[i, j] = m1[i, k] * m2[k, j]\n",
    "\n",
    "    return result"
   ]
  },
  {
   "cell_type": "code",
   "execution_count": 23,
   "id": "3fae9772",
   "metadata": {},
   "outputs": [
    {
     "name": "stdout",
     "output_type": "stream",
     "text": [
      "415 ms ± 2.77 ms per loop (mean ± std. dev. of 7 runs, 5 loops each)\n"
     ]
    }
   ],
   "source": [
    "# Its a bit slow\n",
    "%timeit -n 5 matmul(m1,m2)"
   ]
  },
  {
   "cell_type": "markdown",
   "id": "38641557",
   "metadata": {},
   "source": [
    "### Numba\n",
    "\n",
    "Numba is a lib that takes python and turns it into machine code, it helps speed things up a lot.\n",
    "\n",
    "For example if we were to speed up just the inner most loop."
   ]
  },
  {
   "cell_type": "code",
   "execution_count": 52,
   "id": "786351c8",
   "metadata": {},
   "outputs": [],
   "source": [
    "from numba import njit\n",
    "\n",
    "\n",
    "@njit\n",
    "def dotproduct(m1, m2):\n",
    "    result = 0.0\n",
    "    for i in range(len(m1)):\n",
    "        result += m1[i] * m2[i]\n",
    "\n",
    "    return result\n",
    "\n",
    "\n",
    "def matmul(m1, m2):\n",
    "    m1Rows, m1Cols = m1.shape\n",
    "    m2Rows, m2Cols = m2.shape\n",
    "\n",
    "    result = torch.zeros(m1Rows, m2Cols)\n",
    "\n",
    "    for i in range(m1Rows):\n",
    "        for j in range(m2Cols):\n",
    "            result[i, j] = dotproduct(m1[i, :], m2[:, j])\n",
    "\n",
    "    return result"
   ]
  },
  {
   "cell_type": "code",
   "execution_count": 53,
   "id": "9ffd68d2",
   "metadata": {},
   "outputs": [
    {
     "name": "stdout",
     "output_type": "stream",
     "text": [
      "The slowest run took 12.30 times longer than the fastest. This could mean that an intermediate result is being cached.\n",
      "821 µs ± 1.23 ms per loop (mean ± std. dev. of 7 runs, 20 loops each)\n"
     ]
    }
   ],
   "source": [
    "# The first run is slower as it does the compilation but the remaining runs end up faster\n",
    "m1np = m1.numpy()\n",
    "m2np = m2.numpy()\n",
    "%timeit -n 20 matmul(m1np,m2np)"
   ]
  },
  {
   "cell_type": "markdown",
   "id": "98848b2f",
   "metadata": {},
   "source": [
    "### Elementwise ops"
   ]
  },
  {
   "cell_type": "code",
   "execution_count": 54,
   "id": "15f8dc1c",
   "metadata": {},
   "outputs": [
    {
     "data": {
      "text/plain": [
       "tensor([12, 14,  3])"
      ]
     },
     "execution_count": 54,
     "metadata": {},
     "output_type": "execute_result"
    }
   ],
   "source": [
    "a = tensor([10, 6, -4])\n",
    "b = tensor([2, 8, 7])\n",
    "\n",
    "# Go through each element and apply it to the each pair\n",
    "a + b"
   ]
  },
  {
   "cell_type": "code",
   "execution_count": 55,
   "id": "39f8da1a",
   "metadata": {},
   "outputs": [
    {
     "data": {
      "text/plain": [
       "tensor(0.6667)"
      ]
     },
     "execution_count": 55,
     "metadata": {},
     "output_type": "execute_result"
    }
   ],
   "source": [
    "# This can be more complicated\n",
    "# Here we do a < b to get [False, True, True]\n",
    "# Then we do .float() to get [0, 1, 1]\n",
    "# then we do .mean()\n",
    "(a < b).float().mean()"
   ]
  },
  {
   "cell_type": "code",
   "execution_count": 56,
   "id": "ef385bd6",
   "metadata": {},
   "outputs": [
    {
     "data": {
      "text/plain": [
       "tensor([[1, 2, 3],\n",
       "        [4, 5, 6],\n",
       "        [7, 8, 9]])"
      ]
     },
     "execution_count": 56,
     "metadata": {},
     "output_type": "execute_result"
    }
   ],
   "source": [
    "# simple for rank 1 tensors what about higher ranks like rank 2 tensors (matrices)\n",
    "\n",
    "m = tensor([[1, 2, 3], [4, 5, 6], [7, 8, 9]])\n",
    "\n",
    "m"
   ]
  },
  {
   "cell_type": "code",
   "execution_count": 57,
   "id": "ccf9f70b",
   "metadata": {},
   "outputs": [
    {
     "data": {
      "text/plain": [
       "tensor([[ 1,  4,  9],\n",
       "        [16, 25, 36],\n",
       "        [49, 64, 81]])"
      ]
     },
     "execution_count": 57,
     "metadata": {},
     "output_type": "execute_result"
    }
   ],
   "source": [
    "m * m"
   ]
  },
  {
   "cell_type": "code",
   "execution_count": 58,
   "id": "cc78a612",
   "metadata": {},
   "outputs": [
    {
     "data": {
      "text/plain": [
       "tensor(16.8819)"
      ]
     },
     "execution_count": 58,
     "metadata": {},
     "output_type": "execute_result"
    }
   ],
   "source": [
    "# Frobenius norm:\n",
    "# Square each element. Sum all elements. Take the sqrt of the sum.\n",
    "(m * m).sum().sqrt()"
   ]
  },
  {
   "cell_type": "code",
   "execution_count": 59,
   "id": "6e7585de",
   "metadata": {},
   "outputs": [
    {
     "data": {
      "text/plain": [
       "(tensor([7, 8, 9]), tensor([3, 6, 9]))"
      ]
     },
     "execution_count": 59,
     "metadata": {},
     "output_type": "execute_result"
    }
   ],
   "source": [
    "# Row 2 all the columns, every row col 2\n",
    "m[2, :], m[:, 2]"
   ]
  },
  {
   "cell_type": "code",
   "execution_count": 100,
   "id": "242bc729",
   "metadata": {},
   "outputs": [
    {
     "data": {
      "text/plain": [
       "(tensor([7, 8, 9]), tensor([7, 8, 9]))"
      ]
     },
     "execution_count": 100,
     "metadata": {},
     "output_type": "execute_result"
    }
   ],
   "source": [
    "# Trailing colons are optional\n",
    "m[2, :], m[2]"
   ]
  },
  {
   "cell_type": "code",
   "execution_count": 64,
   "id": "62c7816e",
   "metadata": {},
   "outputs": [],
   "source": [
    "# So our matmult can just use elementwise operations, we dont need numba as pytorch ensors are fast (numba is faster)\n",
    "\n",
    "\n",
    "def matmul(m1, m2):\n",
    "    m1Rows, m1Cols = m1.shape\n",
    "    m2Rows, m2Cols = m2.shape\n",
    "\n",
    "    result = torch.zeros(m1Rows, m2Cols)\n",
    "\n",
    "    for i in range(m1Rows):\n",
    "        for j in range(m2Cols):\n",
    "            result[i, j] = (m1[i, :] * m2[:, j]).sum()\n",
    "\n",
    "    return result"
   ]
  },
  {
   "cell_type": "code",
   "execution_count": 65,
   "id": "9938d7fb",
   "metadata": {},
   "outputs": [
    {
     "name": "stdout",
     "output_type": "stream",
     "text": [
      "921 µs ± 50.1 µs per loop (mean ± std. dev. of 7 runs, 20 loops each)\n"
     ]
    }
   ],
   "source": [
    "%timeit -n 20 matmul(m1,m2)"
   ]
  },
  {
   "cell_type": "code",
   "execution_count": 66,
   "id": "deb65d91",
   "metadata": {},
   "outputs": [],
   "source": [
    "# pytorch already has .dot() for us\n",
    "\n",
    "\n",
    "def matmul(m1, m2):\n",
    "    m1Rows, m1Cols = m1.shape\n",
    "    m2Rows, m2Cols = m2.shape\n",
    "\n",
    "    result = torch.zeros(m1Rows, m2Cols)\n",
    "\n",
    "    for i in range(m1Rows):\n",
    "        for j in range(m2Cols):\n",
    "            result[i, j] = torch.dot(m1[i, :], m2[:, j])\n",
    "\n",
    "    return result"
   ]
  },
  {
   "cell_type": "code",
   "execution_count": 68,
   "id": "2def2349",
   "metadata": {},
   "outputs": [
    {
     "name": "stdout",
     "output_type": "stream",
     "text": [
      "716 µs ± 30.7 µs per loop (mean ± std. dev. of 7 runs, 20 loops each)\n"
     ]
    }
   ],
   "source": [
    "%timeit -n 20 matmul(m1,m2)"
   ]
  },
  {
   "cell_type": "markdown",
   "id": "4ac93845",
   "metadata": {},
   "source": [
    "### Broadcasting\n",
    "\n",
    "How do we treat arrays with different shapes? Broadcasting \"broadcasts\" the smaller array across the larger to that they have compatible shapes."
   ]
  },
  {
   "cell_type": "markdown",
   "id": "7ae6fa2d",
   "metadata": {},
   "source": [
    "#### Broadcasting with a scalar"
   ]
  },
  {
   "cell_type": "code",
   "execution_count": 71,
   "id": "1d5cb41a",
   "metadata": {},
   "outputs": [
    {
     "data": {
      "text/plain": [
       "(tensor([10,  6, -4]), tensor([ True,  True, False]), tensor([20, 16,  6]))"
      ]
     },
     "execution_count": 71,
     "metadata": {},
     "output_type": "execute_result"
    }
   ],
   "source": [
    "# Scalars get broadcast all the way along\n",
    "a, a > 0, a + 10"
   ]
  },
  {
   "cell_type": "code",
   "execution_count": 74,
   "id": "432ea52c",
   "metadata": {},
   "outputs": [
    {
     "data": {
      "text/plain": [
       "(tensor([[1, 2, 3],\n",
       "         [4, 5, 6],\n",
       "         [7, 8, 9]]),\n",
       " tensor([[True, True, True],\n",
       "         [True, True, True],\n",
       "         [True, True, True]]),\n",
       " tensor([[11, 12, 13],\n",
       "         [14, 15, 16],\n",
       "         [17, 18, 19]]))"
      ]
     },
     "execution_count": 74,
     "metadata": {},
     "output_type": "execute_result"
    }
   ],
   "source": [
    "# Same for rank 2 and beyond\n",
    "m, m > 0, m + 10"
   ]
  },
  {
   "cell_type": "markdown",
   "id": "8a723708",
   "metadata": {},
   "source": [
    "#### Broadcasting a vector to a matrix"
   ]
  },
  {
   "cell_type": "code",
   "execution_count": 83,
   "id": "454ca10c",
   "metadata": {},
   "outputs": [
    {
     "data": {
      "text/plain": [
       "(tensor([10, 20, 30]),\n",
       " tensor([[10],\n",
       "         [20],\n",
       "         [30]]),\n",
       " tensor([[1, 2, 3],\n",
       "         [4, 5, 6],\n",
       "         [7, 8, 9]]))"
      ]
     },
     "execution_count": 83,
     "metadata": {},
     "output_type": "execute_result"
    }
   ],
   "source": [
    "c = tensor([10, 20, 30])\n",
    "q = tensor([[10], [20], [30]])\n",
    "\n",
    "c, q, m"
   ]
  },
  {
   "cell_type": "code",
   "execution_count": 84,
   "id": "d272800c",
   "metadata": {},
   "outputs": [
    {
     "data": {
      "text/plain": [
       "(tensor([[ 10,  40,  90],\n",
       "         [ 40, 100, 180],\n",
       "         [ 70, 160, 270]]),\n",
       " tensor([[ 10,  20,  30],\n",
       "         [ 80, 100, 120],\n",
       "         [210, 240, 270]]))"
      ]
     },
     "execution_count": 84,
     "metadata": {},
     "output_type": "execute_result"
    }
   ],
   "source": [
    "# The smaller is broadcast across the larger, note that you need a compatible dimension to broadcast over\n",
    "\n",
    "m * c, m * q"
   ]
  },
  {
   "cell_type": "code",
   "execution_count": 86,
   "id": "226eaee3",
   "metadata": {},
   "outputs": [
    {
     "data": {
      "text/plain": [
       "tensor([[10, 20, 30],\n",
       "        [10, 20, 30],\n",
       "        [10, 20, 30]])"
      ]
     },
     "execution_count": 86,
     "metadata": {},
     "output_type": "execute_result"
    }
   ],
   "source": [
    "# This is like using expand_as on the smaller\n",
    "c.expand_as(m)"
   ]
  },
  {
   "cell_type": "code",
   "execution_count": 96,
   "id": "b1e55e47",
   "metadata": {},
   "outputs": [
    {
     "data": {
      "text/plain": [
       "(tensor([10, 20, 30]),\n",
       " tensor([[10, 20, 30]]),\n",
       " torch.Size([3]),\n",
       " torch.Size([1, 3]))"
      ]
     },
     "execution_count": 96,
     "metadata": {},
     "output_type": "execute_result"
    }
   ],
   "source": [
    "# Can unsqueeze(0) to convert 1D array to 2D array (vector to matrix)\n",
    "c, c.unsqueeze(0), c.shape, c.unsqueeze(0).shape"
   ]
  },
  {
   "cell_type": "code",
   "execution_count": 97,
   "id": "9fa2fb45",
   "metadata": {},
   "outputs": [
    {
     "data": {
      "text/plain": [
       "(tensor([[10, 20, 30]]), torch.Size([1, 3]))"
      ]
     },
     "execution_count": 97,
     "metadata": {},
     "output_type": "execute_result"
    }
   ],
   "source": [
    "# You can do the same thing with, indexing to insert a new unit exis\n",
    "c[None, :], c[None, :].shape"
   ]
  },
  {
   "cell_type": "code",
   "execution_count": 98,
   "id": "f717261a",
   "metadata": {},
   "outputs": [
    {
     "data": {
      "text/plain": [
       "(tensor([[10],\n",
       "         [20],\n",
       "         [30]]),\n",
       " torch.Size([3, 1]))"
      ]
     },
     "execution_count": 98,
     "metadata": {},
     "output_type": "execute_result"
    }
   ],
   "source": [
    "# unqueeze(1) unqueezes into the first dimension\n",
    "c.unsqueeze(1), c.unsqueeze(1).shape"
   ]
  },
  {
   "cell_type": "code",
   "execution_count": 99,
   "id": "25d985ca",
   "metadata": {},
   "outputs": [
    {
     "data": {
      "text/plain": [
       "(tensor([[10],\n",
       "         [20],\n",
       "         [30]]),\n",
       " torch.Size([3, 1]))"
      ]
     },
     "execution_count": 99,
     "metadata": {},
     "output_type": "execute_result"
    }
   ],
   "source": [
    "# Which is the same as\n",
    "c[:, None], c[:, None].shape"
   ]
  },
  {
   "cell_type": "code",
   "execution_count": 102,
   "id": "7fa80245",
   "metadata": {},
   "outputs": [
    {
     "data": {
      "text/plain": [
       "(tensor([[10, 20, 30]]),\n",
       " tensor([[10],\n",
       "         [20],\n",
       "         [30]]),\n",
       " tensor([[100, 200, 300],\n",
       "         [200, 400, 600],\n",
       "         [300, 600, 900]]))"
      ]
     },
     "execution_count": 102,
     "metadata": {},
     "output_type": "execute_result"
    }
   ],
   "source": [
    "# Eg an outer product\n",
    "c[None, :], c[:, None], c[None, :] * c[:, None]"
   ]
  },
  {
   "cell_type": "markdown",
   "id": "74a9911a",
   "metadata": {},
   "source": [
    "Broadcasting/expansion starts with trailling dimensions.\n",
    "\n",
    "In general dimensions are compatible when they are equal or one of the is one (so it can be broadcasted up to the larger size.)\n",
    "\n",
    "Arrays dont need to have the same dumber of dimensions as you can broadcast out."
   ]
  },
  {
   "cell_type": "markdown",
   "id": "660ed04d",
   "metadata": {},
   "source": [
    "#### Matmul with broadcasting"
   ]
  },
  {
   "cell_type": "code",
   "execution_count": 120,
   "id": "70f97ca9",
   "metadata": {},
   "outputs": [
    {
     "data": {
      "text/plain": [
       "(torch.Size([784]), torch.Size([784, 10]))"
      ]
     },
     "execution_count": 120,
     "metadata": {},
     "output_type": "execute_result"
    }
   ],
   "source": [
    "# Consider a single digit, that looks ripe for a bit of broadcasting\n",
    "digit = m1[0]\n",
    "digit.shape, m2.shape"
   ]
  },
  {
   "cell_type": "code",
   "execution_count": 122,
   "id": "4b8e3157",
   "metadata": {},
   "outputs": [
    {
     "data": {
      "text/plain": [
       "torch.Size([784, 1])"
      ]
     },
     "execution_count": 122,
     "metadata": {},
     "output_type": "execute_result"
    }
   ],
   "source": [
    "# We can turn this from a vector to a matrix\n",
    "digit[:, None].shape"
   ]
  },
  {
   "cell_type": "code",
   "execution_count": 124,
   "id": "6f17f397",
   "metadata": {},
   "outputs": [
    {
     "data": {
      "text/plain": [
       "torch.Size([784, 10])"
      ]
     },
     "execution_count": 124,
     "metadata": {},
     "output_type": "execute_result"
    }
   ],
   "source": [
    "# We can see how this would be broadcast using expand_as\n",
    "digit[:, None].expand_as(m2).shape"
   ]
  },
  {
   "cell_type": "code",
   "execution_count": 125,
   "id": "c82ca355",
   "metadata": {},
   "outputs": [
    {
     "data": {
      "text/plain": [
       "torch.Size([784, 10])"
      ]
     },
     "execution_count": 125,
     "metadata": {},
     "output_type": "execute_result"
    }
   ],
   "source": [
    "# That looks like it will work, and it does\n",
    "(digit[:, None] * m2).shape"
   ]
  },
  {
   "cell_type": "code",
   "execution_count": 127,
   "id": "943d1041",
   "metadata": {},
   "outputs": [],
   "source": [
    "# Now we just do that in a loop for each image\n",
    "def matmul(m1, m2):\n",
    "    m1Rows, m1Cols = m1.shape\n",
    "    m2Rows, m2Cols = m2.shape\n",
    "\n",
    "    result = torch.zeros(m1Rows, m2Cols)\n",
    "\n",
    "    for i in range(m1Rows):\n",
    "        result[i] = (m1[i, :, None] * m2).sum(dim=0)\n",
    "\n",
    "    return result"
   ]
  },
  {
   "cell_type": "code",
   "execution_count": 128,
   "id": "e17058f4",
   "metadata": {},
   "outputs": [
    {
     "name": "stdout",
     "output_type": "stream",
     "text": [
      "138 µs ± 28.2 µs per loop (mean ± std. dev. of 7 runs, 20 loops each)\n"
     ]
    }
   ],
   "source": [
    "%timeit -n 20 matmul(m1,m2)"
   ]
  },
  {
   "cell_type": "code",
   "execution_count": null,
   "id": "7d6e9cec",
   "metadata": {},
   "outputs": [],
   "source": []
  }
 ],
 "metadata": {
  "kernelspec": {
   "display_name": "Python 3 (ipykernel)",
   "language": "python",
   "name": "python3"
  },
  "language_info": {
   "codemirror_mode": {
    "name": "ipython",
    "version": 3
   },
   "file_extension": ".py",
   "mimetype": "text/x-python",
   "name": "python",
   "nbconvert_exporter": "python",
   "pygments_lexer": "ipython3",
   "version": "3.10.12"
  }
 },
 "nbformat": 4,
 "nbformat_minor": 5
}
