{
 "cells": [
  {
   "cell_type": "code",
   "execution_count": 1,
   "id": "5bc14c4f",
   "metadata": {},
   "outputs": [],
   "source": [
    "# |default_exp learner"
   ]
  },
  {
   "cell_type": "code",
   "execution_count": 109,
   "id": "7242e497",
   "metadata": {},
   "outputs": [],
   "source": [
    "# |export\n",
    "import math\n",
    "from copy import copy\n",
    "from operator import attrgetter\n",
    "from collections.abc import Mapping\n",
    "from functools import partial\n",
    "\n",
    "import torch\n",
    "from torch import optim\n",
    "\n",
    "from torch.utils.data import DataLoader\n",
    "from torch.optim.lr_scheduler import ExponentialLR\n",
    "\n",
    "from torcheval.metrics import Mean\n",
    "\n",
    "import fastcore.all as fc\n",
    "from fastprogress import progress_bar, master_bar\n",
    "\n",
    "import matplotlib.pyplot as plt\n",
    "\n",
    "import miniai.datasets as ds\n",
    "import miniai.conv as cv"
   ]
  },
  {
   "cell_type": "code",
   "execution_count": 108,
   "id": "99af2a36",
   "metadata": {},
   "outputs": [],
   "source": [
    "from torch import nn, tensor\n",
    "import torch.nn.functional as F\n",
    "import torchvision.transforms.functional as TF\n",
    "from torcheval.metrics import MulticlassAccuracy"
   ]
  },
  {
   "cell_type": "markdown",
   "id": "b3171560",
   "metadata": {},
   "source": [
    "# Learner\n",
    "\n",
    "## Data\n",
    "\n",
    "Not part of the learner, just used for testing in the nb."
   ]
  },
  {
   "cell_type": "code",
   "execution_count": 4,
   "id": "67f6a8ba",
   "metadata": {},
   "outputs": [],
   "source": [
    "from datasets import load_dataset\n",
    "\n",
    "x_name = \"image\"\n",
    "y_name = \"label\"\n",
    "dataset_name = \"fashion_mnist\"\n",
    "\n",
    "dataset_dict = load_dataset(dataset_name)"
   ]
  },
  {
   "cell_type": "code",
   "execution_count": 5,
   "id": "b885ed37",
   "metadata": {},
   "outputs": [],
   "source": [
    "@ds.inplace\n",
    "def transformi(items):\n",
    "    items[x_name] = [torch.flatten(TF.to_tensor(img)) for img in items[x_name]]"
   ]
  },
  {
   "cell_type": "code",
   "execution_count": 6,
   "id": "f8663c67",
   "metadata": {},
   "outputs": [],
   "source": [
    "tdataset_dict = dataset_dict.with_transform(transformi)\n",
    "batch_size = 1024"
   ]
  },
  {
   "cell_type": "markdown",
   "id": "b1f88d95",
   "metadata": {},
   "source": [
    "## DataLoaders"
   ]
  },
  {
   "cell_type": "code",
   "execution_count": 7,
   "id": "2bd05fe7",
   "metadata": {},
   "outputs": [],
   "source": [
    "# |export\n",
    "\n",
    "\n",
    "class DataLoaders:\n",
    "    \"\"\"Holds training and validation dataloaders.\"\"\"\n",
    "\n",
    "    def __init__(self, *dls):\n",
    "        \"\"\"Accepts a train and valid dataloader.\"\"\"\n",
    "        self.train, self.valid = dls[:2]\n",
    "\n",
    "    @classmethod\n",
    "    def from_dsd(cls, dsd, batch_size, num_workers=4):\n",
    "        \"\"\"Create dataloaders from a dataset dict.\"\"\"\n",
    "        return cls(\n",
    "            *[DataLoader(d, batch_size, num_workers=num_workers, collate_fn=ds.collate_dict(d)) for d in dsd.values()]\n",
    "        )"
   ]
  },
  {
   "cell_type": "code",
   "execution_count": 8,
   "id": "005b4513",
   "metadata": {},
   "outputs": [
    {
     "data": {
      "text/plain": [
       "(torch.Size([1024, 784]), tensor([9, 0, 0, 3, 0]), torch.Size([1024]))"
      ]
     },
     "execution_count": 8,
     "metadata": {},
     "output_type": "execute_result"
    }
   ],
   "source": [
    "dls = DataLoaders.from_dsd(tdataset_dict, batch_size)\n",
    "train_ds = dls.train\n",
    "\n",
    "xb, yb = next(iter(train_ds))\n",
    "xb.shape, yb[:5], yb.shape"
   ]
  },
  {
   "cell_type": "markdown",
   "id": "a9ec187c",
   "metadata": {},
   "source": [
    "## Learner v1"
   ]
  },
  {
   "cell_type": "code",
   "execution_count": 9,
   "id": "39160ef8",
   "metadata": {},
   "outputs": [],
   "source": [
    "class Learner:\n",
    "    def __init__(self, model, dls, loss_func, lr, opt_func=optim.SGD):\n",
    "        fc.store_attr()\n",
    "\n",
    "    def _calc_stats(self):\n",
    "        \"\"\"Calc the accuracy and loss stats for the current batch and add the the lists.\"\"\"\n",
    "        acc = (self.preds.argmax(dim=1) == self.yb).float().sum()\n",
    "        self.accs.append(acc)\n",
    "\n",
    "        self.losses.append(self.loss * len(self.xb))\n",
    "        self.ns.append(len(self.xb))\n",
    "\n",
    "    def _one_batch(self):\n",
    "        \"\"\"Run one training/validation for one batch of data.\"\"\"\n",
    "        self.xb, self.yb = cv.to_device(self.batch)\n",
    "        self.preds = self.model(self.xb)\n",
    "        self.loss = self.loss_func(self.preds, self.yb)\n",
    "\n",
    "        if self.model.training:\n",
    "            self.loss.backward()\n",
    "            self.opt.step()\n",
    "            self.opt.zero_grad()\n",
    "\n",
    "        with torch.no_grad():\n",
    "            self._calc_stats()\n",
    "\n",
    "    def _one_epoch(self, train):\n",
    "        \"\"\"Run a single epoch of training or validation.\"\"\"\n",
    "        self.model.training = train\n",
    "        dl = self.dls.train if train else self.dls.valid\n",
    "\n",
    "        for self.num, self.batch in enumerate(dl):\n",
    "            self._one_batch()\n",
    "\n",
    "        N = sum(self.ns)\n",
    "        print(\n",
    "            \"epoch: \",\n",
    "            self.epoch,\n",
    "            \"train:\",\n",
    "            self.model.training,\n",
    "            \"loss: \",\n",
    "            sum(self.losses).item() / N,\n",
    "            \"accuracy: \",\n",
    "            sum(self.accs).item() / N,\n",
    "        )\n",
    "\n",
    "    def fit(self, n_epochs):\n",
    "        \"\"\"Run training and validation for a number of epochs.\"\"\"\n",
    "        self.accs = []\n",
    "        self.losses = []\n",
    "        self.ns = []\n",
    "\n",
    "        self.model.to(cv.def_device)\n",
    "\n",
    "        self.opt = self.opt_func(self.model.parameters(), self.lr)\n",
    "        self.n_epochs = n_epochs\n",
    "\n",
    "        for self.epoch in range(n_epochs):\n",
    "            self._one_epoch(True)\n",
    "            self._one_epoch(False)"
   ]
  },
  {
   "cell_type": "code",
   "execution_count": 10,
   "id": "a7622987",
   "metadata": {},
   "outputs": [
    {
     "name": "stdout",
     "output_type": "stream",
     "text": [
      "epoch:  0 train: True loss:  1.1804802083333332 accuracy:  0.6001\n",
      "epoch:  0 train: False loss:  1.1262668526785715 accuracy:  0.6135285714285714\n",
      "epoch:  1 train: True loss:  0.9368109375 accuracy:  0.6734153846153846\n",
      "epoch:  1 train: False loss:  0.9230771205357143 accuracy:  0.6769285714285714\n",
      "epoch:  2 train: True loss:  0.83165921875 accuracy:  0.7087\n",
      "epoch:  2 train: False loss:  0.8199018601190476 accuracy:  0.7125666666666667\n",
      "epoch:  3 train: True loss:  0.7640081597222222 accuracy:  0.7322740740740741\n",
      "epoch:  3 train: False loss:  0.7567142299107142 accuracy:  0.7346678571428571\n",
      "epoch:  4 train: True loss:  0.7173293658088236 accuracy:  0.7484647058823529\n",
      "epoch:  4 train: False loss:  0.7120141071428572 accuracy:  0.75026\n"
     ]
    }
   ],
   "source": [
    "# Now we have a learner that can fit things\n",
    "# It works, but its not very flexible\n",
    "\n",
    "n_pixels = 28 * 28\n",
    "n_hidden = 50\n",
    "\n",
    "model = nn.Sequential(nn.Linear(n_pixels, n_hidden), nn.ReLU(), nn.Linear(n_hidden, 10))\n",
    "learn = Learner(model, dls, F.cross_entropy, lr=0.2)\n",
    "\n",
    "learn.fit(5)"
   ]
  },
  {
   "cell_type": "markdown",
   "id": "45248deb",
   "metadata": {},
   "source": [
    "## Basic callbacks\n",
    "\n",
    "Our current learner is on rails. It does what it does. Lets add a callback system so that we can hook into each stage of the learning process and do extra things. We'll use this for mertrics and additional reporting in the future."
   ]
  },
  {
   "cell_type": "code",
   "execution_count": 11,
   "id": "d1358421",
   "metadata": {},
   "outputs": [],
   "source": [
    "# |export\n",
    "\n",
    "\n",
    "# Base class for all callbacks\n",
    "class Callback:\n",
    "    order = 0\n",
    "\n",
    "\n",
    "# Exceptions thrown by Callbacks exception occurs in the related function\n",
    "class CancelFitException(Exception):\n",
    "    pass\n",
    "\n",
    "\n",
    "class CancelBatchException(Exception):\n",
    "    pass\n",
    "\n",
    "\n",
    "class CancelEpochException(Exception):\n",
    "    pass\n",
    "\n",
    "\n",
    "# Runs the given method on all callbacks in order\n",
    "def run_cbs(cbs, method_name):\n",
    "    for cb in sorted(cbs, key=attrgetter(\"order\")):\n",
    "        method = getattr(cb, method_name, None)\n",
    "        if method is not None:\n",
    "            method()"
   ]
  },
  {
   "cell_type": "code",
   "execution_count": 12,
   "id": "2d783c57",
   "metadata": {},
   "outputs": [
    {
     "name": "stdout",
     "output_type": "stream",
     "text": [
      "Counted 2 batches.\n"
     ]
    }
   ],
   "source": [
    "# Here is an example of a callback\n",
    "class BatchCounter(Callback):\n",
    "    def before_fit(self):\n",
    "        self.count = 0\n",
    "\n",
    "    def after_batch(self):\n",
    "        self.count += 1\n",
    "\n",
    "    def after_fit(self):\n",
    "        print(f\"Counted {self.count} batches.\")\n",
    "\n",
    "\n",
    "cbs = [BatchCounter()]\n",
    "run_cbs(cbs, \"before_fit\")\n",
    "run_cbs(cbs, \"after_batch\")\n",
    "run_cbs(cbs, \"after_batch\")\n",
    "run_cbs(cbs, \"dont_exist\")\n",
    "run_cbs(cbs, \"after_fit\")"
   ]
  },
  {
   "cell_type": "code",
   "execution_count": 13,
   "id": "2db60dd9",
   "metadata": {},
   "outputs": [],
   "source": [
    "# We can update our learner to run these callbacks after each stage\n",
    "class Learner:\n",
    "    def __init__(self, model, dls, loss_func, lr, callbacks, opt_func=optim.SGD):\n",
    "        fc.store_attr()\n",
    "        for cb in self.callbacks:\n",
    "            cb.learn = self\n",
    "\n",
    "    def one_batch(self):\n",
    "        \"\"\"Run one training/validation for one batch of data.\"\"\"\n",
    "        self.preds = self.model(self.batch[0])\n",
    "        self.loss = self.loss_func(self.preds, self.batch[1])\n",
    "\n",
    "        if self.model.training:\n",
    "            self.loss.backward()\n",
    "            self.opt.step()\n",
    "            self.opt.zero_grad()\n",
    "\n",
    "    def one_epoch(self, train):\n",
    "        \"\"\"Run a single epoch of training or validation.\"\"\"\n",
    "        self.model.train(train)\n",
    "        self.dl = self.dls.train if train else self.dls.valid\n",
    "\n",
    "        try:\n",
    "            self.callback(\"before_epoch\")\n",
    "\n",
    "            for self.num, self.batch in enumerate(self.dl):\n",
    "                try:\n",
    "                    self.callback(\"before_batch\")\n",
    "                    self.one_batch()\n",
    "                    self.callback(\"after_batch\")\n",
    "                except CancelBatchException:\n",
    "                    pass\n",
    "\n",
    "            self.callback(\"after_epoch\")\n",
    "        except CancelEpochException:\n",
    "            pass\n",
    "\n",
    "    def fit(self, n_epochs):\n",
    "        \"\"\"Run training and validation for a number of epochs.\"\"\"\n",
    "        self.n_epochs = n_epochs\n",
    "        self.epochs = range(n_epochs)\n",
    "        self.opt = self.opt_func(self.model.parameters(), self.lr)\n",
    "\n",
    "        try:\n",
    "            self.callback(\"before_fit\")\n",
    "\n",
    "            for self.epoch in self.epochs:\n",
    "                self.one_epoch(True)\n",
    "                self.one_epoch(False)\n",
    "\n",
    "            self.callback(\"after_fit\")\n",
    "        except CancelFitException:\n",
    "            pass\n",
    "\n",
    "    def callback(self, method_name):\n",
    "        \"\"\" \"Go through callbacks, sorted by the order attribute and call their relavant method name.\"\"\"\n",
    "        run_cbs(self.callbacks, method_name)"
   ]
  },
  {
   "cell_type": "code",
   "execution_count": 14,
   "id": "7166396e",
   "metadata": {},
   "outputs": [
    {
     "name": "stdout",
     "output_type": "stream",
     "text": [
      "Counted 69 batches.\n"
     ]
    }
   ],
   "source": [
    "# It seems to be working but we've lost all of our metrics\n",
    "model = nn.Sequential(nn.Linear(n_pixels, n_hidden), nn.ReLU(), nn.Linear(n_hidden, 10))\n",
    "learn = Learner(model, dls, F.cross_entropy, lr=0.2, callbacks=[BatchCounter()])\n",
    "\n",
    "learn.fit(1)"
   ]
  },
  {
   "cell_type": "markdown",
   "id": "031cbebd",
   "metadata": {},
   "source": [
    "\n",
    "## CUDA\n",
    "\n",
    "Lets implement a callback that helps us move data to our device to help speed things up."
   ]
  },
  {
   "cell_type": "code",
   "execution_count": 15,
   "id": "a19e2398",
   "metadata": {},
   "outputs": [],
   "source": [
    "# |export\n",
    "\n",
    "\n",
    "class DeviceCB(Callback):\n",
    "    def __init__(self, device=cv.def_device):\n",
    "        fc.store_attr()\n",
    "\n",
    "    \"\"\"Moves the model to the device before fitting and the batch before each batch.\"\"\"\n",
    "\n",
    "    def before_fit(self):\n",
    "        self.learn.model.to(self.device)\n",
    "\n",
    "    def before_batch(self):\n",
    "        self.learn.batch = cv.to_device(self.learn.batch, device=self.device)"
   ]
  },
  {
   "cell_type": "code",
   "execution_count": 16,
   "id": "8eaf2fe3",
   "metadata": {},
   "outputs": [
    {
     "name": "stdout",
     "output_type": "stream",
     "text": [
      "Counted 69 batches.\n"
     ]
    }
   ],
   "source": [
    "# It still seems to work\n",
    "model = nn.Sequential(nn.Linear(n_pixels, n_hidden), nn.ReLU(), nn.Linear(n_hidden, 10))\n",
    "learn = Learner(model, dls, F.cross_entropy, lr=0.2, callbacks=[BatchCounter(), DeviceCB()])\n",
    "\n",
    "learn.fit(1)"
   ]
  },
  {
   "cell_type": "markdown",
   "id": "30c4a49b",
   "metadata": {},
   "source": [
    "## Metrics\n",
    "\n",
    "We're coing to need to put metrics back in. In the pase we could only use accuracy as a metric. We want to be able to use other things."
   ]
  },
  {
   "cell_type": "code",
   "execution_count": 17,
   "id": "ab7ebb24",
   "metadata": {},
   "outputs": [],
   "source": [
    "class Metric:\n",
    "    def __init__(self):\n",
    "        self.reset()\n",
    "\n",
    "    def reset(self):\n",
    "        \"\"\"Forget all previous values\"\"\"\n",
    "        self.vals = []\n",
    "        self.batch_sizes = []\n",
    "\n",
    "    def add(self, inputs, targets=None, batch_size=1):\n",
    "        \"\"\"Add additional data for this metric\"\"\"\n",
    "        self.last = self.calc(inputs, targets)\n",
    "        self.vals.append(self.last)\n",
    "        self.batch_sizes.append(batch_size)\n",
    "\n",
    "    @property\n",
    "    def value(self):\n",
    "        \"\"\"Calculates the overall current value for this metric across all batches.\"\"\"\n",
    "        tns = tensor(self.batch_sizes)\n",
    "        return (tensor(self.vals) * tns).sum() / tns.sum()\n",
    "\n",
    "    def calc(self, inputs, targets):\n",
    "        \"\"\"The calculation for one batch of inputs/targets for this metric\"\"\"\n",
    "        return inputs"
   ]
  },
  {
   "cell_type": "code",
   "execution_count": 18,
   "id": "5761cd6c",
   "metadata": {},
   "outputs": [
    {
     "name": "stdout",
     "output_type": "stream",
     "text": [
      "tensor(0.5000)\n",
      "tensor(0.3333)\n",
      "tensor(0.2500)\n"
     ]
    }
   ],
   "source": [
    "# Now we have a base metric class that can handle scalars and tensors depending on the calc function\n",
    "loss = Metric()\n",
    "loss.add(0.5, batch_size=10)  # Add 10 0.5's\n",
    "print(loss.value)\n",
    "\n",
    "loss.add(0, batch_size=5)  #  Add 5 0's\n",
    "print(loss.value)\n",
    "\n",
    "loss.add(0, batch_size=5)  #  Add 5 more 0's\n",
    "print(loss.value)"
   ]
  },
  {
   "cell_type": "code",
   "execution_count": 19,
   "id": "e4faad15",
   "metadata": {},
   "outputs": [],
   "source": [
    "class Accuracy(Metric):\n",
    "    \"\"\"\n",
    "    An accuracy metric, ie a pass/fail\n",
    "    comparison of the prediction inputs agains the targets.\n",
    "    \"\"\"\n",
    "\n",
    "    def calc(self, inputs, targets):\n",
    "        return (inputs == targets).float().mean()"
   ]
  },
  {
   "cell_type": "code",
   "execution_count": 20,
   "id": "37916305",
   "metadata": {},
   "outputs": [
    {
     "name": "stdout",
     "output_type": "stream",
     "text": [
      "tensor(1.)\n",
      "tensor(0.5000)\n",
      "tensor(0.4667)\n"
     ]
    }
   ],
   "source": [
    "# We can easily make new metrics like Accuracy\n",
    "acc = Accuracy()\n",
    "\n",
    "# Add fully accurate\n",
    "acc.add(tensor([1, 1, 1, 1, 1]), tensor([1, 1, 1, 1, 1]))\n",
    "print(acc.value)\n",
    "\n",
    "# Add fully inaccurate\n",
    "acc.add(tensor([1, 1, 1, 1, 1]), tensor([0, 0, 0, 0, 0]))\n",
    "print(acc.value)\n",
    "\n",
    "# Add a mix\n",
    "acc.add(tensor([1, 1, 1, 0, 0]), tensor([0, 0, 0, 0, 0]))\n",
    "print(acc.value)"
   ]
  },
  {
   "cell_type": "markdown",
   "id": "bc2acb0a",
   "metadata": {},
   "source": [
    "The good news is what we've invented already exists in `torcheval.metrics`. We'll just use this rather than reimplementing a bunch of metrics ourselves. It works in pretty much the same way."
   ]
  },
  {
   "cell_type": "code",
   "execution_count": 21,
   "id": "e740e0d6",
   "metadata": {},
   "outputs": [
    {
     "data": {
      "text/plain": [
       "tensor(0.5000)"
      ]
     },
     "execution_count": 21,
     "metadata": {},
     "output_type": "execute_result"
    }
   ],
   "source": [
    "metric = MulticlassAccuracy()\n",
    "metric.update(tensor([0, 0, 0, 0]), tensor([1, 1, 0, 0]))\n",
    "metric.compute()"
   ]
  },
  {
   "cell_type": "markdown",
   "id": "6d38347e",
   "metadata": {},
   "source": [
    "### Metrics callbacks\n",
    "\n",
    "Lets create a callback to calculate some metrics for us."
   ]
  },
  {
   "cell_type": "code",
   "execution_count": 106,
   "id": "6871e6c4",
   "metadata": {},
   "outputs": [],
   "source": [
    "# |export\n",
    "\n",
    "\n",
    "def to_cpu(x):\n",
    "    \"\"\"Takes maps, lists and tuples of tensors or just tensors and moves them to the cpu\"\"\"\n",
    "    if isinstance(x, Mapping):\n",
    "        return {k: to_cpu(v) for k, v in x.items()}\n",
    "    if isinstance(x, list):\n",
    "        return [to_cpu(o) for o in x]\n",
    "    if isinstance(x, tuple):\n",
    "        return tuple(to_cpu(list(x)))\n",
    "\n",
    "    res = x.detach().cpu()\n",
    "    return res.float() if res.dtype == torch.float16 else res\n",
    "\n",
    "\n",
    "class MetricsCB(Callback):\n",
    "    \"\"\"Tracks a set of metrics + a loss (weighted avg of the losses).\"\"\"\n",
    "\n",
    "    def __init__(self, *pos_metrics, **metrics):\n",
    "        # Positional args become metrics named after the type of the class\n",
    "        for metric in pos_metrics:\n",
    "            metrics[type(metric).__name__] = metric\n",
    "\n",
    "        self.metrics = metrics\n",
    "        self.loss = Mean()\n",
    "\n",
    "        self.all_metrics = copy(metrics)\n",
    "        self.all_metrics[\"loss\"] = self.loss\n",
    "\n",
    "    def _log(self, data):\n",
    "        print(data)\n",
    "\n",
    "    def before_fit(self):\n",
    "        self.learn.metrics = self\n",
    "\n",
    "    def before_epoch(self):\n",
    "        for metric in self.all_metrics.values():\n",
    "            metric.reset()\n",
    "\n",
    "    def after_epoch(self):\n",
    "        data = {\"epoch\": self.learn.epoch, \"train\": \"train\" if self.learn.model.training else \"eval\"}\n",
    "\n",
    "        for name, metric in self.all_metrics.items():\n",
    "            data[name] = f\"{metric.compute():.3f}\"\n",
    "\n",
    "        self._log(data)\n",
    "\n",
    "    def after_batch(self):\n",
    "        # We need to make sure all tensors are on the same device so just move them to the CPU\n",
    "        x, y = to_cpu(self.learn.batch)\n",
    "        preds = to_cpu(self.learn.preds)\n",
    "        loss = to_cpu(self.learn.loss)\n",
    "\n",
    "        # Update all of the metrics\n",
    "        for metric in self.metrics.values():\n",
    "            metric.update(preds, y)\n",
    "\n",
    "        # Update our loss\n",
    "        self.loss.update(loss, weight=len(x))"
   ]
  },
  {
   "cell_type": "code",
   "execution_count": 23,
   "id": "e4d7daee",
   "metadata": {},
   "outputs": [
    {
     "name": "stdout",
     "output_type": "stream",
     "text": [
      "{'epoch': 0, 'train': 'train', 'accuracy': '0.601', 'loss': '1.183'}\n",
      "{'epoch': 0, 'train': 'eval', 'accuracy': '0.693', 'loss': '0.822'}\n",
      "{'epoch': 1, 'train': 'train', 'accuracy': '0.742', 'loss': '0.718'}\n",
      "{'epoch': 1, 'train': 'eval', 'accuracy': '0.755', 'loss': '0.657'}\n",
      "{'epoch': 2, 'train': 'train', 'accuracy': '0.783', 'loss': '0.616'}\n",
      "{'epoch': 2, 'train': 'eval', 'accuracy': '0.793', 'loss': '0.581'}\n",
      "{'epoch': 3, 'train': 'train', 'accuracy': '0.800', 'loss': '0.569'}\n",
      "{'epoch': 3, 'train': 'eval', 'accuracy': '0.813', 'loss': '0.541'}\n",
      "{'epoch': 4, 'train': 'train', 'accuracy': '0.814', 'loss': '0.532'}\n",
      "{'epoch': 4, 'train': 'eval', 'accuracy': '0.805', 'loss': '0.538'}\n"
     ]
    }
   ],
   "source": [
    "# Lets give it a whirl, hurray we've got our metrics back\n",
    "metrics = MetricsCB(accuracy=MulticlassAccuracy())\n",
    "cbs = [DeviceCB(), metrics]\n",
    "model = nn.Sequential(nn.Linear(n_pixels, n_hidden), nn.ReLU(), nn.Linear(n_hidden, 10))\n",
    "learn = Learner(model, dls, F.cross_entropy, lr=0.2, callbacks=cbs)\n",
    "\n",
    "learn.fit(5)"
   ]
  },
  {
   "cell_type": "markdown",
   "id": "7cc48f1a",
   "metadata": {},
   "source": [
    "## Learner v2\n",
    "\n",
    "We can tidy up our learner by using a decorator to augment functions in our learner with callbacks. This means we can easily add more callbacks that we'll use soon. We'll make it so you can do the actual training in a callback by adding `predict`, `calc_loss`, `backward`, `step` and `zero_trad` calls."
   ]
  },
  {
   "cell_type": "code",
   "execution_count": 96,
   "id": "8a62881c",
   "metadata": {},
   "outputs": [],
   "source": [
    "# |export\n",
    "\n",
    "\n",
    "class with_cbs:\n",
    "    \"\"\"\n",
    "    Decorator that adds before and after callbacks to a function.\n",
    "    If an exception is thrown then a cleanup_* callback is called.\n",
    "    \"\"\"\n",
    "\n",
    "    def __init__(self, name):\n",
    "        self.name = name\n",
    "\n",
    "    def __call__(self, fn):\n",
    "        def _fn(o, *args, **kwargs):\n",
    "            try:\n",
    "                o.callback(f\"before_{self.name}\")\n",
    "                fn(o, *args, **kwargs)\n",
    "                o.callback(f\"after_{self.name}\")\n",
    "            except globals()[f\"Cancel{self.name.title()}Exception\"]:\n",
    "                pass\n",
    "            finally:\n",
    "                o.callback(f\"cleanup_{self.name}\")\n",
    "\n",
    "        return _fn"
   ]
  },
  {
   "cell_type": "code",
   "execution_count": 25,
   "id": "d3cf3153",
   "metadata": {},
   "outputs": [],
   "source": [
    "# |export\n",
    "\n",
    "\n",
    "class Learner:\n",
    "    def __init__(self, model, dls, loss_func, lr, callbacks, opt_func=optim.SGD):\n",
    "        fc.store_attr()\n",
    "        for cb in self.callbacks:\n",
    "            cb.learn = self\n",
    "\n",
    "    @with_cbs(\"batch\")\n",
    "    def one_batch(self):\n",
    "        \"\"\"Run one training/validation for one batch of data.\"\"\"\n",
    "        self.predict()\n",
    "        self.calc_loss()\n",
    "\n",
    "        if self.model.training:\n",
    "            self.backward()\n",
    "            self.step()\n",
    "            self.zero_grad()\n",
    "\n",
    "    def one_epoch(self, train):\n",
    "        \"\"\"Run a single epoch of training or validation.\"\"\"\n",
    "        self.model.train(train)\n",
    "        self.dl = self.dls.train if train else self.dls.valid\n",
    "\n",
    "        self._one_epoch()\n",
    "\n",
    "    @with_cbs(\"epoch\")\n",
    "    def _one_epoch(self):\n",
    "        for self.num, self.batch in enumerate(self.dl):\n",
    "            self.one_batch()\n",
    "\n",
    "    def fit(self, n_epochs):\n",
    "        \"\"\"Run training and validation for a number of epochs.\"\"\"\n",
    "        self.n_epochs = n_epochs\n",
    "        self.epochs = range(n_epochs)\n",
    "        self.opt = self.opt_func(self.model.parameters(), self.lr)\n",
    "\n",
    "        self._fit()\n",
    "\n",
    "    @with_cbs(\"fit\")\n",
    "    def _fit(self):\n",
    "        for self.epoch in self.epochs:\n",
    "            self.one_epoch(True)\n",
    "            self.one_epoch(False)\n",
    "\n",
    "    def __getattr__(self, name):\n",
    "        # If these methods dont exist, we are going to defer them to our callbacks\n",
    "        # so we return a partial that calls our callback fn.\n",
    "        if name in (\"predict\", \"calc_loss\", \"backward\", \"step\", \"zero_grad\"):\n",
    "            return partial(self.callback, name)\n",
    "\n",
    "        raise AttributeError(name)\n",
    "\n",
    "    def callback(self, method_name):\n",
    "        \"\"\" \"Go through callbacks, sorted by the order attribute and call their relavant method name.\"\"\"\n",
    "        run_cbs(self.callbacks, method_name)\n",
    "\n",
    "\n",
    "# This means we'll need a TrainCB to make things work\n",
    "class TrainCB(Callback):\n",
    "    def predict(self):\n",
    "        self.learn.preds = self.learn.model(self.learn.batch[0])\n",
    "\n",
    "    def calc_loss(self):\n",
    "        self.learn.loss = self.learn.loss_func(self.learn.preds, self.learn.batch[1])\n",
    "\n",
    "    def backward(self):\n",
    "        self.learn.loss.backward()\n",
    "\n",
    "    def step(self):\n",
    "        self.learn.opt.step()\n",
    "\n",
    "    def zero_grad(self):\n",
    "        self.learn.opt.zero_grad()"
   ]
  },
  {
   "cell_type": "code",
   "execution_count": 26,
   "id": "8e53bd67",
   "metadata": {},
   "outputs": [
    {
     "name": "stdout",
     "output_type": "stream",
     "text": [
      "{'epoch': 0, 'train': 'train', 'accuracy': '0.606', 'loss': '1.188'}\n",
      "{'epoch': 0, 'train': 'eval', 'accuracy': '0.695', 'loss': '0.804'}\n"
     ]
    }
   ],
   "source": [
    "# Everything still works, but now we could use a different learning step if we want\n",
    "metrics = MetricsCB(accuracy=MulticlassAccuracy())\n",
    "cbs = [DeviceCB(), metrics, TrainCB()]\n",
    "model = nn.Sequential(nn.Linear(n_pixels, n_hidden), nn.ReLU(), nn.Linear(n_hidden, 10))\n",
    "learn = Learner(model, dls, F.cross_entropy, lr=0.2, callbacks=cbs)\n",
    "\n",
    "learn.fit(1)"
   ]
  },
  {
   "cell_type": "markdown",
   "id": "f50a58c2",
   "metadata": {},
   "source": [
    "## Progress bar\n",
    "\n",
    "We can implement a progress bar as a callback."
   ]
  },
  {
   "cell_type": "code",
   "execution_count": 27,
   "id": "5f324f3a",
   "metadata": {},
   "outputs": [],
   "source": [
    "# |export\n",
    "\n",
    "\n",
    "class ProgressCB(Callback):\n",
    "    order = MetricsCB.order + 1\n",
    "\n",
    "    def __init__(self, plot=False):\n",
    "        fc.store_attr()\n",
    "\n",
    "    def before_fit(self):\n",
    "        # Change the epochs to a progress bar around a range\n",
    "        self.bar = master_bar(self.learn.epochs)\n",
    "        self.learn.epochs = self.bar\n",
    "        self.losses = []\n",
    "\n",
    "    def before_epoch(self):\n",
    "        # Wrap the dataloaders in a progress bar\n",
    "        self.learn.dl = progress_bar(self.learn.dl, leave=False, parent=self.bar)\n",
    "\n",
    "    def after_batch(self):\n",
    "        # Set the progresss bars comment to be the current loss\n",
    "        self.learn.dl.comment = f\"{self.learn.loss:.3f}\"\n",
    "\n",
    "        # Update the plot if requested\n",
    "        if self.plot and self.learn.model.training:\n",
    "            self.losses.append(self.learn.loss.item())\n",
    "            self.bar.update_graph([[fc.L.range(self.losses), self.losses]])"
   ]
  },
  {
   "cell_type": "code",
   "execution_count": 28,
   "id": "68c81418",
   "metadata": {},
   "outputs": [
    {
     "data": {
      "text/html": [
       "\n",
       "<style>\n",
       "    /* Turns off some styling */\n",
       "    progress {\n",
       "        /* gets rid of default border in Firefox and Opera. */\n",
       "        border: none;\n",
       "        /* Needs to be in here for Safari polyfill so background images work as expected. */\n",
       "        background-size: auto;\n",
       "    }\n",
       "    progress:not([value]), progress:not([value])::-webkit-progress-bar {\n",
       "        background: repeating-linear-gradient(45deg, #7e7e7e, #7e7e7e 10px, #5c5c5c 10px, #5c5c5c 20px);\n",
       "    }\n",
       "    .progress-bar-interrupted, .progress-bar-interrupted::-webkit-progress-bar {\n",
       "        background: #F44336;\n",
       "    }\n",
       "</style>\n"
      ],
      "text/plain": [
       "<IPython.core.display.HTML object>"
      ]
     },
     "metadata": {},
     "output_type": "display_data"
    },
    {
     "data": {
      "text/html": [],
      "text/plain": [
       "<IPython.core.display.HTML object>"
      ]
     },
     "metadata": {},
     "output_type": "display_data"
    },
    {
     "data": {
      "image/png": "[encoded data removed]",
      "text/plain": [
       "<Figure size 600x400 with 1 Axes>"
      ]
     },
     "metadata": {},
     "output_type": "display_data"
    },
    {
     "name": "stdout",
     "output_type": "stream",
     "text": [
      "{'epoch': 0, 'train': 'train', 'accuracy': '0.606', 'loss': '1.192'}\n",
      "{'epoch': 0, 'train': 'eval', 'accuracy': '0.713', 'loss': '0.778'}\n",
      "{'epoch': 1, 'train': 'train', 'accuracy': '0.741', 'loss': '0.725'}\n",
      "{'epoch': 1, 'train': 'eval', 'accuracy': '0.752', 'loss': '0.666'}\n",
      "{'epoch': 2, 'train': 'train', 'accuracy': '0.783', 'loss': '0.617'}\n",
      "{'epoch': 2, 'train': 'eval', 'accuracy': '0.775', 'loss': '0.642'}\n"
     ]
    }
   ],
   "source": [
    "# Now we get a progress bar too\n",
    "metrics = MetricsCB(accuracy=MulticlassAccuracy())\n",
    "\n",
    "cbs = [DeviceCB(), metrics, TrainCB(), ProgressCB(plot=True)]\n",
    "model = nn.Sequential(nn.Linear(n_pixels, n_hidden), nn.ReLU(), nn.Linear(n_hidden, 10))\n",
    "learn = Learner(model, dls, F.cross_entropy, lr=0.2, callbacks=cbs)\n",
    "\n",
    "learn.fit(3)"
   ]
  },
  {
   "cell_type": "markdown",
   "id": "5c632724",
   "metadata": {},
   "source": [
    "### Momentum learner\n",
    "\n",
    "We dont have to implement the `predict/calc_loss/backward/step/zero_grad` methods in a callback. As its aonly called in a callback if  it doesnt exist on the learner we can also just subclass `Learner`."
   ]
  },
  {
   "cell_type": "code",
   "execution_count": 30,
   "id": "c68897a3",
   "metadata": {},
   "outputs": [],
   "source": [
    "# |export\n",
    "\n",
    "\n",
    "class MomentumLearner(Learner):\n",
    "    \"\"\"\n",
    "    Our MomentumLearner behaves a bit differently.\n",
    "    Instead of zeroing the gradient in zero_grad it multiplies them by a number (generally < 1).\n",
    "    This means that the previous gradients still exist but in a reduced form,\n",
    "    giving the learner \"momentum\".\n",
    "    \"\"\"\n",
    "\n",
    "    def __init__(self, model, dls, loss_func, lr, callbacks, opt_func=optim.SGD, momentum=0.85):\n",
    "        self.momentum = momentum\n",
    "        super().__init__(model, dls, loss_func, lr, callbacks, opt_func)\n",
    "\n",
    "    def predict(self):\n",
    "        self.preds = self.model(self.batch[0])\n",
    "\n",
    "    def calc_loss(self):\n",
    "        self.loss = self.loss_func(self.preds, self.batch[1])\n",
    "\n",
    "    def backward(self):\n",
    "        self.loss.backward()\n",
    "\n",
    "    def step(self):\n",
    "        self.opt.step()\n",
    "\n",
    "    def zero_grad(self):\n",
    "        with torch.no_grad():\n",
    "            for p in self.model.parameters():\n",
    "                p.grad *= self.momentum"
   ]
  },
  {
   "cell_type": "code",
   "execution_count": 37,
   "id": "8b5603ff",
   "metadata": {},
   "outputs": [
    {
     "data": {
      "text/html": [
       "\n",
       "<style>\n",
       "    /* Turns off some styling */\n",
       "    progress {\n",
       "        /* gets rid of default border in Firefox and Opera. */\n",
       "        border: none;\n",
       "        /* Needs to be in here for Safari polyfill so background images work as expected. */\n",
       "        background-size: auto;\n",
       "    }\n",
       "    progress:not([value]), progress:not([value])::-webkit-progress-bar {\n",
       "        background: repeating-linear-gradient(45deg, #7e7e7e, #7e7e7e 10px, #5c5c5c 10px, #5c5c5c 20px);\n",
       "    }\n",
       "    .progress-bar-interrupted, .progress-bar-interrupted::-webkit-progress-bar {\n",
       "        background: #F44336;\n",
       "    }\n",
       "</style>\n"
      ],
      "text/plain": [
       "<IPython.core.display.HTML object>"
      ]
     },
     "metadata": {},
     "output_type": "display_data"
    },
    {
     "data": {
      "text/html": [],
      "text/plain": [
       "<IPython.core.display.HTML object>"
      ]
     },
     "metadata": {},
     "output_type": "display_data"
    },
    {
     "data": {
      "image/png": "[encoded data removed]",
      "text/plain": [
       "<Figure size 600x400 with 1 Axes>"
      ]
     },
     "metadata": {},
     "output_type": "display_data"
    },
    {
     "name": "stdout",
     "output_type": "stream",
     "text": [
      "{'epoch': 0, 'train': 'train', 'accuracy': '0.677', 'loss': '1.004'}\n",
      "{'epoch': 0, 'train': 'eval', 'accuracy': '0.800', 'loss': '0.567'}\n",
      "{'epoch': 1, 'train': 'train', 'accuracy': '0.830', 'loss': '0.485'}\n",
      "{'epoch': 1, 'train': 'eval', 'accuracy': '0.830', 'loss': '0.493'}\n",
      "{'epoch': 2, 'train': 'train', 'accuracy': '0.847', 'loss': '0.435'}\n",
      "{'epoch': 2, 'train': 'eval', 'accuracy': '0.836', 'loss': '0.474'}\n"
     ]
    }
   ],
   "source": [
    "# Lets give it a go\n",
    "metrics = MetricsCB(accuracy=MulticlassAccuracy())\n",
    "\n",
    "cbs = [DeviceCB(), metrics, ProgressCB(plot=True)]\n",
    "model = nn.Sequential(nn.Linear(n_pixels, n_hidden), nn.ReLU(), nn.Linear(n_hidden, 10))\n",
    "learn = MomentumLearner(model, dls, F.cross_entropy, lr=0.2, callbacks=cbs)\n",
    "\n",
    "learn.fit(3)"
   ]
  },
  {
   "cell_type": "markdown",
   "id": "1ed830cc",
   "metadata": {},
   "source": [
    "Its improved! Normally this is done by storing a copy of the gradients and calculating a moving average.\n",
    "\n",
    "### LR finder\n",
    "\n",
    "Lets implement a learning rate finder. We'll increase the learining rate gradually over time, plot the loss agains the learning rate, we want to be able to pick a LR as high as possible without the loss getting worse."
   ]
  },
  {
   "cell_type": "code",
   "execution_count": 70,
   "id": "be861f7f",
   "metadata": {},
   "outputs": [],
   "source": [
    "class LRFinderCB(Callback):\n",
    "    def __init__(self, lr_mult=1.3):\n",
    "        fc.store_attr()\n",
    "\n",
    "    def before_fit(self):\n",
    "        # We are going to track learning rates and losses\n",
    "        self.lrs = []\n",
    "        self.losses = []\n",
    "\n",
    "        # And the min loss\n",
    "        self.min = math.inf\n",
    "\n",
    "    def after_batch(self):\n",
    "        # If we are not training then stop\n",
    "        if not self.learn.model.training:\n",
    "            raise CancelEpochException()\n",
    "\n",
    "        self.lrs.append(self.learn.opt.param_groups[0][\"lr\"])\n",
    "        loss = to_cpu(self.learn.loss)\n",
    "        self.losses.append(loss)\n",
    "\n",
    "        if loss < self.min:\n",
    "            self.min = loss\n",
    "\n",
    "        # Stop training if the loss is 3x our min loss\n",
    "        if loss > self.min * 3:\n",
    "            raise CancelFitException()\n",
    "\n",
    "        # Increase the lr by our multiplier\n",
    "        for group in self.learn.opt.param_groups:\n",
    "            group[\"lr\"] *= self.lr_mult\n",
    "\n",
    "    def plot(self):\n",
    "        plt.plot(self.lrs, self.losses)\n",
    "        plt.xscale(\"log\")"
   ]
  },
  {
   "cell_type": "code",
   "execution_count": 71,
   "id": "a0147449",
   "metadata": {},
   "outputs": [
    {
     "data": {
      "image/png": "[encoded data removed]",
      "text/plain": [
       "<Figure size 640x480 with 1 Axes>"
      ]
     },
     "metadata": {},
     "output_type": "display_data"
    }
   ],
   "source": [
    "lr_find = LRFinderCB()\n",
    "cbs = [DeviceCB(), lr_find]\n",
    "model = nn.Sequential(nn.Linear(n_pixels, n_hidden), nn.ReLU(), nn.Linear(n_hidden, 10))\n",
    "learn = MomentumLearner(model, dls, F.cross_entropy, lr=1e-4, callbacks=cbs)\n",
    "\n",
    "learn.fit(1)\n",
    "lr_find.plot()"
   ]
  },
  {
   "cell_type": "markdown",
   "id": "b8e3ecd2",
   "metadata": {},
   "source": [
    "pytorch gives use the ExponentialLR lr scheduler that lets does pretty much the same thing only a bit fancier. We can use it to implement a better LRFinderCB."
   ]
  },
  {
   "cell_type": "code",
   "execution_count": 97,
   "id": "1f5dbb1e",
   "metadata": {},
   "outputs": [],
   "source": [
    "# |export\n",
    "\n",
    "\n",
    "class LRFinderCB(Callback):\n",
    "    def __init__(self, gamma=1.3):\n",
    "        fc.store_attr()\n",
    "\n",
    "    def before_fit(self):\n",
    "        # Create a new LR scheduler\n",
    "        self.sched = ExponentialLR(self.learn.opt, self.gamma)\n",
    "\n",
    "        # We are going to track learning rates and losses\n",
    "        self.lrs = []\n",
    "        self.losses = []\n",
    "\n",
    "        # And the min loss\n",
    "        self.min = math.inf\n",
    "\n",
    "    def after_batch(self):\n",
    "        # If we are not training then stop\n",
    "        if not self.learn.model.training:\n",
    "            raise CancelEpochException()\n",
    "\n",
    "        self.lrs.append(self.learn.opt.param_groups[0][\"lr\"])\n",
    "        loss = to_cpu(self.learn.loss)\n",
    "        self.losses.append(loss)\n",
    "\n",
    "        if loss < self.min:\n",
    "            self.min = loss\n",
    "\n",
    "        # Stop training if the loss is 3x our min loss\n",
    "        if loss > self.min * 3:\n",
    "            raise CancelFitException()\n",
    "\n",
    "        # Run 1 step of the scheduler\n",
    "        self.sched.step()\n",
    "\n",
    "    def cleanup_fit(self):\n",
    "        plt.plot(self.lrs, self.losses)\n",
    "        plt.xscale(\"log\")"
   ]
  },
  {
   "cell_type": "code",
   "execution_count": 98,
   "id": "3efb34a6",
   "metadata": {},
   "outputs": [
    {
     "data": {
      "image/png": "[encoded data removed]",
      "text/plain": [
       "<Figure size 640x480 with 1 Axes>"
      ]
     },
     "metadata": {},
     "output_type": "display_data"
    }
   ],
   "source": [
    "lr_find = LRFinderCB()\n",
    "cbs = [DeviceCB(), lr_find]\n",
    "model = nn.Sequential(nn.Linear(n_pixels, n_hidden), nn.ReLU(), nn.Linear(n_hidden, 10))\n",
    "learn = MomentumLearner(model, dls, F.cross_entropy, lr=1e-4, callbacks=cbs)\n",
    "\n",
    "learn.fit(1)"
   ]
  },
  {
   "cell_type": "code",
   "execution_count": null,
   "id": "3a200bcf",
   "metadata": {},
   "outputs": [],
   "source": []
  }
 ],
 "metadata": {
  "kernelspec": {
   "display_name": "Python 3 (ipykernel)",
   "language": "python",
   "name": "python3"
  },
  "language_info": {
   "codemirror_mode": {
    "name": "ipython",
    "version": 3
   },
   "file_extension": ".py",
   "mimetype": "text/x-python",
   "name": "python",
   "nbconvert_exporter": "python",
   "pygments_lexer": "ipython3",
   "version": "3.10.12"
  }
 },
 "nbformat": 4,
 "nbformat_minor": 5
}
