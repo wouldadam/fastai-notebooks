{
 "cells": [
  {
   "cell_type": "markdown",
   "id": "3cb228c2",
   "metadata": {},
   "source": [
    "# Titanic with random forests\n",
    "\n",
    "Looking at the [titanic](https://www.kaggle.com/competitions/titanic) kaggle competition using random forests.\n",
    "\n",
    "## Data"
   ]
  },
  {
   "cell_type": "code",
   "execution_count": 1,
   "id": "9f69c6d4",
   "metadata": {},
   "outputs": [],
   "source": [
    "from fastai.imports import *\n",
    "\n",
    "frames = pd.read_csv(\"data/titanic/train.csv\")\n",
    "test_frames = pd.read_csv(\"data/titanic/test.csv\")\n",
    "modes = frames.mode().iloc[0]"
   ]
  },
  {
   "cell_type": "code",
   "execution_count": 2,
   "id": "beead6f5",
   "metadata": {},
   "outputs": [],
   "source": [
    "# Split frames into train and validation\n",
    "from numpy import random\n",
    "from sklearn.model_selection import train_test_split\n",
    "\n",
    "random.seed(42)\n",
    "train_frames, val_frames = train_test_split(frames, test_size=0.25)"
   ]
  },
  {
   "cell_type": "code",
   "execution_count": 3,
   "id": "6a9f71f4",
   "metadata": {},
   "outputs": [],
   "source": [
    "# Lets list our different variables and how we will treat them\n",
    "\n",
    "cats = [\"Sex\", \"Embarked\"]  # Categorical\n",
    "conts = [\"Age\", \"SibSp\", \"Parch\", \"LogFare\", \"Pclass\"]  # Continuous, node Pclass is in here\n",
    "dep = \"Survived\"  # Dependent"
   ]
  },
  {
   "cell_type": "code",
   "execution_count": 4,
   "id": "8cf20439",
   "metadata": {},
   "outputs": [
    {
     "data": {
      "text/html": [
       "<div>\n",
       "<style scoped>\n",
       "    .dataframe tbody tr th:only-of-type {\n",
       "        vertical-align: middle;\n",
       "    }\n",
       "\n",
       "    .dataframe tbody tr th {\n",
       "        vertical-align: top;\n",
       "    }\n",
       "\n",
       "    .dataframe thead th {\n",
       "        text-align: right;\n",
       "    }\n",
       "</style>\n",
       "<table border=\"1\" class=\"dataframe\">\n",
       "  <thead>\n",
       "    <tr style=\"text-align: right;\">\n",
       "      <th></th>\n",
       "      <th>PassengerId</th>\n",
       "      <th>Survived</th>\n",
       "      <th>Pclass</th>\n",
       "      <th>Name</th>\n",
       "      <th>Sex</th>\n",
       "      <th>Age</th>\n",
       "      <th>SibSp</th>\n",
       "      <th>Parch</th>\n",
       "      <th>Ticket</th>\n",
       "      <th>Fare</th>\n",
       "      <th>Cabin</th>\n",
       "      <th>Embarked</th>\n",
       "      <th>LogFare</th>\n",
       "    </tr>\n",
       "  </thead>\n",
       "  <tbody>\n",
       "    <tr>\n",
       "      <th>298</th>\n",
       "      <td>299</td>\n",
       "      <td>1</td>\n",
       "      <td>1</td>\n",
       "      <td>Saalfeld, Mr. Adolphe</td>\n",
       "      <td>1</td>\n",
       "      <td>24.00</td>\n",
       "      <td>0</td>\n",
       "      <td>0</td>\n",
       "      <td>19988</td>\n",
       "      <td>30.5000</td>\n",
       "      <td>C106</td>\n",
       "      <td>2</td>\n",
       "      <td>3.449988</td>\n",
       "    </tr>\n",
       "    <tr>\n",
       "      <th>884</th>\n",
       "      <td>885</td>\n",
       "      <td>0</td>\n",
       "      <td>3</td>\n",
       "      <td>Sutehall, Mr. Henry Jr</td>\n",
       "      <td>1</td>\n",
       "      <td>25.00</td>\n",
       "      <td>0</td>\n",
       "      <td>0</td>\n",
       "      <td>SOTON/OQ 392076</td>\n",
       "      <td>7.0500</td>\n",
       "      <td>B96 B98</td>\n",
       "      <td>2</td>\n",
       "      <td>2.085672</td>\n",
       "    </tr>\n",
       "    <tr>\n",
       "      <th>247</th>\n",
       "      <td>248</td>\n",
       "      <td>1</td>\n",
       "      <td>2</td>\n",
       "      <td>Hamalainen, Mrs. William (Anna)</td>\n",
       "      <td>0</td>\n",
       "      <td>24.00</td>\n",
       "      <td>0</td>\n",
       "      <td>2</td>\n",
       "      <td>250649</td>\n",
       "      <td>14.5000</td>\n",
       "      <td>B96 B98</td>\n",
       "      <td>2</td>\n",
       "      <td>2.740840</td>\n",
       "    </tr>\n",
       "    <tr>\n",
       "      <th>478</th>\n",
       "      <td>479</td>\n",
       "      <td>0</td>\n",
       "      <td>3</td>\n",
       "      <td>Karlsson, Mr. Nils August</td>\n",
       "      <td>1</td>\n",
       "      <td>22.00</td>\n",
       "      <td>0</td>\n",
       "      <td>0</td>\n",
       "      <td>350060</td>\n",
       "      <td>7.5208</td>\n",
       "      <td>B96 B98</td>\n",
       "      <td>2</td>\n",
       "      <td>2.142510</td>\n",
       "    </tr>\n",
       "    <tr>\n",
       "      <th>305</th>\n",
       "      <td>306</td>\n",
       "      <td>1</td>\n",
       "      <td>1</td>\n",
       "      <td>Allison, Master. Hudson Trevor</td>\n",
       "      <td>1</td>\n",
       "      <td>0.92</td>\n",
       "      <td>1</td>\n",
       "      <td>2</td>\n",
       "      <td>113781</td>\n",
       "      <td>151.5500</td>\n",
       "      <td>C22 C26</td>\n",
       "      <td>2</td>\n",
       "      <td>5.027492</td>\n",
       "    </tr>\n",
       "  </tbody>\n",
       "</table>\n",
       "</div>"
      ],
      "text/plain": [
       "     PassengerId  Survived  Pclass                             Name  Sex  \\\n",
       "298          299         1       1            Saalfeld, Mr. Adolphe    1   \n",
       "884          885         0       3           Sutehall, Mr. Henry Jr    1   \n",
       "247          248         1       2  Hamalainen, Mrs. William (Anna)    0   \n",
       "478          479         0       3        Karlsson, Mr. Nils August    1   \n",
       "305          306         1       1   Allison, Master. Hudson Trevor    1   \n",
       "\n",
       "       Age  SibSp  Parch           Ticket      Fare    Cabin  Embarked  \\\n",
       "298  24.00      0      0            19988   30.5000     C106         2   \n",
       "884  25.00      0      0  SOTON/OQ 392076    7.0500  B96 B98         2   \n",
       "247  24.00      0      2           250649   14.5000  B96 B98         2   \n",
       "478  22.00      0      0           350060    7.5208  B96 B98         2   \n",
       "305   0.92      1      2           113781  151.5500  C22 C26         2   \n",
       "\n",
       "      LogFare  \n",
       "298  3.449988  \n",
       "884  2.085672  \n",
       "247  2.740840  \n",
       "478  2.142510  \n",
       "305  5.027492  "
      ]
     },
     "execution_count": 4,
     "metadata": {},
     "output_type": "execute_result"
    }
   ],
   "source": [
    "# Process the data\n",
    "# Random forests dont need dummy variables so we convert them to pandas categorical vars\n",
    "# This is just a number with a lookup back to the string, we then use that the replace the numbers\n",
    "\n",
    "\n",
    "def process_data(frames):\n",
    "    frames[\"Fare\"] = frames.Fare.fillna(0)\n",
    "    frames.fillna(modes, inplace=True)\n",
    "    frames[\"LogFare\"] = np.log1p(frames.Fare)\n",
    "    frames[\"Embarked\"] = pd.Categorical(frames.Embarked)\n",
    "    frames[\"Sex\"] = pd.Categorical(frames.Sex)\n",
    "\n",
    "    frames[cats] = frames[cats].apply(lambda x: x.cat.codes)\n",
    "\n",
    "\n",
    "process_data(train_frames)\n",
    "process_data(val_frames)\n",
    "process_data(test_frames)\n",
    "\n",
    "train_frames.head()"
   ]
  },
  {
   "cell_type": "markdown",
   "id": "5e202d95",
   "metadata": {},
   "source": [
    "## Binary splits\n",
    "\n",
    "Random forests are build from decision trees, to make a decision tree we need to create a binary split.\n",
    "\n",
    "A binary split is where you group rows based on if they are above or below some threshold of some column. eg. Male/Female. In our data set a lot more women (70%) survived than men (20%). So we could make a model that just says all women survive.\n",
    "\n",
    "How good would this model be?"
   ]
  },
  {
   "cell_type": "code",
   "execution_count": 5,
   "id": "151030ee",
   "metadata": {},
   "outputs": [],
   "source": [
    "from sklearn.metrics import mean_absolute_error\n",
    "\n",
    "\n",
    "# Function to split out indeps (x) and dependent (y) vars as separate tuples\n",
    "def get_xy(frame):\n",
    "    x = frame[cats + conts].copy()\n",
    "    y = frame[dep] if dep in frame else None\n",
    "    return x, y\n",
    "\n",
    "\n",
    "train_x, train_y = get_xy(train_frames)\n",
    "val_x, val_y = get_xy(val_frames)"
   ]
  },
  {
   "cell_type": "code",
   "execution_count": 6,
   "id": "dcda5326",
   "metadata": {},
   "outputs": [
    {
     "data": {
      "text/plain": [
       "0.21524663677130046"
      ]
     },
     "execution_count": 6,
     "metadata": {},
     "output_type": "execute_result"
    }
   ],
   "source": [
    "# Apparently not that bad\n",
    "preds = val_x.Sex == 0\n",
    "mean_absolute_error(val_y, preds)"
   ]
  },
  {
   "cell_type": "markdown",
   "id": "6e8ee971",
   "metadata": {},
   "source": [
    "What about splitting on a continuous column like LogFare. Did people who paid more survive more?"
   ]
  },
  {
   "cell_type": "code",
   "execution_count": 7,
   "id": "22f59486",
   "metadata": {},
   "outputs": [
    {
     "data": {
      "text/plain": [
       "0.336322869955157"
      ]
     },
     "execution_count": 7,
     "metadata": {},
     "output_type": "execute_result"
    }
   ],
   "source": [
    "# Less good but not that bad\n",
    "thresh = 2.7  # Avg of survivors was 2.5\n",
    "preds = val_x.LogFare > thresh\n",
    "mean_absolute_error(val_y, preds)"
   ]
  },
  {
   "cell_type": "code",
   "execution_count": 8,
   "id": "52d99213",
   "metadata": {},
   "outputs": [
    {
     "data": {
      "text/plain": [
       "(0.40787530982063946, 0.47180873952099694)"
      ]
     },
     "execution_count": 8,
     "metadata": {},
     "output_type": "execute_result"
    }
   ],
   "source": [
    "# Lets find a way to score any split\n",
    "# The score will be how well the split creates 2 groups that are similar/dissimilar\n",
    "# We'll get the std deviation of the dep var of the each side of the split\n",
    "\n",
    "\n",
    "def side_score(side, y):\n",
    "    total = side.sum()\n",
    "    if total <= 1:\n",
    "        return 0\n",
    "\n",
    "    return y[side].std() * total\n",
    "\n",
    "\n",
    "def score(col, y, split):\n",
    "    lhs = col <= split\n",
    "    rhs = ~lhs\n",
    "\n",
    "    return (side_score(lhs, y) + side_score(rhs, y)) / len(y)\n",
    "\n",
    "\n",
    "# The scores match our previous manual results\n",
    "score(train_x[\"Sex\"], train_y, 0.5), score(train_x[\"LogFare\"], train_y, 2.7)"
   ]
  },
  {
   "cell_type": "code",
   "execution_count": 11,
   "id": "6a02577d",
   "metadata": {},
   "outputs": [
    {
     "data": {
      "application/vnd.jupyter.widget-view+json": {
       "model_id": "74246ab1875f4824aa7a3b4294b80987",
       "version_major": 2,
       "version_minor": 0
      },
      "text/plain": [
       "interactive(children=(Dropdown(description='nm', options=('Age', 'SibSp', 'Parch', 'LogFare', 'Pclass'), value…"
      ]
     },
     "metadata": {},
     "output_type": "display_data"
    },
    {
     "data": {
      "application/vnd.jupyter.widget-view+json": {
       "model_id": "0b9ef5834c8140db9dd88385215cde8f",
       "version_major": 2,
       "version_minor": 0
      },
      "text/plain": [
       "interactive(children=(Dropdown(description='nm', options=('Sex', 'Embarked'), value='Sex'), IntSlider(value=2,…"
      ]
     },
     "metadata": {},
     "output_type": "display_data"
    }
   ],
   "source": [
    "# Pop it in a GUI\n",
    "from ipywidgets import interact\n",
    "from fastai.vision.widgets import *\n",
    "\n",
    "\n",
    "def getScore(nm, split):\n",
    "    col = train_x[nm]\n",
    "    return score(col, train_y, split)\n",
    "\n",
    "\n",
    "interact(nm=conts, split=15.5)(getScore), interact(nm=cats, split=2)(getScore);"
   ]
  },
  {
   "cell_type": "code",
   "execution_count": 22,
   "id": "6c0e2b07",
   "metadata": {},
   "outputs": [
    {
     "data": {
      "text/plain": [
       "(6.0, 0.478316717508991)"
      ]
     },
     "execution_count": 22,
     "metadata": {},
     "output_type": "execute_result"
    }
   ],
   "source": [
    "# That is fun but impractical, lets write a function to find the best split point for every indepenent var and tell us its score\n",
    "def best_score(frames, col_name):\n",
    "    # Pull the single column\n",
    "    x = frames[col_name]\n",
    "    y = frames[dep]\n",
    "\n",
    "    # All possible split points\n",
    "    split_points = x.dropna().unique()\n",
    "\n",
    "    # Calc score at every split\n",
    "    scores = np.array([score(x, y, point) for point in split_points if not np.isnan(point)])\n",
    "\n",
    "    # Find th best (min) score\n",
    "    best_idx = scores.argmin()\n",
    "\n",
    "    return split_points[best_idx], scores[best_idx]\n",
    "\n",
    "\n",
    "best_score(train_frames, \"Age\")"
   ]
  },
  {
   "cell_type": "code",
   "execution_count": 24,
   "id": "0dcafd14",
   "metadata": {},
   "outputs": [
    {
     "data": {
      "text/plain": [
       "{'Sex': (0, 0.40787530982063946),\n",
       " 'Embarked': (0, 0.47883342573147836),\n",
       " 'Age': (6.0, 0.478316717508991),\n",
       " 'SibSp': (4, 0.4783740258817434),\n",
       " 'Parch': (0, 0.4805296527841601),\n",
       " 'LogFare': (2.4390808375825834, 0.4620823937736597),\n",
       " 'Pclass': (2, 0.46048261885806596)}"
      ]
     },
     "execution_count": 24,
     "metadata": {},
     "output_type": "execute_result"
    }
   ],
   "source": [
    "# We can calculate this for all of the columns\n",
    "{name: best_score(train_frames, name) for name in cats + conts}"
   ]
  },
  {
   "cell_type": "markdown",
   "id": "c47d65de",
   "metadata": {},
   "source": [
    "Turns out we picked the best the first time around with Sex.\n",
    "\n",
    "This is pretty much a reinvention of the [OneR classifier](https://link.springer.com/article/10.1023/A:1022631118932), a decision tree with a single split. In the 90's this turned out to be one of the best models."
   ]
  },
  {
   "cell_type": "code",
   "execution_count": null,
   "id": "d70972c3",
   "metadata": {},
   "outputs": [],
   "source": []
  }
 ],
 "metadata": {
  "kernelspec": {
   "display_name": "Python 3 (ipykernel)",
   "language": "python",
   "name": "python3"
  },
  "language_info": {
   "codemirror_mode": {
    "name": "ipython",
    "version": 3
   },
   "file_extension": ".py",
   "mimetype": "text/x-python",
   "name": "python",
   "nbconvert_exporter": "python",
   "pygments_lexer": "ipython3",
   "version": "3.10.12"
  }
 },
 "nbformat": 4,
 "nbformat_minor": 5
}
